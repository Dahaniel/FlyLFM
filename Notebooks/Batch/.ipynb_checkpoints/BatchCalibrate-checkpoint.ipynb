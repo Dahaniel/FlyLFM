{
 "metadata": {
  "name": "",
  "signature": "sha256:3691257b2fbe844b31f40873005cb08b655a4eee46a48ad01a8f4a6a186e702c"
 },
 "nbformat": 3,
 "nbformat_minor": 0,
 "worksheets": [
  {
   "cells": [
    {
     "cell_type": "code",
     "collapsed": false,
     "input": [
      "import os\n",
      "import numpy as np\n",
      "import libtiff \n",
      "import matplotlib.pyplot as plt\n",
      "import sys\n",
      "sys.path.append('/home/sophie/Desktop/stanford_lfanalyze_v0.4')\n",
      "import lfcalibrate\n",
      "\n",
      "import Image\n",
      "from libtiff import TIFFimage\n",
      "from PIL import Image\n",
      "import tifffile as tiff"
     ],
     "language": "python",
     "metadata": {},
     "outputs": [],
     "prompt_number": 12
    },
    {
     "cell_type": "code",
     "collapsed": false,
     "input": [
      "import subprocess"
     ],
     "language": "python",
     "metadata": {},
     "outputs": [],
     "prompt_number": 13
    },
    {
     "cell_type": "code",
     "collapsed": false,
     "input": [
      "%matplotlib inline"
     ],
     "language": "python",
     "metadata": {},
     "outputs": [],
     "prompt_number": 14
    },
    {
     "cell_type": "code",
     "collapsed": false,
     "input": [
      "# Functions"
     ],
     "language": "python",
     "metadata": {},
     "outputs": [],
     "prompt_number": 15
    },
    {
     "cell_type": "code",
     "collapsed": false,
     "input": [
      "def AvIm(path,ID):\n",
      "    \n",
      "    flist=os.listdir(path)\n",
      "    im = Image.open(path+\"/\"+flist[0])\n",
      "    tt= np.array(im)\n",
      "    print(tt.shape)\n",
      "    S=tt.shape\n",
      "    M=np.zeros(len(flist))\n",
      "    AVON=np.zeros(S)\n",
      "    AVOFF=np.zeros(S)\n",
      "    \n",
      "    for i in range(len(os.listdir(path))):\n",
      "        j=i+1\n",
      "        im = Image.open(path+'/'+'Data'+ID+'-'+str(j)+'.tif')\n",
      "        tt = np.array(im)\n",
      "        M[i]=np.mean(np.mean(tt))\n",
      "    Mav=np.mean(M)  \n",
      "    liston=[i for i in range(len(M)) if M[i]>Mav*0.7]\n",
      "    j=0\n",
      "    k=0\n",
      "    \n",
      "    \n",
      "    for i in range(len(os.listdir(path))):\n",
      "        j=i+1\n",
      "        im = Image.open(path+'/'+'Data'+ID+'-'+str(j)+'.tif')\n",
      "        tt = np.array(im)\n",
      "        if i in liston:\n",
      "            AVOFF=AVOFF+tt\n",
      "            j=j+1\n",
      "        else:\n",
      "            AVON=AVON+tt\n",
      "            k=k+1       \n",
      "    \n",
      "    \n",
      "    return M"
     ],
     "language": "python",
     "metadata": {},
     "outputs": [],
     "prompt_number": 16
    },
    {
     "cell_type": "code",
     "collapsed": false,
     "input": [
      "def SaveAvs(path,M,ID):\n",
      "    \n",
      "    flist=os.listdir(path)\n",
      "    im = Image.open(path+\"/\"+flist[0]) \n",
      "    tt= np.array(im)\n",
      "    S=tt.shape\n",
      "    M=np.zeros(len(flist))\n",
      "    AVON=np.zeros(S)\n",
      "    AVOFF=np.zeros(S)\n",
      "\n",
      "    outpath=\"/home/sophie/Desktop/stanford_lfanalyze_v0.4/examples/\"+ID   \n",
      "    \n",
      "    Mav=np.mean(M)\n",
      "    liston=[i for i in range(len(M)) if M[i]>Mav*0.7]\n",
      "    j=0\n",
      "    k=0\n",
      "    \n",
      "    #for i in range(len(os.listdir(path))):\n",
      "    for i in range(500):\n",
      "        l=i+1\n",
      "        im = Image.open(path+'/'+'Data'+ID+'-'+str(l)+'.tif')\n",
      "        tt = np.array(im)\n",
      "        if i in liston:\n",
      "            AVOFF=AVOFF+tt\n",
      "            j=j+1\n",
      "        else:\n",
      "            AVON=AVON+tt\n",
      "            k=k+1       \n",
      "            \n",
      "    AVOFF=np.uint16(AVOFF/j)\n",
      "    AVON=np.uint16(AVON/k)\n",
      "\n",
      "\n",
      "    #data = numpy.zeros((1024,1024),numpy.uint16)\n",
      "    #h,w = data.shape\n",
      "    #for i in range(w):\n",
      "    #    data[:,i] = numpy.arange(h)\n",
      "\n",
      "    #tiff = TIFFimage(AVOFF, description='')\n",
      "    #tiff.write_file(outpath+'/'+'Avoff.tif', compression='lzw')\n",
      "    #del tiff\n",
      "    \n",
      "    tiff.imsave(outpath+'/'+'Avoff.tif', AVOFF)\n",
      "    tiff.imsave(outpath+'/'+'Avon.tif', AVON)    \n",
      "    #tiff = TIFFimage(AVON, description='')\n",
      "    #tiff.write_file(outpath+'/'+'Avon.tif', compression='lzw')\n",
      "    #del tiff    \n"
     ],
     "language": "python",
     "metadata": {},
     "outputs": [],
     "prompt_number": 22
    },
    {
     "cell_type": "code",
     "collapsed": false,
     "input": [
      "def getpath(ID):\n",
      "    \n",
      "    path1=\"/media/Buffer/Data\"+ID\n",
      "    path2=\"/media/Buffer/Data\"+ID\n",
      "\n",
      "    if os.path.exists(path1):\n",
      "        path=path1\n",
      "    else:\n",
      "        path=path2\n",
      "            \n",
      "    return path"
     ],
     "language": "python",
     "metadata": {},
     "outputs": [],
     "prompt_number": 18
    },
    {
     "cell_type": "code",
     "collapsed": false,
     "input": [
      "def makeoutfolder(ID):\n",
      "    outpath=\"/home/sophie/Desktop/stanford_lfanalyze_v0.4/examples/\"+ID     \n",
      "    if os.path.exists(outpath):\n",
      "        \"nope\"\n",
      "    else:\n",
      "        os.makedirs(\"/home/sophie/Desktop/stanford_lfanalyze_v0.4/examples/\"+ID)"
     ],
     "language": "python",
     "metadata": {},
     "outputs": [],
     "prompt_number": 19
    },
    {
     "cell_type": "code",
     "collapsed": false,
     "input": [
      "filename=\"/home/sophie/Desktop/ListeToAnalyze\"\n",
      "Listfile = open(filename, 'r')\n",
      "ListToAnalyze = [line.split('\\n')[0] for line in Listfile.readlines()]"
     ],
     "language": "python",
     "metadata": {},
     "outputs": [],
     "prompt_number": 20
    },
    {
     "cell_type": "code",
     "collapsed": false,
     "input": [
      "for ID in ListToAnalyze:\n",
      "    \n",
      "    print(ID)\n",
      "    path=getpath(ID)\n",
      "    #makeoutfolder(ID)\n",
      "    #M=AvIm(path,ID)\n",
      "    SaveAvs(path,M,ID)\n",
      "    outpath=\"/home/sophie/Desktop/stanford_lfanalyze_v0.4/examples/\"+ID  \n",
      "    bashCommand = \"python /home/sophie/Desktop/stanford_lfanalyze_v0.4/lfcalibrate.py \"+outpath+'/'+\"Avon.tif --dark-frame \"+outpath+'/'+\"Avoff.tif --pixel-size 6.5 --pitch 125 --focal-length 1250 --magnification 40 --na 0.8 --tubelens-focal-length 180.0 --wavelength 510 --medium-index 1.33 --num-slices 80 --um-per-slice 3.0 --supersample 2 -o \"+outpath+'/'+ID+\"_ss2_f1250_3microns.lfc\"\n",
      "    process = subprocess.Popen(bashCommand.split(), stdout=subprocess.PIPE)\n",
      "    output = process.communicate()[0]\n",
      "    \n"
     ],
     "language": "python",
     "metadata": {},
     "outputs": [
      {
       "output_type": "stream",
       "stream": "stdout",
       "text": [
        "816\n",
        "817"
       ]
      },
      {
       "output_type": "stream",
       "stream": "stdout",
       "text": [
        "\n",
        "818"
       ]
      },
      {
       "output_type": "stream",
       "stream": "stdout",
       "text": [
        "\n",
        "819"
       ]
      },
      {
       "output_type": "stream",
       "stream": "stdout",
       "text": [
        "\n"
       ]
      }
     ],
     "prompt_number": 27
    },
    {
     "cell_type": "code",
     "collapsed": false,
     "input": [
      "ID='100110'\n",
      "outpath=\"/home/sophie/Desktop/stanford_lfanalyze_v0.4/examples/\"+ID  \n",
      "bashCommand = \"python /home/sophie/Desktop/stanford_lfanalyze_v0.4/lfcalibrate.py \"+outpath+'/'+\"Avon.tif --dark-frame \"+outpath+'/'+\"Avoff.tif --pixel-size 6.5 --pitch 125 --focal-length 3125 --magnification 40 --na 0.8 --tubelens-focal-length 180.0 --wavelength 510 --medium-index 1.33 --num-slices 40 --um-per-slice 6.0 --supersample 2 -o \"+outpath+'/'+ID+\"_ss2_f3125_6microns.lfc\"\n",
      "process = subprocess.Popen(bashCommand.split(), stdout=subprocess.PIPE)\n",
      "output = process.communicate()[0]"
     ],
     "language": "python",
     "metadata": {},
     "outputs": []
    },
    {
     "cell_type": "code",
     "collapsed": false,
     "input": [
      "for ID in ListToAnalyze:\n",
      "    path=getpath(ID)\n",
      "    pathfile=path+'/'+\"Data\"+ID+\"-318.tif\" \n",
      "    pathfile=str.replace(pathfile,\" \",\"\\ \")\n",
      "    print(pathfile)\n",
      "    outpath=\"/home/sophie/Desktop/stanford_lfanalyze_v0.4/examples/\"+ID+'/'\n",
      "    os.system('cp \"%s\" \"%s\"' % (outpath,pathfile) )\n",
      "    bashCommand = \"/usr/bin/python2.7 /home/sophie/Desktop/stanford_lfanalyze_v0.4/lfdeconvolve.py \"+outpath+\"Data\"+ID+\"-318.tif -c \"+outpath+ID+\"_ss2_f3125_6microns.lfc -o \"+outpath+ID+\"ss2.tif\"\n",
      "    process = subprocess.Popen(bashCommand.split(), stdout=subprocess.PIPE)\n",
      "    output = process.communicate()[0]"
     ],
     "language": "python",
     "metadata": {},
     "outputs": [
      {
       "output_type": "stream",
       "stream": "stdout",
       "text": [
        "/media/Buffer/Data816/Data816-318.tif\n",
        "/media/Buffer/Data817/Data817-318.tif"
       ]
      },
      {
       "output_type": "stream",
       "stream": "stdout",
       "text": [
        "\n",
        "/media/Buffer/Data818/Data818-318.tif"
       ]
      },
      {
       "output_type": "stream",
       "stream": "stdout",
       "text": [
        "\n",
        "/media/Buffer/Data819/Data819-318.tif"
       ]
      },
      {
       "output_type": "stream",
       "stream": "stdout",
       "text": [
        "\n"
       ]
      }
     ],
     "prompt_number": 35
    },
    {
     "cell_type": "raw",
     "metadata": {},
     "source": [
      "outpath=\"/home/sophie/Desktop/stanford_lfanalyze_v0.4/examples/\"+ID  \n",
      "    \n",
      "  "
     ]
    },
    {
     "cell_type": "code",
     "collapsed": false,
     "input": [
      "SaveAvs(path,M,ID)"
     ],
     "language": "python",
     "metadata": {},
     "outputs": []
    },
    {
     "cell_type": "code",
     "collapsed": false,
     "input": [
      "process = subprocess.Popen(bashCommand.split(), stdout=subprocess.PIPE)\n",
      "output = process.communicate()[0]"
     ],
     "language": "python",
     "metadata": {},
     "outputs": []
    },
    {
     "cell_type": "code",
     "collapsed": false,
     "input": [],
     "language": "python",
     "metadata": {},
     "outputs": []
    },
    {
     "cell_type": "code",
     "collapsed": false,
     "input": [],
     "language": "python",
     "metadata": {},
     "outputs": []
    },
    {
     "cell_type": "code",
     "collapsed": false,
     "input": [],
     "language": "python",
     "metadata": {},
     "outputs": []
    }
   ],
   "metadata": {}
  }
 ]
}