{
 "metadata": {
  "name": "",
  "signature": "sha256:a4486e744de75749089d222757339c447aa94ab740814de34557bb884025f350"
 },
 "nbformat": 3,
 "nbformat_minor": 0,
 "worksheets": [
  {
   "cells": [
    {
     "cell_type": "code",
     "collapsed": false,
     "input": [
      "import os\n",
      "import numpy as np\n",
      "import libtiff \n",
      "import matplotlib.pyplot as plt\n",
      "import sys\n",
      "sys.path.append('/home/sophie/Desktop/stanford_lfanalyze_v0.4')\n",
      "import lfcalibrate\n",
      "\n",
      "import Image\n",
      "from libtiff import TIFFimage\n",
      "from PIL import Image\n",
      "import tifffile as tiff"
     ],
     "language": "python",
     "metadata": {},
     "outputs": [],
     "prompt_number": 1
    },
    {
     "cell_type": "code",
     "collapsed": false,
     "input": [
      "import subprocess"
     ],
     "language": "python",
     "metadata": {},
     "outputs": [],
     "prompt_number": 2
    },
    {
     "cell_type": "code",
     "collapsed": false,
     "input": [
      "%matplotlib inline"
     ],
     "language": "python",
     "metadata": {},
     "outputs": [],
     "prompt_number": 3
    },
    {
     "cell_type": "code",
     "collapsed": false,
     "input": [
      "# Functions"
     ],
     "language": "python",
     "metadata": {},
     "outputs": [],
     "prompt_number": 4
    },
    {
     "cell_type": "code",
     "collapsed": false,
     "input": [
      "def AvIm(path,ID):\n",
      "    \n",
      "    flist=os.listdir(path)\n",
      "    im = Image.open(path+\"/\"+flist[0])\n",
      "    tt= np.array(im)\n",
      "    print(tt.shape)\n",
      "    S=tt.shape\n",
      "    M=np.zeros(len(flist))\n",
      "    AVON=np.zeros(S)\n",
      "    AVOFF=np.zeros(S)\n",
      "    \n",
      "    for i in range(len(os.listdir(path))):\n",
      "        j=i+1\n",
      "        im = Image.open(path+'/'+'Data'+ID+'_'+str(j)+'.tif')\n",
      "        tt = np.array(im)\n",
      "        M[i]=np.mean(np.mean(tt))\n",
      "    Mav=np.mean(M)  \n",
      "    liston=[i for i in range(len(M)) if M[i]>Mav*0.7]\n",
      "    j=0\n",
      "    k=0\n",
      "    \n",
      "    \n",
      "    for i in range(len(os.listdir(path))):\n",
      "        j=i+1\n",
      "        im = Image.open(path+'/'+'Data'+ID+'_'+str(j)+'.tif')\n",
      "        tt = np.array(im)\n",
      "        if i in liston:\n",
      "            AVOFF=AVOFF+tt\n",
      "            j=j+1\n",
      "        else:\n",
      "            AVON=AVON+tt\n",
      "            k=k+1       \n",
      "    \n",
      "    \n",
      "    return M"
     ],
     "language": "python",
     "metadata": {},
     "outputs": [],
     "prompt_number": 5
    },
    {
     "cell_type": "code",
     "collapsed": false,
     "input": [
      "def SaveAvs(path,M,ID):\n",
      "    \n",
      "    flist=os.listdir(path)\n",
      "    im = Image.open(path+\"/\"+flist[0]) \n",
      "    tt= np.array(im)\n",
      "    S=tt.shape\n",
      "    M=np.zeros(len(flist))\n",
      "    AVON=np.zeros(S)\n",
      "    AVOFF=np.zeros(S)\n",
      "\n",
      "    outpath=\"/home/sophie/Desktop/stanford_lfanalyze_v0.4/examples/\"+ID   \n",
      "    \n",
      "    Mav=np.mean(M)\n",
      "    liston=[i for i in range(len(M)) if M[i]>Mav*0.7]\n",
      "    j=0\n",
      "    k=0\n",
      "    \n",
      "    #for i in range(len(os.listdir(path))):\n",
      "    for i in range(500):\n",
      "        l=i+1\n",
      "        im = Image.open(path+'/'+'Data'+ID+'_'+str(l)+'.tif')\n",
      "        tt = np.array(im)\n",
      "        if i in liston:\n",
      "            AVOFF=AVOFF+tt\n",
      "            j=j+1\n",
      "        else:\n",
      "            AVON=AVON+tt\n",
      "            k=k+1       \n",
      "            \n",
      "    AVOFF=np.uint16(AVOFF/j)\n",
      "    AVON=np.uint16(AVON/k)\n",
      "\n",
      "\n",
      "    #data = numpy.zeros((1024,1024),numpy.uint16)\n",
      "    #h,w = data.shape\n",
      "    #for i in range(w):\n",
      "    #    data[:,i] = numpy.arange(h)\n",
      "\n",
      "    #tiff = TIFFimage(AVOFF, description='')\n",
      "    #tiff.write_file(outpath+'/'+'Avoff.tif', compression='lzw')\n",
      "    #del tiff\n",
      "    \n",
      "    tiff.imsave(outpath+'/'+'Avoff.tif', AVOFF)\n",
      "    tiff.imsave(outpath+'/'+'Avon.tif', AVON)    \n",
      "    #tiff = TIFFimage(AVON, description='')\n",
      "    #tiff.write_file(outpath+'/'+'Avon.tif', compression='lzw')\n",
      "    #del tiff    \n"
     ],
     "language": "python",
     "metadata": {},
     "outputs": [],
     "prompt_number": 6
    },
    {
     "cell_type": "code",
     "collapsed": false,
     "input": [
      "def getpath(ID):\n",
      "    \n",
      "    path1=\"/media/13B1AB0B0CDF70E7/Data\"+ID\n",
      "    path2=\"/media/37CBFB3B232190D8/Data\"+ID\n",
      "\n",
      "    if os.path.exists(path1):\n",
      "        path=path1\n",
      "    else:\n",
      "        path=path2\n",
      "            \n",
      "    return path"
     ],
     "language": "python",
     "metadata": {},
     "outputs": [],
     "prompt_number": 7
    },
    {
     "cell_type": "code",
     "collapsed": false,
     "input": [
      "def makeoutfolder(ID):\n",
      "    outpath=\"/home/sophie/Desktop/stanford_lfanalyze_v0.4/examples/\"+ID     \n",
      "    if os.path.exists(outpath):\n",
      "        \"nope\"\n",
      "    else:\n",
      "        os.makedirs(\"/home/sophie/Desktop/stanford_lfanalyze_v0.4/examples/\"+ID)"
     ],
     "language": "python",
     "metadata": {},
     "outputs": [],
     "prompt_number": 8
    },
    {
     "cell_type": "code",
     "collapsed": false,
     "input": [
      "filename=\"/home/sophie/Desktop/ListeToAnalyze\"\n",
      "Listfile = open(filename, 'r')\n",
      "ListToAnalyze = [line.split('\\n')[0] for line in Listfile.readlines()]"
     ],
     "language": "python",
     "metadata": {},
     "outputs": [],
     "prompt_number": 9
    },
    {
     "cell_type": "code",
     "collapsed": false,
     "input": [
      "for ID in ListToAnalyze:\n",
      "    \n",
      "    print(ID)\n",
      "    path=getpath(ID)\n",
      "    makeoutfolder(ID)\n",
      "    M=AvIm(path,ID)\n",
      "    SaveAvs(path,M,ID)\n",
      "    outpath=\"/home/sophie/Desktop/stanford_lfanalyze_v0.4/examples/\"+ID  \n",
      "    bashCommand = \"python /home/sophie/Desktop/stanford_lfanalyze_v0.4/lfcalibrate.py \"+outpath+'/'+\"Avon.tif --dark-frame \"+outpath+'/'+\"Avoff.tif --pixel-size 6.5 --pitch 125 --focal-length 1250 --magnification 40 --na 0.8 --tubelens-focal-length 180.0 --wavelength 510 --medium-index 1.33 --num-slices 36 --um-per-slice 6.0 --supersample 1 -o \"+outpath+'/'+ID+\"_ss1_f1250_6microns.lfc\"\n",
      "    process = subprocess.Popen(bashCommand.split(), stdout=subprocess.PIPE)\n",
      "    output = process.communicate()[0]\n",
      "    \n"
     ],
     "language": "python",
     "metadata": {},
     "outputs": [
      {
       "output_type": "stream",
       "stream": "stdout",
       "text": [
        "100174\n",
        "(2048, 2048)"
       ]
      },
      {
       "output_type": "stream",
       "stream": "stdout",
       "text": [
        "\n"
       ]
      },
      {
       "output_type": "stream",
       "stream": "stdout",
       "text": [
        "\n"
       ]
      },
      {
       "output_type": "stream",
       "stream": "stderr",
       "text": [
        "-c:30: RuntimeWarning: invalid value encountered in divide\n"
       ]
      },
      {
       "ename": "OSError",
       "evalue": "[Errno 2] No such file or directory: '/media/37CBFB3B232190D8/Data'",
       "output_type": "pyerr",
       "traceback": [
        "\u001b[1;31m---------------------------------------------------------------------------\u001b[0m\n\u001b[1;31mOSError\u001b[0m                                   Traceback (most recent call last)",
        "\u001b[1;32m<ipython-input-10-8adb8180d16f>\u001b[0m in \u001b[0;36m<module>\u001b[1;34m()\u001b[0m\n\u001b[0;32m      4\u001b[0m     \u001b[0mpath\u001b[0m\u001b[1;33m=\u001b[0m\u001b[0mgetpath\u001b[0m\u001b[1;33m(\u001b[0m\u001b[0mID\u001b[0m\u001b[1;33m)\u001b[0m\u001b[1;33m\u001b[0m\u001b[0m\n\u001b[0;32m      5\u001b[0m     \u001b[0mmakeoutfolder\u001b[0m\u001b[1;33m(\u001b[0m\u001b[0mID\u001b[0m\u001b[1;33m)\u001b[0m\u001b[1;33m\u001b[0m\u001b[0m\n\u001b[1;32m----> 6\u001b[1;33m     \u001b[0mM\u001b[0m\u001b[1;33m=\u001b[0m\u001b[0mAvIm\u001b[0m\u001b[1;33m(\u001b[0m\u001b[0mpath\u001b[0m\u001b[1;33m,\u001b[0m\u001b[0mID\u001b[0m\u001b[1;33m)\u001b[0m\u001b[1;33m\u001b[0m\u001b[0m\n\u001b[0m\u001b[0;32m      7\u001b[0m     \u001b[0mSaveAvs\u001b[0m\u001b[1;33m(\u001b[0m\u001b[0mpath\u001b[0m\u001b[1;33m,\u001b[0m\u001b[0mM\u001b[0m\u001b[1;33m,\u001b[0m\u001b[0mID\u001b[0m\u001b[1;33m)\u001b[0m\u001b[1;33m\u001b[0m\u001b[0m\n\u001b[0;32m      8\u001b[0m     \u001b[0moutpath\u001b[0m\u001b[1;33m=\u001b[0m\u001b[1;34m\"/home/sophie/Desktop/stanford_lfanalyze_v0.4/examples/\"\u001b[0m\u001b[1;33m+\u001b[0m\u001b[0mID\u001b[0m\u001b[1;33m\u001b[0m\u001b[0m\n",
        "\u001b[1;32m<ipython-input-5-060cb84d1883>\u001b[0m in \u001b[0;36mAvIm\u001b[1;34m(path, ID)\u001b[0m\n\u001b[0;32m      1\u001b[0m \u001b[1;32mdef\u001b[0m \u001b[0mAvIm\u001b[0m\u001b[1;33m(\u001b[0m\u001b[0mpath\u001b[0m\u001b[1;33m,\u001b[0m\u001b[0mID\u001b[0m\u001b[1;33m)\u001b[0m\u001b[1;33m:\u001b[0m\u001b[1;33m\u001b[0m\u001b[0m\n\u001b[0;32m      2\u001b[0m \u001b[1;33m\u001b[0m\u001b[0m\n\u001b[1;32m----> 3\u001b[1;33m     \u001b[0mflist\u001b[0m\u001b[1;33m=\u001b[0m\u001b[0mos\u001b[0m\u001b[1;33m.\u001b[0m\u001b[0mlistdir\u001b[0m\u001b[1;33m(\u001b[0m\u001b[0mpath\u001b[0m\u001b[1;33m)\u001b[0m\u001b[1;33m\u001b[0m\u001b[0m\n\u001b[0m\u001b[0;32m      4\u001b[0m     \u001b[0mim\u001b[0m \u001b[1;33m=\u001b[0m \u001b[0mImage\u001b[0m\u001b[1;33m.\u001b[0m\u001b[0mopen\u001b[0m\u001b[1;33m(\u001b[0m\u001b[0mpath\u001b[0m\u001b[1;33m+\u001b[0m\u001b[1;34m\"/\"\u001b[0m\u001b[1;33m+\u001b[0m\u001b[0mflist\u001b[0m\u001b[1;33m[\u001b[0m\u001b[1;36m0\u001b[0m\u001b[1;33m]\u001b[0m\u001b[1;33m)\u001b[0m\u001b[1;33m\u001b[0m\u001b[0m\n\u001b[0;32m      5\u001b[0m     \u001b[0mtt\u001b[0m\u001b[1;33m=\u001b[0m \u001b[0mnp\u001b[0m\u001b[1;33m.\u001b[0m\u001b[0marray\u001b[0m\u001b[1;33m(\u001b[0m\u001b[0mim\u001b[0m\u001b[1;33m)\u001b[0m\u001b[1;33m\u001b[0m\u001b[0m\n",
        "\u001b[1;31mOSError\u001b[0m: [Errno 2] No such file or directory: '/media/37CBFB3B232190D8/Data'"
       ]
      }
     ],
     "prompt_number": 10
    },
    {
     "cell_type": "code",
     "collapsed": false,
     "input": [
      "for ID in ListToAnalyze:\n",
      "    path=getpath(ID)\n",
      "    pathfile=path+'/'+\"Data\"+ID+\"-318.tif\" \n",
      "    pathfile=str.replace(pathfile,\" \",\"\\ \")\n",
      "    print(pathfile)\n",
      "    outpath=\"/home/sophie/Desktop/stanford_lfanalyze_v0.4/examples/\"+ID+'/'\n",
      "    os.system('cp \"%s\" \"%s\"' % (outpath,pathfile) )\n",
      "    bashCommand = \"/usr/bin/python2.7 /home/sophie/Desktop/stanford_lfanalyze_v0.4/lfdeconvolve.py \"+outpath+\"Data\"+ID+\"-318.tif -c \"+outpath+ID+\"_ss1_f1250_6microns.lfc -o \"+outpath+ID+\"ss1.tif\"\n",
      "    process = subprocess.Popen(bashCommand.split(), stdout=subprocess.PIPE)\n",
      "    output = process.communicate()[0]"
     ],
     "language": "python",
     "metadata": {},
     "outputs": []
    },
    {
     "cell_type": "code",
     "collapsed": false,
     "input": [
      "ID='100110'\n",
      "outpath=\"/home/sophie/Desktop/stanford_lfanalyze_v0.4/examples/\"+ID  \n",
      "bashCommand = \"python /home/sophie/Desktop/stanford_lfanalyze_v0.4/lfcalibrate.py \"+outpath+'/'+\"Avon.tif --dark-frame \"+outpath+'/'+\"Avoff.tif --pixel-size 6.5 --pitch 125 --focal-length 3125 --magnification 40 --na 0.8 --tubelens-focal-length 180.0 --wavelength 510 --medium-index 1.33 --num-slices 40 --um-per-slice 6.0 --supersample 2 -o \"+outpath+'/'+ID+\"_ss2_f3125_6microns.lfc\"\n",
      "process = subprocess.Popen(bashCommand.split(), stdout=subprocess.PIPE)\n",
      "output = process.communicate()[0]"
     ],
     "language": "python",
     "metadata": {},
     "outputs": []
    },
    {
     "cell_type": "raw",
     "metadata": {},
     "source": [
      "outpath=\"/home/sophie/Desktop/stanford_lfanalyze_v0.4/examples/\"+ID  \n",
      "    \n",
      "  "
     ]
    },
    {
     "cell_type": "code",
     "collapsed": false,
     "input": [
      "SaveAvs(path,M,ID)"
     ],
     "language": "python",
     "metadata": {},
     "outputs": []
    },
    {
     "cell_type": "code",
     "collapsed": false,
     "input": [
      "process = subprocess.Popen(bashCommand.split(), stdout=subprocess.PIPE)\n",
      "output = process.communicate()[0]"
     ],
     "language": "python",
     "metadata": {},
     "outputs": []
    },
    {
     "cell_type": "code",
     "collapsed": false,
     "input": [],
     "language": "python",
     "metadata": {},
     "outputs": []
    },
    {
     "cell_type": "code",
     "collapsed": false,
     "input": [],
     "language": "python",
     "metadata": {},
     "outputs": []
    },
    {
     "cell_type": "code",
     "collapsed": false,
     "input": [],
     "language": "python",
     "metadata": {},
     "outputs": []
    }
   ],
   "metadata": {}
  }
 ]
}