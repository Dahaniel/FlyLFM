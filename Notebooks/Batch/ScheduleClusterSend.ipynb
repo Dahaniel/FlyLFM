{
 "metadata": {
  "name": "",
  "signature": "sha256:007ed50705575fefc5b719d5f074881dade3018ffa087f722e5fbf39f72fc54d"
 },
 "nbformat": 3,
 "nbformat_minor": 0,
 "worksheets": [
  {
   "cells": [
    {
     "cell_type": "code",
     "collapsed": false,
     "input": [
      "import os\n",
      "import numpy as np\n",
      "import libtiff \n",
      "import matplotlib.pyplot as plt\n",
      "import sys\n",
      "import Image\n",
      "from libtiff import TIFFimage\n",
      "from PIL import Image\n",
      "import tifffile as tiff\n",
      "import subprocess\n",
      "import fileinput\n",
      "import datetime\n",
      "from threading import Timer\n",
      "import time"
     ],
     "language": "python",
     "metadata": {},
     "outputs": [],
     "prompt_number": 1
    },
    {
     "cell_type": "code",
     "collapsed": false,
     "input": [
      "def ReplaceID(prevID,newID):\n",
      "    filein=\"/home/sophie/Desktop/sophie/nodesendsopfor.R\"\n",
      "    f = open(filein,'r')\n",
      "    filedata = f.read()\n",
      "    f.close()\n",
      "\n",
      "    newdata = filedata.replace(prevID,newID)\n",
      "\n",
      "    f = open(filein,'w')\n",
      "    f.write(newdata)\n",
      "    f.close()"
     ],
     "language": "python",
     "metadata": {},
     "outputs": [],
     "prompt_number": 2
    },
    {
     "cell_type": "code",
     "collapsed": false,
     "input": [
      "#rm file_list mkcmd_1to 14\n",
      "def RemoveOldFiles():\n",
      "    bashCommand = \"rm /home/sophie/Desktop/sophie/file_list\"\n",
      "    process = subprocess.Popen(bashCommand.split(), stdout=subprocess.PIPE)\n",
      "    output = process.communicate()[0]\n",
      "    \n",
      "    for i in range(14):\n",
      "        j=i+1\n",
      "    \n",
      "        bashCommand = \"rm /home/sophie/Desktop/sophie/mkcmd_\"+str(j)\n",
      "        process = subprocess.Popen(bashCommand.split(), stdout=subprocess.PIPE)\n",
      "        output = process.communicate()[0]"
     ],
     "language": "python",
     "metadata": {},
     "outputs": [],
     "prompt_number": 3
    },
    {
     "cell_type": "code",
     "collapsed": false,
     "input": [
      "def getpath(ID):\n",
      "    \n",
      "    path1=\"/media/Seagate Backup Plus Drive/Data\"+ID\n",
      "    path2=\"/media/Seagate Expansion Drive/Data\"+ID\n",
      "\n",
      "    if os.path.exists(path1):\n",
      "        path=path1\n",
      "    else:\n",
      "        path=path2\n",
      "            \n",
      "    return path"
     ],
     "language": "python",
     "metadata": {},
     "outputs": [],
     "prompt_number": 4
    },
    {
     "cell_type": "code",
     "collapsed": false,
     "input": [
      "#copy files to nexcave\n",
      "def CopyFiles(ID):\n",
      "    path=getpath(ID)\n",
      "    remotehost='saimon@nexcave.ucsd.edu'\n",
      "    remotefile='/home/saimon/data/'\n",
      "    os.system('scp -r \"%s\" \"%s:%s\"' % (path, remotehost, remotefile) )\n",
      "    outpath=\"/home/sophie/Desktop/stanford_lfanalyze_v0.4/examples/\"+ID \n",
      "    calibfile=outpath+'/'+ID+\"_ss1_f1250_6microns.lfc\"\n",
      "    os.system('scp \"%s\" \"%s:%s\"' % (calibfile, remotehost, remotefile) )    \n",
      "    "
     ],
     "language": "python",
     "metadata": {},
     "outputs": [],
     "prompt_number": 5
    },
    {
     "cell_type": "code",
     "collapsed": false,
     "input": [
      "#make file list to know length silly way\n",
      "def SendtoNexcave(ID):\n",
      "    path=getpath(ID)\n",
      "    filelist='/home/sophie/Desktop/sophie/file_list'\n",
      "    os.system('ls -rt \"%s\" > \"%s\"' % (path,filelist) )\n",
      "    os.system('R < /home/sophie/Desktop/sophie/sendscript.R --no-save')\n",
      "    #os.system('/home/sophie/Desktop/sophie/./GT')\n",
      "    os.system('sudo /home/sophie/Desktop/sophie/./mk')    "
     ],
     "language": "python",
     "metadata": {},
     "outputs": [],
     "prompt_number": 6
    },
    {
     "cell_type": "code",
     "collapsed": false,
     "input": [
      "def SendAll(prevID,newID):\n",
      "    ReplaceID(prevID,newID)\n",
      "    RemoveOldFiles()\n",
      "    CopyFiles(newID)\n",
      "    SendtoNexcave(newID)"
     ],
     "language": "python",
     "metadata": {},
     "outputs": [],
     "prompt_number": 7
    },
    {
     "cell_type": "code",
     "collapsed": false,
     "input": [
      "filename=\"/home/sophie/Desktop/ListeToAnalyze\"\n",
      "Listfile = open(filename, 'r')\n",
      "ListToAnalyze = [line.split('\\n')[0] for line in Listfile.readlines()]\n",
      "prevID=ListToAnalyze[18]\n",
      "for i in range(19,len(ListToAnalyze)):\n",
      "    newID=ListToAnalyze[i]\n",
      "    #t = datetime.datetime.today()\n",
      "    #future = datetime.datetime(t.year,t.month,t.day,21,0)\n",
      "    #time.sleep((future-t).seconds)\n",
      "    print('send'+newID)\n",
      "    SendAll(prevID,newID)\n",
      "    \n",
      "    t = datetime.datetime.today()\n",
      "    future = datetime.datetime(t.year,t.month,t.day,9,0)\n",
      "    time.sleep((future-t).seconds)   \n",
      "    \n",
      "    ExitNexcave()\n",
      "    prevID=newID\n",
      "    # do 2AM stuff   \n",
      "\n",
      "#t = Timer(secs, SendAll())\n",
      "#t.start()"
     ],
     "language": "python",
     "metadata": {},
     "outputs": []
    },
    {
     "cell_type": "code",
     "collapsed": false,
     "input": [
      "# close all previous \n",
      "def ExitNexcave():\n",
      "    os.system(\"rm /home/sophie/Desktop/sophie/toclose\")\n",
      "    os.system(\"ps -C ssh > /home/sophie/Desktop/sophie/toclose\")\n",
      "    Listfile = open(\"/home/sophie/Desktop/sophie/toclose\", 'r')\n",
      "    ListToClose = [line.split('\\n')[0] for line in Listfile.readlines()]\n",
      "    for i in range(1,len(ListToClose)):\n",
      "        PID=ListToClose[i].split(' ')[0]\n",
      "        print(PID)\n",
      "        os.system(\"kill \"+PID)\n",
      "    print(ListToClose)"
     ],
     "language": "python",
     "metadata": {},
     "outputs": [],
     "prompt_number": 15
    },
    {
     "cell_type": "code",
     "collapsed": false,
     "input": [
      "ExitNexcave()"
     ],
     "language": "python",
     "metadata": {},
     "outputs": [
      {
       "output_type": "stream",
       "stream": "stdout",
       "text": [
        "10086\n",
        "10091\n",
        "10096\n",
        "10101\n",
        "10106\n",
        "10111\n",
        "10116\n",
        "10121\n",
        "10126\n",
        "10131\n",
        "10146\n",
        "['  PID TTY          TIME CMD', '10086 pts/16   00:00:00 ssh', '10091 pts/17   00:00:00 ssh', '10096 pts/18   00:00:00 ssh', '10101 pts/19   00:00:00 ssh', '10106 pts/20   00:00:00 ssh', '10111 pts/21   00:00:00 ssh', '10116 pts/22   00:00:00 ssh', '10121 pts/23   00:00:00 ssh', '10126 pts/24   00:00:00 ssh', '10131 pts/25   00:00:00 ssh', '10146 pts/26   00:00:00 ssh']"
       ]
      },
      {
       "output_type": "stream",
       "stream": "stdout",
       "text": [
        "\n"
       ]
      }
     ],
     "prompt_number": 16
    },
    {
     "cell_type": "code",
     "collapsed": false,
     "input": [
      "ListToClose"
     ],
     "language": "python",
     "metadata": {},
     "outputs": [
      {
       "ename": "NameError",
       "evalue": "name 'ListToClose' is not defined",
       "output_type": "pyerr",
       "traceback": [
        "\u001b[1;31m---------------------------------------------------------------------------\u001b[0m\n\u001b[1;31mNameError\u001b[0m                                 Traceback (most recent call last)",
        "\u001b[1;32m<ipython-input-12-2e4e84a9d9eb>\u001b[0m in \u001b[0;36m<module>\u001b[1;34m()\u001b[0m\n\u001b[1;32m----> 1\u001b[1;33m \u001b[0mListToClose\u001b[0m\u001b[1;33m\u001b[0m\u001b[0m\n\u001b[0m",
        "\u001b[1;31mNameError\u001b[0m: name 'ListToClose' is not defined"
       ]
      }
     ],
     "prompt_number": 12
    },
    {
     "cell_type": "code",
     "collapsed": false,
     "input": [],
     "language": "python",
     "metadata": {},
     "outputs": []
    }
   ],
   "metadata": {}
  }
 ]
}