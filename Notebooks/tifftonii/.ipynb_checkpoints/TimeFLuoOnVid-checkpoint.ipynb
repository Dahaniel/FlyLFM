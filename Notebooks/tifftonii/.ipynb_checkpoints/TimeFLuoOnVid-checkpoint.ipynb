{
 "cells": [
  {
   "cell_type": "code",
   "execution_count": 18,
   "metadata": {
    "collapsed": false
   },
   "outputs": [
    {
     "name": "stdout",
     "output_type": "stream",
     "text": [
      "\u001b[H\u001b[2J"
     ]
    }
   ],
   "source": [
    "clear all"
   ]
  },
  {
   "cell_type": "code",
   "execution_count": 19,
   "metadata": {
    "collapsed": false
   },
   "outputs": [],
   "source": [
    "import nibabel as nb\n",
    "import os\n",
    "import numpy as np\n",
    "import scipy.io as sio\n",
    "import scipy.optimize\n",
    "from Tkinter import Tk\n",
    "from tkFileDialog import askdirectory\n",
    "import libtiff \n",
    "import matplotlib.pyplot as plt\n",
    "from Tkinter import Tk\n",
    "from tkFileDialog import askopenfilename\n",
    "import cv2\n",
    "%matplotlib inline"
   ]
  },
  {
   "cell_type": "markdown",
   "metadata": {},
   "source": [
    "# Get video time"
   ]
  },
  {
   "cell_type": "markdown",
   "metadata": {},
   "source": [
    "unfortunately that doesn't work\n",
    "from pymatbridge import Matlab\n",
    "mlab = Matlab()\n",
    "mlab = Matlab(executable='/usr/local/MATLAB/R2014b/bin/matlab')\n",
    "mlab.start()\n",
    "res = mlab.run_func('/home/sophie/git/FlyLFM/MatlabFiles/Behavior/avi2time4python.m',{'arg1':'/media/sophie2/945/combo_2015-06-19-215802-0000.avi'})\n",
    "print(res['result'])\n",
    "exit()"
   ]
  },
  {
   "cell_type": "code",
   "execution_count": 20,
   "metadata": {
    "collapsed": false
   },
   "outputs": [
    {
     "name": "stdout",
     "output_type": "stream",
     "text": [
      "/media/sophie2/945/945timevideofull.mat\n"
     ]
    },
    {
     "data": {
      "text/plain": [
       "(1, 14547)"
      ]
     },
     "execution_count": 20,
     "metadata": {},
     "output_type": "execute_result"
    }
   ],
   "source": [
    "# from http://stackoverflow.com/questions/3579568/choosing-a-file-in-python-with-simple-dialog\n",
    "from Tkinter import Tk\n",
    "from tkFileDialog import askopenfilename\n",
    "\n",
    "Tk().withdraw() # we don't want a full GUI, so keep the root window from appearing\n",
    "filename = askopenfilename() # show an \"Open\" dialog box and return the path to the selected file\n",
    "print(filename)\n",
    "Ua=sio.loadmat(filename)\n",
    "Tvid=Ua['T']\n",
    "Tvid.shape"
   ]
  },
  {
   "cell_type": "markdown",
   "metadata": {},
   "source": [
    "# Get head video data"
   ]
  },
  {
   "cell_type": "markdown",
   "metadata": {},
   "source": [
    "Open the head saved as 32bit nii"
   ]
  },
  {
   "cell_type": "code",
   "execution_count": 21,
   "metadata": {
    "collapsed": false
   },
   "outputs": [
    {
     "name": "stdout",
     "output_type": "stream",
     "text": [
      "/media/sophie2/945/Head.nii\n"
     ]
    },
    {
     "data": {
      "text/plain": [
       "(22, 28, 14547, 1)"
      ]
     },
     "execution_count": 21,
     "metadata": {},
     "output_type": "execute_result"
    }
   ],
   "source": [
    "# from http://stackoverflow.com/questions/3579568/choosing-a-file-in-python-with-simple-dialog\n",
    "\n",
    "Tk().withdraw() # we don't want a full GUI, so keep the root window from appearing\n",
    "filename2 = askopenfilename() # show an \"Open\" dialog box and return the path to the selected file\n",
    "print(filename2)\n",
    "img1 = nb.load(filename2)\n",
    "data = img1.get_data()\n",
    "S=data.shape\n",
    "S"
   ]
  },
  {
   "cell_type": "code",
   "execution_count": 22,
   "metadata": {
    "collapsed": true
   },
   "outputs": [],
   "source": [
    "# Find end of onset of light and begining of offset (to align to behavior) "
   ]
  },
  {
   "cell_type": "code",
   "execution_count": 23,
   "metadata": {
    "collapsed": false
   },
   "outputs": [],
   "source": [
    "M=np.mean(np.mean(data,0),0)\n",
    "M=M-np.min(M)\n",
    "Mav=M.mean()\n",
    "M=M/Mav"
   ]
  },
  {
   "cell_type": "code",
   "execution_count": 24,
   "metadata": {
    "collapsed": false
   },
   "outputs": [
    {
     "data": {
      "text/plain": [
       "[<matplotlib.lines.Line2D at 0x7fb6d1191510>]"
      ]
     },
     "execution_count": 24,
     "metadata": {},
     "output_type": "execute_result"
    },
    {
     "data": {
      "image/png": "[encoded data removed]",
      "text/plain": [
       "<matplotlib.figure.Figure at 0x7fb6d4345090>"
      ]
     },
     "metadata": {},
     "output_type": "display_data"
    }
   ],
   "source": [
    "plt.plot(M)"
   ]
  },
  {
   "cell_type": "code",
   "execution_count": 25,
   "metadata": {
    "collapsed": false
   },
   "outputs": [
    {
     "data": {
      "text/plain": [
       "936"
      ]
     },
     "execution_count": 25,
     "metadata": {},
     "output_type": "execute_result"
    }
   ],
   "source": [
    "liston=[i for i in range(len(M)) if M[i]>0.5]\n",
    "liston[0]"
   ]
  },
  {
   "cell_type": "code",
   "execution_count": 26,
   "metadata": {
    "collapsed": true
   },
   "outputs": [],
   "source": [
    "def model(x,a,b,c,d):\n",
    "    if x<a:\n",
    "        return b\n",
    "    elif x<c:\n",
    "        return b+(x-a)*d\n",
    "    else:\n",
    "        return (c-a)*d+b"
   ]
  },
  {
   "cell_type": "code",
   "execution_count": 27,
   "metadata": {
    "collapsed": false
   },
   "outputs": [],
   "source": [
    "Ms=M[range(liston[0]-8,liston[0]+8)]-M[liston[0]-8]"
   ]
  },
  {
   "cell_type": "code",
   "execution_count": 28,
   "metadata": {
    "collapsed": false
   },
   "outputs": [],
   "source": [
    "def Sq(X):\n",
    "    return sum([(model(i,X[0],X[1],X[2],X[3])-Ms[i])**2 for i in range(len(Ms))])   "
   ]
  },
  {
   "cell_type": "code",
   "execution_count": 29,
   "metadata": {
    "collapsed": false
   },
   "outputs": [
    {
     "data": {
      "text/plain": [
       "928"
      ]
     },
     "execution_count": 29,
     "metadata": {},
     "output_type": "execute_result"
    }
   ],
   "source": [
    "liston[0]-8"
   ]
  },
  {
   "cell_type": "code",
   "execution_count": 30,
   "metadata": {
    "collapsed": false
   },
   "outputs": [],
   "source": [
    "res = scipy.optimize.minimize(Sq,x0=[7,0.001,9,0.6])"
   ]
  },
  {
   "cell_type": "code",
   "execution_count": 31,
   "metadata": {
    "collapsed": false
   },
   "outputs": [
    {
     "data": {
      "text/plain": [
       "      fun: memmap([ 0.12662485], dtype=float32)\n",
       " hess_inv: array([[1, 0, 0, 0],\n",
       "       [0, 1, 0, 0],\n",
       "       [0, 0, 1, 0],\n",
       "       [0, 0, 0, 1]])\n",
       "      jac: array([ 0.,  0.,  0.,  0.])\n",
       "  message: 'Optimization terminated successfully.'\n",
       "     nfev: 6\n",
       "      nit: 0\n",
       "     njev: 1\n",
       "   status: 0\n",
       "  success: True\n",
       "        x: array([  7.00000000e+00,   1.00000000e-03,   9.00000000e+00,\n",
       "         6.00000000e-01])"
      ]
     },
     "execution_count": 31,
     "metadata": {},
     "output_type": "execute_result"
    }
   ],
   "source": [
    "res"
   ]
  },
  {
   "cell_type": "code",
   "execution_count": 32,
   "metadata": {
    "collapsed": false
   },
   "outputs": [
    {
     "name": "stdout",
     "output_type": "stream",
     "text": [
      "937.0\n"
     ]
    }
   ],
   "source": [
    "ON=liston[0]-8+res.x[2]\n",
    "print(ON)"
   ]
  },
  {
   "cell_type": "code",
   "execution_count": 33,
   "metadata": {
    "collapsed": false
   },
   "outputs": [
    {
     "name": "stdout",
     "output_type": "stream",
     "text": [
      "937\n"
     ]
    }
   ],
   "source": [
    "ONint=np.int(np.ceil(ON))\n",
    "print(ONint)"
   ]
  },
  {
   "cell_type": "code",
   "execution_count": 34,
   "metadata": {
    "collapsed": false
   },
   "outputs": [
    {
     "data": {
      "image/png": "[encoded data removed]",
      "text/plain": [
       "<matplotlib.figure.Figure at 0x7fb6d340c4d0>"
      ]
     },
     "metadata": {},
     "output_type": "display_data"
    }
   ],
   "source": [
    "plt.plot(np.squeeze(Ms),'+')\n",
    "plt.plot(np.arange(0,len(Ms),0.1),[model(i,res.x[0],res.x[1],res.x[2],res.x[3]) for i in np.arange(0,len(Ms),0.1)])\n",
    "plt.show()"
   ]
  },
  {
   "cell_type": "markdown",
   "metadata": {},
   "source": [
    "Model offset and find precise offset time"
   ]
  },
  {
   "cell_type": "code",
   "execution_count": 35,
   "metadata": {
    "collapsed": false
   },
   "outputs": [],
   "source": [
    "Ms=M[range(liston[len(liston)-1]-6,liston[len(liston)-1]+6)]"
   ]
  },
  {
   "cell_type": "code",
   "execution_count": 36,
   "metadata": {
    "collapsed": false
   },
   "outputs": [],
   "source": [
    "def Sq(X):\n",
    "    return sum([(model(i,X[0],X[1],X[2],X[3])-Ms[i])**2 for i in range(len(Ms))]) "
   ]
  },
  {
   "cell_type": "code",
   "execution_count": 37,
   "metadata": {
    "collapsed": false
   },
   "outputs": [],
   "source": [
    "res = scipy.optimize.minimize(Sq,x0=[5.4,1.4,7,-0.6])"
   ]
  },
  {
   "cell_type": "code",
   "execution_count": 39,
   "metadata": {
    "collapsed": false
   },
   "outputs": [
    {
     "name": "stdout",
     "output_type": "stream",
     "text": [
      "13656.3897066\n",
      "13656\n"
     ]
    }
   ],
   "source": [
    "OFF=liston[len(liston)-1]-8+res.x[0]\n",
    "#OFF=liston[len(liston)-1]\n",
    "print(OFF)\n",
    "OFFint=np.int(np.floor(OFF))\n",
    "print(OFFint)"
   ]
  },
  {
   "cell_type": "code",
   "execution_count": 40,
   "metadata": {
    "collapsed": false
   },
   "outputs": [
    {
     "data": {
      "image/png": "[encoded data removed]",
      "text/plain": [
       "<matplotlib.figure.Figure at 0x7fb6cc7ff250>"
      ]
     },
     "metadata": {},
     "output_type": "display_data"
    }
   ],
   "source": [
    "plt.plot(np.squeeze(Ms),'+')\n",
    "plt.plot(np.arange(0,len(Ms),0.1),[model(i,res.x[0],res.x[1],res.x[2],res.x[3]) for i in np.arange(0,len(Ms),0.1)])\n",
    "plt.show()"
   ]
  },
  {
   "cell_type": "markdown",
   "metadata": {},
   "source": [
    "# Save times were light is on"
   ]
  },
  {
   "cell_type": "markdown",
   "metadata": {},
   "source": [
    "In imageJ: choose subsack between these 2 values"
   ]
  },
  {
   "cell_type": "code",
   "execution_count": 47,
   "metadata": {
    "collapsed": false
   },
   "outputs": [
    {
     "name": "stdout",
     "output_type": "stream",
     "text": [
      "938\n",
      "13657\n"
     ]
    }
   ],
   "source": [
    "print(ONint+1)\n",
    "print(OFFint+1)"
   ]
  },
  {
   "cell_type": "code",
   "execution_count": 49,
   "metadata": {
    "collapsed": false
   },
   "outputs": [],
   "source": [
    "TimeOn=[Tvid.T[i] for i in range(ONint,(OFFint+1))]"
   ]
  },
  {
   "cell_type": "code",
   "execution_count": 52,
   "metadata": {
    "collapsed": false
   },
   "outputs": [],
   "source": [
    "Tinit=(ON-ONint-1)*(Tvid.T[ONint]-Tvid.T[ONint-1])+Tvid.T[ONint-1]"
   ]
  },
  {
   "cell_type": "code",
   "execution_count": 53,
   "metadata": {
    "collapsed": false
   },
   "outputs": [],
   "source": [
    "TimeOnFinal=TimeOn-Tinit"
   ]
  },
  {
   "cell_type": "code",
   "execution_count": 80,
   "metadata": {
    "collapsed": false
   },
   "outputs": [],
   "source": [
    "Fileout=\"\".join(filename[i] for i in range(len(filename)-4))"
   ]
  },
  {
   "cell_type": "code",
   "execution_count": 81,
   "metadata": {
    "collapsed": false
   },
   "outputs": [],
   "source": [
    "OutFilename=Fileout+'FluoOn.mat'"
   ]
  },
  {
   "cell_type": "code",
   "execution_count": 82,
   "metadata": {
    "collapsed": false
   },
   "outputs": [
    {
     "data": {
      "text/plain": [
       "'/media/sophie2/945/945timevideofullFluoOn.mat'"
      ]
     },
     "execution_count": 82,
     "metadata": {},
     "output_type": "execute_result"
    }
   ],
   "source": [
    "OutFilename"
   ]
  },
  {
   "cell_type": "code",
   "execution_count": 84,
   "metadata": {
    "collapsed": false
   },
   "outputs": [],
   "source": [
    "sio.savemat(OutFilename, {'TimeFluoOnVid':TimeOnFinal})"
   ]
  },
  {
   "cell_type": "code",
   "execution_count": null,
   "metadata": {
    "collapsed": false
   },
   "outputs": [],
   "source": []
  }
 ],
 "metadata": {
  "kernelspec": {
   "display_name": "Python 2",
   "language": "python",
   "name": "python2"
  },
  "language_info": {
   "codemirror_mode": {
    "name": "ipython",
    "version": 2
   },
   "file_extension": ".py",
   "mimetype": "text/x-python",
   "name": "python",
   "nbconvert_exporter": "python",
   "pygments_lexer": "ipython2",
   "version": "2.7.12"
  }
 },
 "nbformat": 4,
 "nbformat_minor": 0
}
