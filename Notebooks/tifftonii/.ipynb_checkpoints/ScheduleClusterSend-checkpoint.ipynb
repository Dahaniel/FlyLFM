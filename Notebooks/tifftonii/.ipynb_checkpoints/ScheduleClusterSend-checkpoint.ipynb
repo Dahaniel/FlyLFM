{
 "metadata": {
  "name": "",
  "signature": "sha256:5edda2c0ca6ac86617060a7d69bcae0b84c9a3b7a86f009c5d3c1d4f3b79bbf0"
 },
 "nbformat": 3,
 "nbformat_minor": 0,
 "worksheets": [
  {
   "cells": [
    {
     "cell_type": "code",
     "collapsed": false,
     "input": [
      "import os\n",
      "import numpy as np\n",
      "import libtiff \n",
      "import matplotlib.pyplot as plt\n",
      "import sys\n",
      "import Image\n",
      "from libtiff import TIFFimage\n",
      "from PIL import Image\n",
      "import tifffile as tiff\n",
      "import subprocess\n",
      "import fileinput\n",
      "import datetime\n",
      "from threading import Timer\n",
      "import time"
     ],
     "language": "python",
     "metadata": {},
     "outputs": [],
     "prompt_number": 109
    },
    {
     "cell_type": "code",
     "collapsed": false,
     "input": [
      "def ReplaceID(prevID,newID):\n",
      "    filein=\"/home/sophie/Desktop/sophie/nodesendsopfor.R\"\n",
      "    f = open(filein,'r')\n",
      "    filedata = f.read()\n",
      "    f.close()\n",
      "\n",
      "    newdata = filedata.replace(prevID,newID)\n",
      "\n",
      "    f = open(filein,'w')\n",
      "    f.write(newdata)\n",
      "    f.close()"
     ],
     "language": "python",
     "metadata": {},
     "outputs": [],
     "prompt_number": 5
    },
    {
     "cell_type": "code",
     "collapsed": false,
     "input": [
      "#rm file_list mkcmd_1to 14\n",
      "def RemoveOldFiles():\n",
      "    bashCommand = \"rm /home/sophie/Desktop/sophie/file_list\"\n",
      "    process = subprocess.Popen(bashCommand.split(), stdout=subprocess.PIPE)\n",
      "    output = process.communicate()[0]\n",
      "    \n",
      "    for i in range(14):\n",
      "        j=i+1\n",
      "    \n",
      "        bashCommand = \"rm /home/sophie/Desktop/sophie/mkcmd_\"+str(j)\n",
      "        process = subprocess.Popen(bashCommand.split(), stdout=subprocess.PIPE)\n",
      "        output = process.communicate()[0]"
     ],
     "language": "python",
     "metadata": {},
     "outputs": [],
     "prompt_number": 14
    },
    {
     "cell_type": "code",
     "collapsed": false,
     "input": [
      "def getpath(ID):\n",
      "    \n",
      "    path1=\"/media/Seagate Backup Plus Drive/Data\"+ID\n",
      "    path2=\"/media/Seagate Expansion Drive/Data\"+ID\n",
      "\n",
      "    if os.path.exists(path1):\n",
      "        path=path1\n",
      "    else:\n",
      "        path=path2\n",
      "            \n",
      "    return path"
     ],
     "language": "python",
     "metadata": {},
     "outputs": [],
     "prompt_number": 18
    },
    {
     "cell_type": "code",
     "collapsed": false,
     "input": [
      "#copy files to nexcave\n",
      "def CopyFiles(ID):\n",
      "    path=getpath(ID)\n",
      "    remotehost='saimon@nexcave.ucsd.edu'\n",
      "    remotefile='/home/saimon/data/'\n",
      "    os.system('scp -r \"%s\" \"%s:%s\"' % (path, remotehost, remotefile) )\n",
      "    outpath=\"/home/sophie/Desktop/stanford_lfanalyze_v0.4/examples/\"+ID \n",
      "    calibfile=outpath+'/'+ID+\"_ss1_f1250_6microns.lfc\"\n",
      "    os.system('scp \"%s\" \"%s:%s\"' % (calibfile, remotehost, remotefile) )    \n",
      "    "
     ],
     "language": "python",
     "metadata": {},
     "outputs": [],
     "prompt_number": 124
    },
    {
     "cell_type": "code",
     "collapsed": false,
     "input": [
      "#make file list to know length silly way\n",
      "def SendtoNexcave(ID):\n",
      "    path=getpath(ID)\n",
      "    filelist='/home/sophie/Desktop/sophie/file_list'\n",
      "    os.system('ls -rt \"%s\" > \"%s\"' % (path,filelist) )\n",
      "    os.system('R < /home/sophie/Desktop/sophie/sendscript.R --no-save')\n",
      "    os.system('/home/sophie/Desktop/sophie/./GT')\n",
      "    os.system('sudo /home/sophie/Desktop/sophie/./mk')    "
     ],
     "language": "python",
     "metadata": {},
     "outputs": [],
     "prompt_number": 131
    },
    {
     "cell_type": "code",
     "collapsed": false,
     "input": [
      "def SendAll(prevID,newID):\n",
      "    ReplaceID(prevID,newID)\n",
      "    RemoveOldFiles()\n",
      "    CopyFiles(newID)\n",
      "    SendtoNexcave(newID)"
     ],
     "language": "python",
     "metadata": {},
     "outputs": [],
     "prompt_number": 120
    },
    {
     "cell_type": "code",
     "collapsed": false,
     "input": [
      "filename=\"/home/sophie/Desktop/ListeToAnalyze\"\n",
      "Listfile = open(filename, 'r')\n",
      "ListToAnalyze = [line.split('\\n')[0] for line in Listfile.readlines()]\n",
      "prevID=ListToAnalyze[4]\n",
      "for i in range(5,len(ListToAnalyze)):\n",
      "    newID=ListToAnalyze[i]\n",
      "    #t = datetime.datetime.today()\n",
      "    #future = datetime.datetime(t.year,t.month,t.day,21,0)\n",
      "    #if t.hour >= 2:\n",
      "        #future += datetime.timedelta(days=1)\n",
      "    #time.sleep((future-t).seconds)\n",
      "    print('send'+newID)\n",
      "    SendAll(prevID,newID)\n",
      "    \n",
      "    t = datetime.datetime.today()\n",
      "    future = datetime.datetime(t.year,t.month,t.day,9,0)\n",
      "    time.sleep((future-t).seconds)   \n",
      "    \n",
      "    ExitNexcave()\n",
      "    prevID=newID\n",
      "    # do 2AM stuff   \n",
      "\n",
      "#t = Timer(secs, SendAll())\n",
      "#t.start()"
     ],
     "language": "python",
     "metadata": {},
     "outputs": [
      {
       "output_type": "stream",
       "stream": "stdout",
       "text": [
        "send100147\n"
       ]
      },
      {
       "ename": "KeyboardInterrupt",
       "evalue": "",
       "output_type": "pyerr",
       "traceback": [
        "\u001b[1;31m---------------------------------------------------------------------------\u001b[0m\n\u001b[1;31mKeyboardInterrupt\u001b[0m                         Traceback (most recent call last)",
        "\u001b[1;32m<ipython-input-133-5a0aa7c15ce7>\u001b[0m in \u001b[0;36m<module>\u001b[1;34m()\u001b[0m\n\u001b[0;32m     15\u001b[0m     \u001b[0mt\u001b[0m \u001b[1;33m=\u001b[0m \u001b[0mdatetime\u001b[0m\u001b[1;33m.\u001b[0m\u001b[0mdatetime\u001b[0m\u001b[1;33m.\u001b[0m\u001b[0mtoday\u001b[0m\u001b[1;33m(\u001b[0m\u001b[1;33m)\u001b[0m\u001b[1;33m\u001b[0m\u001b[0m\n\u001b[0;32m     16\u001b[0m     \u001b[0mfuture\u001b[0m \u001b[1;33m=\u001b[0m \u001b[0mdatetime\u001b[0m\u001b[1;33m.\u001b[0m\u001b[0mdatetime\u001b[0m\u001b[1;33m(\u001b[0m\u001b[0mt\u001b[0m\u001b[1;33m.\u001b[0m\u001b[0myear\u001b[0m\u001b[1;33m,\u001b[0m\u001b[0mt\u001b[0m\u001b[1;33m.\u001b[0m\u001b[0mmonth\u001b[0m\u001b[1;33m,\u001b[0m\u001b[0mt\u001b[0m\u001b[1;33m.\u001b[0m\u001b[0mday\u001b[0m\u001b[1;33m,\u001b[0m\u001b[1;36m9\u001b[0m\u001b[1;33m,\u001b[0m\u001b[1;36m0\u001b[0m\u001b[1;33m)\u001b[0m\u001b[1;33m\u001b[0m\u001b[0m\n\u001b[1;32m---> 17\u001b[1;33m     \u001b[0mtime\u001b[0m\u001b[1;33m.\u001b[0m\u001b[0msleep\u001b[0m\u001b[1;33m(\u001b[0m\u001b[1;33m(\u001b[0m\u001b[0mfuture\u001b[0m\u001b[1;33m-\u001b[0m\u001b[0mt\u001b[0m\u001b[1;33m)\u001b[0m\u001b[1;33m.\u001b[0m\u001b[0mseconds\u001b[0m\u001b[1;33m)\u001b[0m\u001b[1;33m\u001b[0m\u001b[0m\n\u001b[0m\u001b[0;32m     18\u001b[0m \u001b[1;33m\u001b[0m\u001b[0m\n\u001b[0;32m     19\u001b[0m     \u001b[0mExitNexcave\u001b[0m\u001b[1;33m(\u001b[0m\u001b[1;33m)\u001b[0m\u001b[1;33m\u001b[0m\u001b[0m\n",
        "\u001b[1;31mKeyboardInterrupt\u001b[0m: "
       ]
      }
     ],
     "prompt_number": 133
    },
    {
     "cell_type": "code",
     "collapsed": false,
     "input": [
      "# close all previous \n",
      "def ExitNexcave():\n",
      "    os.system(\"ps -C ssh > /home/sophie/Desktop/sophie/toclose\")\n",
      "    Listfile = open(\"/home/sophie/Desktop/sophie/toclose\", 'r')\n",
      "    ListToClose = [line.split('\\n')[0] for line in Listfile.readlines()]\n",
      "    for i in range(1,len(ListToClose)):\n",
      "        PID=ListToClose[i].split(' ')[1]\n",
      "        print(PID)\n",
      "        os.system(\"kill \"+PID)"
     ],
     "language": "python",
     "metadata": {},
     "outputs": [],
     "prompt_number": 123
    },
    {
     "cell_type": "code",
     "collapsed": false,
     "input": [],
     "language": "python",
     "metadata": {},
     "outputs": []
    }
   ],
   "metadata": {}
  }
 ]
}