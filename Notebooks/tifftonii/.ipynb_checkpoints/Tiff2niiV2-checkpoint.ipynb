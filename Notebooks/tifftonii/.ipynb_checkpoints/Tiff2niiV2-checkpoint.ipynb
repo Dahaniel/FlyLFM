<<<<<<< HEAD
<<<<<<< HEAD
{
 "metadata": {
  "name": "",
  "signature": "sha256:dacd60233ffdc7dd6a8e092ad3ddd8558c61755e87585f8b479a0425da62e205"
 },
 "nbformat": 3,
 "nbformat_minor": 0,
 "worksheets": [
  {
   "cells": [
    {
     "cell_type": "code",
     "collapsed": false,
     "input": [
      "clear all"
     ],
     "language": "python",
     "metadata": {},
     "outputs": [
      {
       "output_type": "stream",
       "stream": "stdout",
       "text": [
        "\u001b[H\u001b[2J"
       ]
      }
     ],
     "prompt_number": 1
    },
    {
     "cell_type": "code",
     "collapsed": false,
     "input": [
      "import nibabel as nib\n",
      "import os\n",
      "import numpy as np\n",
      "import scipy.io as sio\n",
      "import scipy.optimize\n",
      "from Tkinter import Tk\n",
      "from tkFileDialog import askdirectory\n",
      "import libtiff \n",
      "import matplotlib.pyplot as plt\n",
      "%matplotlib inline"
     ],
     "language": "python",
     "metadata": {},
     "outputs": [],
     "prompt_number": 2
    },
    {
     "cell_type": "markdown",
     "metadata": {},
     "source": [
      "# Get folder"
     ]
    },
    {
     "cell_type": "code",
     "collapsed": false,
     "input": [
      "Tk().withdraw() # we don't want a full GUI, so keep the root window from appearing\n",
      "foldername = askdirectory() # show an \"Open\" dialog box and return the path to the selected file\n",
      "print(foldername)"
     ],
     "language": "python",
     "metadata": {},
     "outputs": [
      {
       "output_type": "stream",
       "stream": "stdout",
       "text": [
        "/media/colfax/Seagate Backup Plus Drive/100160ss2\n"
       ]
      }
     ],
     "prompt_number": 3
    },
    {
     "cell_type": "code",
     "collapsed": false,
     "input": [
      "path=foldername"
     ],
     "language": "python",
     "metadata": {},
     "outputs": [],
     "prompt_number": 4
    },
    {
     "cell_type": "code",
     "collapsed": false,
     "input": [
      "A=foldername.split('/')\n",
      "Dataname=A[-1]"
     ],
     "language": "python",
     "metadata": {},
     "outputs": [],
     "prompt_number": 5
    },
    {
     "cell_type": "code",
     "collapsed": false,
     "input": [
      "Dataname"
     ],
     "language": "python",
     "metadata": {},
     "outputs": [
      {
       "metadata": {},
       "output_type": "pyout",
       "prompt_number": 6,
       "text": [
        "'100160ss2'"
       ]
      }
     ],
     "prompt_number": 6
    },
    {
     "cell_type": "markdown",
     "metadata": {},
     "source": [
      "# Open the images"
     ]
    },
    {
     "cell_type": "code",
     "collapsed": false,
     "input": [
      "t = libtiff.TiffFile(path+'/'+Dataname+'-00001.tif') \n",
      "tt = t.get_tiff_array() \n",
      "t.close()\n",
      "S=tt.shape\n",
      "data=np.zeros([S[0],S[1],S[2],len(os.listdir(path))])\n",
      "#for i in range(1,15000):\n",
      "for i in range(len(os.listdir(path))):       \n",
      "#for fn in os.listdir(path):\n",
      "    t = libtiff.TiffFile(path+'/'+Dataname+'-'+str(i+1).zfill(5)+'.tif') \n",
      "    #t = libtiff.TiffFile(path+fn) \n",
      "    tt = t.get_tiff_array()\n",
      "    data[:,:,:,i]=tt[:][:][:]\n",
      "    t.close()\n",
      "    i=i+1"
     ],
     "language": "python",
     "metadata": {},
     "outputs": [],
     "prompt_number": 7
    },
    {
     "cell_type": "code",
     "collapsed": false,
     "input": [
      "S=data.shape\n",
      "S"
     ],
     "language": "python",
     "metadata": {},
     "outputs": [
      {
       "metadata": {},
       "output_type": "pyout",
       "prompt_number": 8,
       "text": [
        "(40, 212, 210, 6098)"
       ]
      }
     ],
     "prompt_number": 8
    },
    {
     "cell_type": "markdown",
     "metadata": {},
     "source": [
      "# Find end of onset of light and begining of offset (to align to behavior) "
     ]
    },
    {
     "cell_type": "markdown",
     "metadata": {},
     "source": [
      "Calculate average time series"
     ]
    },
    {
     "cell_type": "code",
     "collapsed": false,
     "input": [
      "M=np.mean(np.mean(np.mean(data,0),0),0)\n",
      "Mav=M.mean()"
     ],
     "language": "python",
     "metadata": {},
     "outputs": [],
     "prompt_number": 9
    },
    {
     "cell_type": "markdown",
     "metadata": {},
     "source": [
      "Get approxiamte on and off times"
     ]
    },
    {
     "cell_type": "code",
     "collapsed": false,
     "input": [
      "liston=[i for i in range(len(M)) if M[i]>Mav*0.7]\n",
      "liston[0]"
     ],
     "language": "python",
     "metadata": {},
     "outputs": [
      {
       "metadata": {},
       "output_type": "pyout",
       "prompt_number": 10,
       "text": [
        "72"
       ]
      }
     ],
     "prompt_number": 10
    },
    {
     "cell_type": "markdown",
     "metadata": {},
     "source": [
      "Model for fitting onset and offset"
     ]
    },
    {
     "cell_type": "code",
     "collapsed": false,
     "input": [
      "def model(x,a,b,c,d):\n",
      "    if x<a:\n",
      "        return b\n",
      "    elif x<c:\n",
      "        return b+(x-a)*d\n",
      "    else:\n",
      "        return (c-a)*d+b"
     ],
     "language": "python",
     "metadata": {},
     "outputs": [],
     "prompt_number": 11
    },
    {
     "cell_type": "markdown",
     "metadata": {},
     "source": [
      "Model onset and find precise onset time"
     ]
    },
    {
     "cell_type": "code",
     "collapsed": false,
     "input": [
      "Ms=M[range(liston[0]-8,liston[0]+8)]"
     ],
     "language": "python",
     "metadata": {},
     "outputs": [],
     "prompt_number": 12
    },
    {
     "cell_type": "code",
     "collapsed": false,
     "input": [
      "def Sq(X):\n",
      "    return sum([(model(i,X[0],X[1],X[2],X[3])-Ms[i])**2 for i in range(len(Ms))])   "
     ],
     "language": "python",
     "metadata": {},
     "outputs": [],
     "prompt_number": 13
    },
    {
     "cell_type": "code",
     "collapsed": false,
     "input": [
      "liston[0]-8"
     ],
     "language": "python",
     "metadata": {},
     "outputs": [
      {
       "metadata": {},
       "output_type": "pyout",
       "prompt_number": 14,
       "text": [
        "64"
       ]
      }
     ],
     "prompt_number": 14
    },
    {
     "cell_type": "code",
     "collapsed": false,
     "input": [
      "res = scipy.optimize.minimize(Sq,x0=[7,0.3,9,0.7])"
     ],
     "language": "python",
     "metadata": {},
     "outputs": [],
     "prompt_number": 15
    },
    {
     "cell_type": "code",
     "collapsed": false,
     "input": [
      "ON=liston[0]-8+res.x[2]\n",
      "print(ON)"
     ],
     "language": "python",
     "metadata": {},
     "outputs": [
      {
       "output_type": "stream",
       "stream": "stdout",
       "text": [
        "71.9402211596\n"
       ]
      }
     ],
     "prompt_number": 16
    },
    {
     "cell_type": "code",
     "collapsed": false,
     "input": [
      "ONint=np.int(np.ceil(ON))\n",
      "Onint=1\n",
      "print(ONint)"
     ],
     "language": "python",
     "metadata": {},
     "outputs": [
      {
       "output_type": "stream",
       "stream": "stdout",
       "text": [
        "72\n"
       ]
      }
     ],
     "prompt_number": 17
    },
    {
     "cell_type": "code",
     "collapsed": false,
     "input": [
      "plt.plot(np.squeeze(M[range(liston[0]-8,liston[0]+8)]),'+')\n",
      "plt.plot(np.arange(0,len(Ms),0.1),[model(i,res.x[0],res.x[1],res.x[2],res.x[3]) for i in np.arange(0,len(Ms),0.1)])\n",
      "plt.show()"
     ],
     "language": "python",
     "metadata": {},
     "outputs": [
      {
       "metadata": {},
       "output_type": "display_data",
       "png": "iVBORw0KGgoAAAANSUhEUgAAAXcAAAEACAYAAABI5zaHAAAABHNCSVQICAgIfAhkiAAAAAlwSFlz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\ngg==\n",
       "text": [
        "<matplotlib.figure.Figure at 0x7f0fa4f651d0>"
       ]
      }
     ],
     "prompt_number": 18
    },
    {
     "cell_type": "markdown",
     "metadata": {},
     "source": [
      "Model offset and find precise offset time"
     ]
    },
    {
     "cell_type": "code",
     "collapsed": false,
     "input": [
      "Ms=M[range(liston[len(liston)-1]-8,liston[len(liston)-1]+8)]"
     ],
     "language": "python",
     "metadata": {},
     "outputs": [],
     "prompt_number": 19
    },
    {
     "cell_type": "code",
     "collapsed": false,
     "input": [
      "def Sq(X):\n",
      "    return sum([(model(i,X[0],X[1],X[2],X[3])-Ms[i])**2 for i in range(len(Ms))]) "
     ],
     "language": "python",
     "metadata": {},
     "outputs": [],
     "prompt_number": 20
    },
    {
     "cell_type": "code",
     "collapsed": false,
     "input": [
      "res = scipy.optimize.minimize(Sq,x0=[7,3,9,-1])"
     ],
     "language": "python",
     "metadata": {},
     "outputs": [],
     "prompt_number": 21
    },
    {
     "cell_type": "code",
     "collapsed": false,
     "input": [
      "OFF=liston[len(liston)-1]-8+res.x[2]\n",
      "#OFF=liston[len(liston)-1]\n",
      "print(OFF)\n",
      "OFFint=np.int(np.floor(OFF))\n",
      "print(OFFint)"
     ],
     "language": "python",
     "metadata": {},
     "outputs": [
      {
       "output_type": "stream",
       "stream": "stdout",
       "text": [
        "5903.03843096\n",
        "5903\n"
       ]
      }
     ],
     "prompt_number": 22
    },
    {
     "cell_type": "code",
     "collapsed": false,
     "input": [
      "plt.plot(np.squeeze(Ms),'+')\n",
      "plt.plot(np.arange(0,len(Ms),0.1),[model(i,res.x[0],res.x[1],res.x[2],res.x[3]) for i in np.arange(0,len(Ms),0.1)])\n",
      "plt.show()"
     ],
     "language": "python",
     "metadata": {},
     "outputs": [
      {
       "metadata": {},
       "output_type": "display_data",
       "png": "iVBORw0KGgoAAAANSUhEUgAAAXcAAAEACAYAAABI5zaHAAAABHNCSVQICAgIfAhkiAAAAAlwSFlz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\ntk6tt7fV1nMAAAAASUVORK5CYII=\n",
       "text": [
        "<matplotlib.figure.Figure at 0x7efb5c628ed0>"
       ]
      }
     ],
     "prompt_number": 23
    },
    {
     "cell_type": "markdown",
     "metadata": {},
     "source": [
      "# Keep only the frames for which the excitation is on and save"
     ]
    },
    {
     "cell_type": "code",
     "collapsed": false,
     "input": [
      "D4=np.transpose(data[:,:,:,range(ONint,(OFFint+1))],(2,1,0,3))\n",
      "nim=nib.Nifti1Image(D4,np.eye(4))\n",
      "nib.save(nim,'/home/colfax/Desktop/'+Dataname+'on.nii.gz')"
     ],
     "language": "python",
     "metadata": {},
     "outputs": [],
     "prompt_number": 24
    },
    {
     "cell_type": "markdown",
     "metadata": {},
     "source": [
      "# Get times corresponding to images (exctiation light completely on : t=0)"
     ]
    },
    {
     "cell_type": "code",
     "collapsed": false,
     "input": [
      "TimeFile='/home/colfax/Downloads/Data'+''.join([Dataname[i] for i in range(6)])+'_.csv'"
     ],
     "language": "python",
     "metadata": {},
     "outputs": [],
     "prompt_number": 66
    },
    {
     "cell_type": "code",
     "collapsed": false,
     "input": [
      "print(TimeFile)"
     ],
     "language": "python",
     "metadata": {},
     "outputs": [
      {
       "output_type": "stream",
       "stream": "stdout",
       "text": [
        "/home/colfax/Downloads/Data100110_.csv\n"
       ]
      }
     ],
     "prompt_number": 67
    },
    {
     "cell_type": "code",
     "collapsed": false,
     "input": [
      "Listfile = open(TimeFile, 'r')\n",
      "ListTime = [line.split('\\n')[0] for line in Listfile.readlines()]"
     ],
     "language": "python",
     "metadata": {},
     "outputs": [],
     "prompt_number": 68
    },
    {
     "cell_type": "code",
     "collapsed": false,
     "input": [
      "Timespl=[float(ListTime[i].split(',')[2]) for i in range(1,len(ListTime))]"
     ],
     "language": "python",
     "metadata": {},
     "outputs": [],
     "prompt_number": 69
    },
    {
     "cell_type": "code",
     "collapsed": false,
     "input": [
      "plt.plot(Timespl)"
     ],
     "language": "python",
     "metadata": {},
     "outputs": [
      {
       "metadata": {},
       "output_type": "pyout",
       "prompt_number": 70,
       "text": [
        "[<matplotlib.lines.Line2D at 0x7f5249f83890>]"
       ]
      },
      {
       "metadata": {},
       "output_type": "display_data",
       "png": "iVBORw0KGgoAAAANSUhEUgAAAX0AAAEACAYAAABfxaZOAAAABHNCSVQICAgIfAhkiAAAAAlwSFlz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\nMNhTvwAAAABJRU5ErkJggg==\n",
       "text": [
        "<matplotlib.figure.Figure at 0x7f5269bad3d0>"
       ]
      }
     ],
     "prompt_number": 70
    },
    {
     "cell_type": "code",
     "collapsed": false,
     "input": [
      "TimeOn=[Timespl[i] for i in range(ONint,(OFFint+1))]"
     ],
     "language": "python",
     "metadata": {},
     "outputs": [],
     "prompt_number": 71
    },
    {
     "cell_type": "code",
     "collapsed": false,
     "input": [
      "Tinit=(ON-ONint-1)*(Timespl[ONint]-Timespl[ONint-1])+Timespl[ONint-1]"
     ],
     "language": "python",
     "metadata": {},
     "outputs": [],
     "prompt_number": 72
    },
    {
     "cell_type": "code",
     "collapsed": false,
     "input": [
      "TimeOnFinal=TimeOn-Tinit"
     ],
     "language": "python",
     "metadata": {},
     "outputs": [],
     "prompt_number": 73
    },
    {
     "cell_type": "code",
     "collapsed": false,
     "input": [
      "D4.shape"
     ],
     "language": "python",
     "metadata": {},
     "outputs": [
      {
       "metadata": {},
       "output_type": "pyout",
       "prompt_number": 74,
       "text": [
        "(104, 52, 40, 14326)"
       ]
      }
     ],
     "prompt_number": 74
    },
    {
     "cell_type": "code",
     "collapsed": false,
     "input": [
      "sio.savemat('/home/colfax/Desktop/'+Dataname+'TimeFluoOn.mat', {'TimeFluoOn':TimeOnFinal})"
     ],
     "language": "python",
     "metadata": {},
     "outputs": [],
     "prompt_number": 75
    },
    {
     "cell_type": "code",
     "collapsed": false,
     "input": [],
     "language": "python",
     "metadata": {},
     "outputs": []
    }
   ],
   "metadata": {}
  }
 ]
}
||||||| merged common ancestors
=======
{
 "metadata": {
  "name": "",
  "signature": "sha256:fdb0d38eae4927007483ec1d9009e6137c69ef8dd85e15ecd908cdfb7d5afde9"
 },
 "nbformat": 3,
 "nbformat_minor": 0,
 "worksheets": [
  {
   "cells": [
    {
     "cell_type": "code",
     "collapsed": false,
     "input": [
      "clear all"
     ],
     "language": "python",
     "metadata": {},
     "outputs": [
      {
       "output_type": "stream",
       "stream": "stdout",
       "text": [
        "\u001b[H\u001b[2J"
       ]
      }
     ],
     "prompt_number": 1
    },
    {
     "cell_type": "code",
     "collapsed": false,
     "input": [
      "import nibabel as nib\n",
      "import os\n",
      "import numpy as np\n",
      "import scipy.io as sio\n",
      "import scipy.optimize\n",
      "from Tkinter import Tk\n",
      "from tkFileDialog import askdirectory\n",
      "import libtiff \n",
      "import matplotlib.pyplot as plt\n",
      "%matplotlib inline"
     ],
     "language": "python",
     "metadata": {},
     "outputs": [
      {
       "output_type": "stream",
       "stream": "stderr",
       "text": [
        "/usr/local/lib/python2.7/dist-packages/matplotlib/font_manager.py:273: UserWarning: Matplotlib is building the font cache using fc-list. This may take a moment.\n",
        "  warnings.warn('Matplotlib is building the font cache using fc-list. This may take a moment.')\n"
       ]
      }
     ],
     "prompt_number": 2
    },
    {
     "cell_type": "markdown",
     "metadata": {},
     "source": [
      "# Get folder"
     ]
    },
    {
     "cell_type": "code",
     "collapsed": false,
     "input": [
      "Tk().withdraw() # we don't want a full GUI, so keep the root window from appearing\n",
      "foldername = askdirectory() # show an \"Open\" dialog box and return the path to the selected file\n",
      "print(foldername)"
     ],
     "language": "python",
     "metadata": {},
     "outputs": [
      {
       "output_type": "stream",
       "stream": "stdout",
       "text": [
        "/home/sophie/100106ss2\n"
       ]
      }
     ],
     "prompt_number": 3
    },
    {
     "cell_type": "code",
     "collapsed": false,
     "input": [
      "path=foldername"
     ],
     "language": "python",
     "metadata": {},
     "outputs": [],
     "prompt_number": 4
    },
    {
     "cell_type": "code",
     "collapsed": false,
     "input": [
      "A=foldername.split('/')\n",
      "Dataname=A[-1]"
     ],
     "language": "python",
     "metadata": {},
     "outputs": [],
     "prompt_number": 5
    },
    {
     "cell_type": "code",
     "collapsed": false,
     "input": [
      "Dataname"
     ],
     "language": "python",
     "metadata": {},
     "outputs": [
      {
       "metadata": {},
       "output_type": "pyout",
       "prompt_number": 6,
       "text": [
        "'100106ss2'"
       ]
      }
     ],
     "prompt_number": 6
    },
    {
     "cell_type": "markdown",
     "metadata": {},
     "source": [
      "# Open the images"
     ]
    },
    {
     "cell_type": "code",
     "collapsed": false,
     "input": [
      "t = libtiff.TiffFile(path+'/'+Dataname+'-00001.tif') \n",
      "tt = t.get_tiff_array() \n",
      "t.close()\n",
      "S=tt.shape\n",
      "data=np.zeros([S[0],S[1],S[2],len(os.listdir(path))])\n",
      "#for i in range(1,15000):\n",
      "for i in range(len(os.listdir(path))):       \n",
      "#for fn in os.listdir(path):\n",
      "    t = libtiff.TiffFile(path+'/'+Dataname+'-'+str(i+1).zfill(5)+'.tif') \n",
      "    #t = libtiff.TiffFile(path+fn) \n",
      "    tt = t.get_tiff_array()\n",
      "    data[:,:,:,i]=tt[:][:][:]\n",
      "    t.close()\n",
      "    i=i+1"
     ],
     "language": "python",
     "metadata": {},
     "outputs": [],
     "prompt_number": 8
    },
    {
     "cell_type": "code",
     "collapsed": false,
     "input": [
      "S=data.shape\n",
      "S"
     ],
     "language": "python",
     "metadata": {},
     "outputs": [
      {
       "metadata": {},
       "output_type": "pyout",
       "prompt_number": 9,
       "text": [
        "(40, 210, 212, 6031)"
       ]
      }
     ],
     "prompt_number": 9
    },
    {
     "cell_type": "markdown",
     "metadata": {},
     "source": [
      "# Find end of onset of light and begining of offset (to align to behavior) "
     ]
    },
    {
     "cell_type": "markdown",
     "metadata": {},
     "source": [
      "Calculate average time series"
     ]
    },
    {
     "cell_type": "code",
     "collapsed": false,
     "input": [
      "M=np.mean(np.mean(np.mean(data,0),0),0)\n",
      "Mav=M.mean()"
     ],
     "language": "python",
     "metadata": {},
     "outputs": [],
     "prompt_number": 10
    },
    {
     "cell_type": "markdown",
     "metadata": {},
     "source": [
      "Get approxiamte on and off times"
     ]
    },
    {
     "cell_type": "code",
     "collapsed": false,
     "input": [
      "liston=[i for i in range(len(M)) if M[i]>Mav*0.7]\n",
      "liston[0]"
     ],
     "language": "python",
     "metadata": {},
     "outputs": [
      {
       "metadata": {},
       "output_type": "pyout",
       "prompt_number": 11,
       "text": [
        "35"
       ]
      }
     ],
     "prompt_number": 11
    },
    {
     "cell_type": "markdown",
     "metadata": {},
     "source": [
      "Model for fitting onset and offset"
     ]
    },
    {
     "cell_type": "code",
     "collapsed": false,
     "input": [
      "def model(x,a,b,c,d):\n",
      "    if x<a:\n",
      "        return b\n",
      "    elif x<c:\n",
      "        return b+(x-a)*d\n",
      "    else:\n",
      "        return (c-a)*d+b"
     ],
     "language": "python",
     "metadata": {},
     "outputs": [],
     "prompt_number": 12
    },
    {
     "cell_type": "markdown",
     "metadata": {},
     "source": [
      "Model onset and find precise onset time"
     ]
    },
    {
     "cell_type": "code",
     "collapsed": false,
     "input": [
      "Ms=M[range(liston[0]-8,liston[0]+8)]"
     ],
     "language": "python",
     "metadata": {},
     "outputs": [],
     "prompt_number": 13
    },
    {
     "cell_type": "code",
     "collapsed": false,
     "input": [
      "def Sq(X):\n",
      "    return sum([(model(i,X[0],X[1],X[2],X[3])-Ms[i])**2 for i in range(len(Ms))])   "
     ],
     "language": "python",
     "metadata": {},
     "outputs": [],
     "prompt_number": 14
    },
    {
     "cell_type": "code",
     "collapsed": false,
     "input": [
      "liston[0]-8"
     ],
     "language": "python",
     "metadata": {},
     "outputs": [
      {
       "metadata": {},
       "output_type": "pyout",
       "prompt_number": 15,
       "text": [
        "27"
       ]
      }
     ],
     "prompt_number": 15
    },
    {
     "cell_type": "code",
     "collapsed": false,
     "input": [
      "res = scipy.optimize.minimize(Sq,x0=[7,0.3,9,0.7])"
     ],
     "language": "python",
     "metadata": {},
     "outputs": [],
     "prompt_number": 16
    },
    {
     "cell_type": "code",
     "collapsed": false,
     "input": [
      "ON=liston[0]-8+res.x[2]\n",
      "print(ON)"
     ],
     "language": "python",
     "metadata": {},
     "outputs": [
      {
       "output_type": "stream",
       "stream": "stdout",
       "text": [
        "35.5037787226\n"
       ]
      }
     ],
     "prompt_number": 17
    },
    {
     "cell_type": "code",
     "collapsed": false,
     "input": [
      "ONint=np.int(np.ceil(ON))\n",
      "Onint=1\n",
      "print(ONint)"
     ],
     "language": "python",
     "metadata": {},
     "outputs": [
      {
       "output_type": "stream",
       "stream": "stdout",
       "text": [
        "36\n"
       ]
      }
     ],
     "prompt_number": 18
    },
    {
     "cell_type": "code",
     "collapsed": false,
     "input": [
      "plt.plot(np.squeeze(M[range(liston[0]-8,liston[0]+8)]),'+')\n",
      "plt.plot(np.arange(0,len(Ms),0.1),[model(i,res.x[0],res.x[1],res.x[2],res.x[3]) for i in np.arange(0,len(Ms),0.1)])\n",
      "plt.show()"
     ],
     "language": "python",
     "metadata": {},
     "outputs": [
      {
       "metadata": {},
       "output_type": "display_data",
       "png": "iVBORw0KGgoAAAANSUhEUgAAAXcAAAEACAYAAABI5zaHAAAABHNCSVQICAgIfAhkiAAAAAlwSFlz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\nS1IJ/X8J4gowcySypQAAAABJRU5ErkJggg==\n",
       "text": [
        "<matplotlib.figure.Figure at 0x7f1eb0872610>"
       ]
      }
     ],
     "prompt_number": 19
    },
    {
     "cell_type": "markdown",
     "metadata": {},
     "source": [
      "Model offset and find precise offset time"
     ]
    },
    {
     "cell_type": "code",
     "collapsed": false,
     "input": [
      "Ms=M[range(liston[len(liston)-1]-8,liston[len(liston)-1]+8)]"
     ],
     "language": "python",
     "metadata": {},
     "outputs": [],
     "prompt_number": 20
    },
    {
     "cell_type": "code",
     "collapsed": false,
     "input": [
      "def Sq(X):\n",
      "    return sum([(model(i,X[0],X[1],X[2],X[3])-Ms[i])**2 for i in range(len(Ms))]) "
     ],
     "language": "python",
     "metadata": {},
     "outputs": [],
     "prompt_number": 21
    },
    {
     "cell_type": "code",
     "collapsed": false,
     "input": [
      "res = scipy.optimize.minimize(Sq,x0=[7,3,9,-1])"
     ],
     "language": "python",
     "metadata": {},
     "outputs": [],
     "prompt_number": 22
    },
    {
     "cell_type": "code",
     "collapsed": false,
     "input": [
      "OFF=liston[len(liston)-1]-8+res.x[0]\n",
      "#OFF=liston[len(liston)-1]\n",
      "print(OFF)\n",
      "OFFint=np.int(np.floor(OFF))\n",
      "print(OFFint)"
     ],
     "language": "python",
     "metadata": {},
     "outputs": [
      {
       "output_type": "stream",
       "stream": "stdout",
       "text": [
        "5962.98733442\n",
        "5962\n"
       ]
      }
     ],
     "prompt_number": 23
    },
    {
     "cell_type": "code",
     "collapsed": false,
     "input": [
      "plt.plot(np.squeeze(Ms),'+')\n",
      "plt.plot(np.arange(0,len(Ms),0.1),[model(i,res.x[0],res.x[1],res.x[2],res.x[3]) for i in np.arange(0,len(Ms),0.1)])\n",
      "plt.show()"
     ],
     "language": "python",
     "metadata": {},
     "outputs": [
      {
       "metadata": {},
       "output_type": "display_data",
       "png": "iVBORw0KGgoAAAANSUhEUgAAAXcAAAEACAYAAABI5zaHAAAABHNCSVQICAgIfAhkiAAAAAlwSFlz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\nQmCC\n",
       "text": [
        "<matplotlib.figure.Figure at 0x7f1eacc9dd50>"
       ]
      }
     ],
     "prompt_number": 24
    },
    {
     "cell_type": "markdown",
     "metadata": {},
     "source": [
      "# Keep only the frames for which the excitation is on and save"
     ]
    },
    {
     "cell_type": "code",
     "collapsed": false,
     "input": [
      "D4=np.transpose(data[:,:,:,range(ONint,(OFFint+1))],(2,1,0,3))\n",
      "nim=nib.Nifti1Image(D4,np.eye(4))\n",
      "nib.save(nim,'/home/sophie/Desktop/'+Dataname+'on.nii.gz')"
     ],
     "language": "python",
     "metadata": {},
     "outputs": [],
     "prompt_number": 25
    },
    {
     "cell_type": "code",
     "collapsed": false,
     "input": [
      "sio.savemat('/home/sophie/Desktop/'+Dataname+'TimeFluoOn.mat', {'TimeFluoOn':[ONint,(OFFint+1)]})"
     ],
     "language": "python",
     "metadata": {},
     "outputs": [],
     "prompt_number": 30
    },
    {
     "cell_type": "markdown",
     "metadata": {},
     "source": [
      "# Get times corresponding to images (exctiation light completely on : t=0)"
     ]
    },
    {
     "cell_type": "code",
     "collapsed": false,
     "input": [
      "TimeFile='/home/sophie/Downloads/Data'+''.join([Dataname[i] for i in range(6)])+'_.csv'"
     ],
     "language": "python",
     "metadata": {},
     "outputs": [],
     "prompt_number": 26
    },
    {
     "cell_type": "code",
     "collapsed": false,
     "input": [
      "print(TimeFile)"
     ],
     "language": "python",
     "metadata": {},
     "outputs": [
      {
       "output_type": "stream",
       "stream": "stdout",
       "text": [
        "/home/sophie/Downloads/Data100106_.csv\n"
       ]
      }
     ],
     "prompt_number": 27
    },
    {
     "cell_type": "code",
     "collapsed": false,
     "input": [
      "Listfile = open(TimeFile, 'r')\n",
      "ListTime = [line.split('\\n')[0] for line in Listfile.readlines()]"
     ],
     "language": "python",
     "metadata": {},
     "outputs": [
      {
       "ename": "IOError",
       "evalue": "[Errno 2] No such file or directory: '/home/sophie/Downloads/Data100106_.csv'",
       "output_type": "pyerr",
       "traceback": [
        "\u001b[0;31m---------------------------------------------------------------------------\u001b[0m\n\u001b[0;31mIOError\u001b[0m                                   Traceback (most recent call last)",
        "\u001b[0;32m<ipython-input-28-842fa942eb02>\u001b[0m in \u001b[0;36m<module>\u001b[0;34m()\u001b[0m\n\u001b[0;32m----> 1\u001b[0;31m \u001b[0mListfile\u001b[0m \u001b[0;34m=\u001b[0m \u001b[0mopen\u001b[0m\u001b[0;34m(\u001b[0m\u001b[0mTimeFile\u001b[0m\u001b[0;34m,\u001b[0m \u001b[0;34m'r'\u001b[0m\u001b[0;34m)\u001b[0m\u001b[0;34m\u001b[0m\u001b[0m\n\u001b[0m\u001b[1;32m      2\u001b[0m \u001b[0mListTime\u001b[0m \u001b[0;34m=\u001b[0m \u001b[0;34m[\u001b[0m\u001b[0mline\u001b[0m\u001b[0;34m.\u001b[0m\u001b[0msplit\u001b[0m\u001b[0;34m(\u001b[0m\u001b[0;34m'\\n'\u001b[0m\u001b[0;34m)\u001b[0m\u001b[0;34m[\u001b[0m\u001b[0;36m0\u001b[0m\u001b[0;34m]\u001b[0m \u001b[0;32mfor\u001b[0m \u001b[0mline\u001b[0m \u001b[0;32min\u001b[0m \u001b[0mListfile\u001b[0m\u001b[0;34m.\u001b[0m\u001b[0mreadlines\u001b[0m\u001b[0;34m(\u001b[0m\u001b[0;34m)\u001b[0m\u001b[0;34m]\u001b[0m\u001b[0;34m\u001b[0m\u001b[0m\n",
        "\u001b[0;31mIOError\u001b[0m: [Errno 2] No such file or directory: '/home/sophie/Downloads/Data100106_.csv'"
       ]
      }
     ],
     "prompt_number": 28
    },
    {
     "cell_type": "code",
     "collapsed": false,
     "input": [
      "Timespl=[float(ListTime[i].split(',')[2]) for i in range(1,len(ListTime))]"
     ],
     "language": "python",
     "metadata": {},
     "outputs": []
    },
    {
     "cell_type": "code",
     "collapsed": false,
     "input": [
      "plt.plot(Timespl)"
     ],
     "language": "python",
     "metadata": {},
     "outputs": []
    },
    {
     "cell_type": "code",
     "collapsed": false,
     "input": [
      "TimeOn=[Timespl[i] for i in range(ONint,(OFFint+1))]"
     ],
     "language": "python",
     "metadata": {},
     "outputs": []
    },
    {
     "cell_type": "code",
     "collapsed": false,
     "input": [
      "Tinit=(ON-ONint-1)*(Timespl[ONint]-Timespl[ONint-1])+Timespl[ONint-1]"
     ],
     "language": "python",
     "metadata": {},
     "outputs": []
    },
    {
     "cell_type": "code",
     "collapsed": false,
     "input": [
      "TimeOnFinal=TimeOn-Tinit"
     ],
     "language": "python",
     "metadata": {},
     "outputs": []
    },
    {
     "cell_type": "code",
     "collapsed": false,
     "input": [
      "D4.shape"
     ],
     "language": "python",
     "metadata": {},
     "outputs": []
    },
    {
     "cell_type": "code",
     "collapsed": false,
     "input": [
      "sio.savemat('/home/sophie/Desktop/'+Dataname+'TimeFluoOn.mat', {'TimeFluoOn':TimeOnFinal})"
     ],
     "language": "python",
     "metadata": {},
     "outputs": []
    },
    {
     "cell_type": "code",
     "collapsed": false,
     "input": [],
     "language": "python",
     "metadata": {},
     "outputs": []
    },
    {
     "cell_type": "code",
     "collapsed": false,
     "input": [],
     "language": "python",
     "metadata": {},
     "outputs": []
    },
    {
     "cell_type": "code",
     "collapsed": false,
     "input": [],
     "language": "python",
     "metadata": {},
     "outputs": []
    }
   ],
   "metadata": {}
  }
 ]
}
>>>>>>> 391ef8394753bc7dd73a58e5f42c106fc9574953
||||||| merged common ancestors
=======
{
 "metadata": {
  "name": "",
  "signature": "sha256:fdb0d38eae4927007483ec1d9009e6137c69ef8dd85e15ecd908cdfb7d5afde9"
 },
 "nbformat": 3,
 "nbformat_minor": 0,
 "worksheets": [
  {
   "cells": [
    {
     "cell_type": "code",
     "collapsed": false,
     "input": [
      "clear all"
     ],
     "language": "python",
     "metadata": {},
     "outputs": [
      {
       "output_type": "stream",
       "stream": "stdout",
       "text": [
        "\u001b[H\u001b[2J"
       ]
      }
     ],
     "prompt_number": 1
    },
    {
     "cell_type": "code",
     "collapsed": false,
     "input": [
      "import nibabel as nib\n",
      "import os\n",
      "import numpy as np\n",
      "import scipy.io as sio\n",
      "import scipy.optimize\n",
      "from Tkinter import Tk\n",
      "from tkFileDialog import askdirectory\n",
      "import libtiff \n",
      "import matplotlib.pyplot as plt\n",
      "%matplotlib inline"
     ],
     "language": "python",
     "metadata": {},
     "outputs": [
      {
       "output_type": "stream",
       "stream": "stderr",
       "text": [
        "/usr/local/lib/python2.7/dist-packages/matplotlib/font_manager.py:273: UserWarning: Matplotlib is building the font cache using fc-list. This may take a moment.\n",
        "  warnings.warn('Matplotlib is building the font cache using fc-list. This may take a moment.')\n"
       ]
      }
     ],
     "prompt_number": 2
    },
    {
     "cell_type": "markdown",
     "metadata": {},
     "source": [
      "# Get folder"
     ]
    },
    {
     "cell_type": "code",
     "collapsed": false,
     "input": [
      "Tk().withdraw() # we don't want a full GUI, so keep the root window from appearing\n",
      "foldername = askdirectory() # show an \"Open\" dialog box and return the path to the selected file\n",
      "print(foldername)"
     ],
     "language": "python",
     "metadata": {},
     "outputs": [
      {
       "output_type": "stream",
       "stream": "stdout",
       "text": [
        "/home/sophie/100106ss2\n"
       ]
      }
     ],
     "prompt_number": 3
    },
    {
     "cell_type": "code",
     "collapsed": false,
     "input": [
      "path=foldername"
     ],
     "language": "python",
     "metadata": {},
     "outputs": [],
     "prompt_number": 4
    },
    {
     "cell_type": "code",
     "collapsed": false,
     "input": [
      "A=foldername.split('/')\n",
      "Dataname=A[-1]"
     ],
     "language": "python",
     "metadata": {},
     "outputs": [],
     "prompt_number": 5
    },
    {
     "cell_type": "code",
     "collapsed": false,
     "input": [
      "Dataname"
     ],
     "language": "python",
     "metadata": {},
     "outputs": [
      {
       "metadata": {},
       "output_type": "pyout",
       "prompt_number": 6,
       "text": [
        "'100106ss2'"
       ]
      }
     ],
     "prompt_number": 6
    },
    {
     "cell_type": "markdown",
     "metadata": {},
     "source": [
      "# Open the images"
     ]
    },
    {
     "cell_type": "code",
     "collapsed": false,
     "input": [
      "t = libtiff.TiffFile(path+'/'+Dataname+'-00001.tif') \n",
      "tt = t.get_tiff_array() \n",
      "t.close()\n",
      "S=tt.shape\n",
      "data=np.zeros([S[0],S[1],S[2],len(os.listdir(path))])\n",
      "#for i in range(1,15000):\n",
      "for i in range(len(os.listdir(path))):       \n",
      "#for fn in os.listdir(path):\n",
      "    t = libtiff.TiffFile(path+'/'+Dataname+'-'+str(i+1).zfill(5)+'.tif') \n",
      "    #t = libtiff.TiffFile(path+fn) \n",
      "    tt = t.get_tiff_array()\n",
      "    data[:,:,:,i]=tt[:][:][:]\n",
      "    t.close()\n",
      "    i=i+1"
     ],
     "language": "python",
     "metadata": {},
     "outputs": [],
     "prompt_number": 8
    },
    {
     "cell_type": "code",
     "collapsed": false,
     "input": [
      "S=data.shape\n",
      "S"
     ],
     "language": "python",
     "metadata": {},
     "outputs": [
      {
       "metadata": {},
       "output_type": "pyout",
       "prompt_number": 9,
       "text": [
        "(40, 210, 212, 6031)"
       ]
      }
     ],
     "prompt_number": 9
    },
    {
     "cell_type": "markdown",
     "metadata": {},
     "source": [
      "# Find end of onset of light and begining of offset (to align to behavior) "
     ]
    },
    {
     "cell_type": "markdown",
     "metadata": {},
     "source": [
      "Calculate average time series"
     ]
    },
    {
     "cell_type": "code",
     "collapsed": false,
     "input": [
      "M=np.mean(np.mean(np.mean(data,0),0),0)\n",
      "Mav=M.mean()"
     ],
     "language": "python",
     "metadata": {},
     "outputs": [],
     "prompt_number": 10
    },
    {
     "cell_type": "markdown",
     "metadata": {},
     "source": [
      "Get approxiamte on and off times"
     ]
    },
    {
     "cell_type": "code",
     "collapsed": false,
     "input": [
      "liston=[i for i in range(len(M)) if M[i]>Mav*0.7]\n",
      "liston[0]"
     ],
     "language": "python",
     "metadata": {},
     "outputs": [
      {
       "metadata": {},
       "output_type": "pyout",
       "prompt_number": 11,
       "text": [
        "35"
       ]
      }
     ],
     "prompt_number": 11
    },
    {
     "cell_type": "markdown",
     "metadata": {},
     "source": [
      "Model for fitting onset and offset"
     ]
    },
    {
     "cell_type": "code",
     "collapsed": false,
     "input": [
      "def model(x,a,b,c,d):\n",
      "    if x<a:\n",
      "        return b\n",
      "    elif x<c:\n",
      "        return b+(x-a)*d\n",
      "    else:\n",
      "        return (c-a)*d+b"
     ],
     "language": "python",
     "metadata": {},
     "outputs": [],
     "prompt_number": 12
    },
    {
     "cell_type": "markdown",
     "metadata": {},
     "source": [
      "Model onset and find precise onset time"
     ]
    },
    {
     "cell_type": "code",
     "collapsed": false,
     "input": [
      "Ms=M[range(liston[0]-8,liston[0]+8)]"
     ],
     "language": "python",
     "metadata": {},
     "outputs": [],
     "prompt_number": 13
    },
    {
     "cell_type": "code",
     "collapsed": false,
     "input": [
      "def Sq(X):\n",
      "    return sum([(model(i,X[0],X[1],X[2],X[3])-Ms[i])**2 for i in range(len(Ms))])   "
     ],
     "language": "python",
     "metadata": {},
     "outputs": [],
     "prompt_number": 14
    },
    {
     "cell_type": "code",
     "collapsed": false,
     "input": [
      "liston[0]-8"
     ],
     "language": "python",
     "metadata": {},
     "outputs": [
      {
       "metadata": {},
       "output_type": "pyout",
       "prompt_number": 15,
       "text": [
        "27"
       ]
      }
     ],
     "prompt_number": 15
    },
    {
     "cell_type": "code",
     "collapsed": false,
     "input": [
      "res = scipy.optimize.minimize(Sq,x0=[7,0.3,9,0.7])"
     ],
     "language": "python",
     "metadata": {},
     "outputs": [],
     "prompt_number": 16
    },
    {
     "cell_type": "code",
     "collapsed": false,
     "input": [
      "ON=liston[0]-8+res.x[2]\n",
      "print(ON)"
     ],
     "language": "python",
     "metadata": {},
     "outputs": [
      {
       "output_type": "stream",
       "stream": "stdout",
       "text": [
        "35.5037787226\n"
       ]
      }
     ],
     "prompt_number": 17
    },
    {
     "cell_type": "code",
     "collapsed": false,
     "input": [
      "ONint=np.int(np.ceil(ON))\n",
      "Onint=1\n",
      "print(ONint)"
     ],
     "language": "python",
     "metadata": {},
     "outputs": [
      {
       "output_type": "stream",
       "stream": "stdout",
       "text": [
        "36\n"
       ]
      }
     ],
     "prompt_number": 18
    },
    {
     "cell_type": "code",
     "collapsed": false,
     "input": [
      "plt.plot(np.squeeze(M[range(liston[0]-8,liston[0]+8)]),'+')\n",
      "plt.plot(np.arange(0,len(Ms),0.1),[model(i,res.x[0],res.x[1],res.x[2],res.x[3]) for i in np.arange(0,len(Ms),0.1)])\n",
      "plt.show()"
     ],
     "language": "python",
     "metadata": {},
     "outputs": [
      {
       "metadata": {},
       "output_type": "display_data",
       "png": "iVBORw0KGgoAAAANSUhEUgAAAXcAAAEACAYAAABI5zaHAAAABHNCSVQICAgIfAhkiAAAAAlwSFlz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\nS1IJ/X8J4gowcySypQAAAABJRU5ErkJggg==\n",
       "text": [
        "<matplotlib.figure.Figure at 0x7f1eb0872610>"
       ]
      }
     ],
     "prompt_number": 19
    },
    {
     "cell_type": "markdown",
     "metadata": {},
     "source": [
      "Model offset and find precise offset time"
     ]
    },
    {
     "cell_type": "code",
     "collapsed": false,
     "input": [
      "Ms=M[range(liston[len(liston)-1]-8,liston[len(liston)-1]+8)]"
     ],
     "language": "python",
     "metadata": {},
     "outputs": [],
     "prompt_number": 20
    },
    {
     "cell_type": "code",
     "collapsed": false,
     "input": [
      "def Sq(X):\n",
      "    return sum([(model(i,X[0],X[1],X[2],X[3])-Ms[i])**2 for i in range(len(Ms))]) "
     ],
     "language": "python",
     "metadata": {},
     "outputs": [],
     "prompt_number": 21
    },
    {
     "cell_type": "code",
     "collapsed": false,
     "input": [
      "res = scipy.optimize.minimize(Sq,x0=[7,3,9,-1])"
     ],
     "language": "python",
     "metadata": {},
     "outputs": [],
     "prompt_number": 22
    },
    {
     "cell_type": "code",
     "collapsed": false,
     "input": [
      "OFF=liston[len(liston)-1]-8+res.x[0]\n",
      "#OFF=liston[len(liston)-1]\n",
      "print(OFF)\n",
      "OFFint=np.int(np.floor(OFF))\n",
      "print(OFFint)"
     ],
     "language": "python",
     "metadata": {},
     "outputs": [
      {
       "output_type": "stream",
       "stream": "stdout",
       "text": [
        "5962.98733442\n",
        "5962\n"
       ]
      }
     ],
     "prompt_number": 23
    },
    {
     "cell_type": "code",
     "collapsed": false,
     "input": [
      "plt.plot(np.squeeze(Ms),'+')\n",
      "plt.plot(np.arange(0,len(Ms),0.1),[model(i,res.x[0],res.x[1],res.x[2],res.x[3]) for i in np.arange(0,len(Ms),0.1)])\n",
      "plt.show()"
     ],
     "language": "python",
     "metadata": {},
     "outputs": [
      {
       "metadata": {},
       "output_type": "display_data",
       "png": "iVBORw0KGgoAAAANSUhEUgAAAXcAAAEACAYAAABI5zaHAAAABHNCSVQICAgIfAhkiAAAAAlwSFlz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\nQmCC\n",
       "text": [
        "<matplotlib.figure.Figure at 0x7f1eacc9dd50>"
       ]
      }
     ],
     "prompt_number": 24
    },
    {
     "cell_type": "markdown",
     "metadata": {},
     "source": [
      "# Keep only the frames for which the excitation is on and save"
     ]
    },
    {
     "cell_type": "code",
     "collapsed": false,
     "input": [
      "D4=np.transpose(data[:,:,:,range(ONint,(OFFint+1))],(2,1,0,3))\n",
      "nim=nib.Nifti1Image(D4,np.eye(4))\n",
      "nib.save(nim,'/home/sophie/Desktop/'+Dataname+'on.nii.gz')"
     ],
     "language": "python",
     "metadata": {},
     "outputs": [],
     "prompt_number": 25
    },
    {
     "cell_type": "code",
     "collapsed": false,
     "input": [
      "sio.savemat('/home/sophie/Desktop/'+Dataname+'TimeFluoOn.mat', {'TimeFluoOn':[ONint,(OFFint+1)]})"
     ],
     "language": "python",
     "metadata": {},
     "outputs": [],
     "prompt_number": 30
    },
    {
     "cell_type": "markdown",
     "metadata": {},
     "source": [
      "# Get times corresponding to images (exctiation light completely on : t=0)"
     ]
    },
    {
     "cell_type": "code",
     "collapsed": false,
     "input": [
      "TimeFile='/home/sophie/Downloads/Data'+''.join([Dataname[i] for i in range(6)])+'_.csv'"
     ],
     "language": "python",
     "metadata": {},
     "outputs": [],
     "prompt_number": 26
    },
    {
     "cell_type": "code",
     "collapsed": false,
     "input": [
      "print(TimeFile)"
     ],
     "language": "python",
     "metadata": {},
     "outputs": [
      {
       "output_type": "stream",
       "stream": "stdout",
       "text": [
        "/home/sophie/Downloads/Data100106_.csv\n"
       ]
      }
     ],
     "prompt_number": 27
    },
    {
     "cell_type": "code",
     "collapsed": false,
     "input": [
      "Listfile = open(TimeFile, 'r')\n",
      "ListTime = [line.split('\\n')[0] for line in Listfile.readlines()]"
     ],
     "language": "python",
     "metadata": {},
     "outputs": [
      {
       "ename": "IOError",
       "evalue": "[Errno 2] No such file or directory: '/home/sophie/Downloads/Data100106_.csv'",
       "output_type": "pyerr",
       "traceback": [
        "\u001b[0;31m---------------------------------------------------------------------------\u001b[0m\n\u001b[0;31mIOError\u001b[0m                                   Traceback (most recent call last)",
        "\u001b[0;32m<ipython-input-28-842fa942eb02>\u001b[0m in \u001b[0;36m<module>\u001b[0;34m()\u001b[0m\n\u001b[0;32m----> 1\u001b[0;31m \u001b[0mListfile\u001b[0m \u001b[0;34m=\u001b[0m \u001b[0mopen\u001b[0m\u001b[0;34m(\u001b[0m\u001b[0mTimeFile\u001b[0m\u001b[0;34m,\u001b[0m \u001b[0;34m'r'\u001b[0m\u001b[0;34m)\u001b[0m\u001b[0;34m\u001b[0m\u001b[0m\n\u001b[0m\u001b[1;32m      2\u001b[0m \u001b[0mListTime\u001b[0m \u001b[0;34m=\u001b[0m \u001b[0;34m[\u001b[0m\u001b[0mline\u001b[0m\u001b[0;34m.\u001b[0m\u001b[0msplit\u001b[0m\u001b[0;34m(\u001b[0m\u001b[0;34m'\\n'\u001b[0m\u001b[0;34m)\u001b[0m\u001b[0;34m[\u001b[0m\u001b[0;36m0\u001b[0m\u001b[0;34m]\u001b[0m \u001b[0;32mfor\u001b[0m \u001b[0mline\u001b[0m \u001b[0;32min\u001b[0m \u001b[0mListfile\u001b[0m\u001b[0;34m.\u001b[0m\u001b[0mreadlines\u001b[0m\u001b[0;34m(\u001b[0m\u001b[0;34m)\u001b[0m\u001b[0;34m]\u001b[0m\u001b[0;34m\u001b[0m\u001b[0m\n",
        "\u001b[0;31mIOError\u001b[0m: [Errno 2] No such file or directory: '/home/sophie/Downloads/Data100106_.csv'"
       ]
      }
     ],
     "prompt_number": 28
    },
    {
     "cell_type": "code",
     "collapsed": false,
     "input": [
      "Timespl=[float(ListTime[i].split(',')[2]) for i in range(1,len(ListTime))]"
     ],
     "language": "python",
     "metadata": {},
     "outputs": []
    },
    {
     "cell_type": "code",
     "collapsed": false,
     "input": [
      "plt.plot(Timespl)"
     ],
     "language": "python",
     "metadata": {},
     "outputs": []
    },
    {
     "cell_type": "code",
     "collapsed": false,
     "input": [
      "TimeOn=[Timespl[i] for i in range(ONint,(OFFint+1))]"
     ],
     "language": "python",
     "metadata": {},
     "outputs": []
    },
    {
     "cell_type": "code",
     "collapsed": false,
     "input": [
      "Tinit=(ON-ONint-1)*(Timespl[ONint]-Timespl[ONint-1])+Timespl[ONint-1]"
     ],
     "language": "python",
     "metadata": {},
     "outputs": []
    },
    {
     "cell_type": "code",
     "collapsed": false,
     "input": [
      "TimeOnFinal=TimeOn-Tinit"
     ],
     "language": "python",
     "metadata": {},
     "outputs": []
    },
    {
     "cell_type": "code",
     "collapsed": false,
     "input": [
      "D4.shape"
     ],
     "language": "python",
     "metadata": {},
     "outputs": []
    },
    {
     "cell_type": "code",
     "collapsed": false,
     "input": [
      "sio.savemat('/home/sophie/Desktop/'+Dataname+'TimeFluoOn.mat', {'TimeFluoOn':TimeOnFinal})"
     ],
     "language": "python",
     "metadata": {},
     "outputs": []
    },
    {
     "cell_type": "code",
     "collapsed": false,
     "input": [],
     "language": "python",
     "metadata": {},
     "outputs": []
    },
    {
     "cell_type": "code",
     "collapsed": false,
     "input": [],
     "language": "python",
     "metadata": {},
     "outputs": []
    },
    {
     "cell_type": "code",
     "collapsed": false,
     "input": [],
     "language": "python",
     "metadata": {},
     "outputs": []
    }
   ],
   "metadata": {}
  }
 ]
}
>>>>>>> 57759d29a73933bc92c6aaedf808d46b8fabe631
