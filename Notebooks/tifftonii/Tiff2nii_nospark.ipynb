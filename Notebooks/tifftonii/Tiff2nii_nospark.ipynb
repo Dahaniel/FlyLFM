{
 "metadata": {
  "name": "",
  "signature": "sha256:dacd60233ffdc7dd6a8e092ad3ddd8558c61755e87585f8b479a0425da62e205"
 },
 "nbformat": 3,
 "nbformat_minor": 0,
 "worksheets": [
  {
   "cells": [
    {
     "cell_type": "code",
     "collapsed": false,
     "input": [
      "clear all"
     ],
     "language": "python",
     "metadata": {},
     "outputs": [
      {
       "output_type": "stream",
       "stream": "stdout",
       "text": [
        "\u001b[H\u001b[2J"
       ]
      }
     ],
     "prompt_number": 1
    },
    {
     "cell_type": "markdown",
     "metadata": {},
     "source": [
      "# Get folder"
     ]
    },
    {
     "cell_type": "code",
     "collapsed": false,
     "input": [
      "import os"
     ],
     "language": "python",
     "metadata": {},
     "outputs": [],
     "prompt_number": 2
    },
    {
     "cell_type": "code",
     "collapsed": false,
     "input": [
      "import numpy as np"
     ],
     "language": "python",
     "metadata": {},
     "outputs": [],
     "prompt_number": 3
    },
    {
     "cell_type": "code",
     "collapsed": false,
     "input": [
      "from Tkinter import Tk\n",
      "from tkFileDialog import askdirectory\n",
      "\n",
      "Tk().withdraw() # we don't want a full GUI, so keep the root window from appearing\n",
      "foldername = askdirectory() # show an \"Open\" dialog box and return the path to the selected file\n",
      "print(foldername)"
     ],
     "language": "python",
     "metadata": {},
     "outputs": [
      {
       "output_type": "stream",
       "stream": "stdout",
       "text": [
        "/media/LaCie/100073ss1\n"
       ]
      }
     ],
     "prompt_number": 4
    },
    {
     "cell_type": "code",
     "collapsed": false,
     "input": [
      "path=foldername"
     ],
     "language": "python",
     "metadata": {},
     "outputs": [],
     "prompt_number": 5
    },
    {
     "cell_type": "code",
     "collapsed": false,
     "input": [
      "A=foldername.split('/')\n",
      "Dataname=A[-1]"
     ],
     "language": "python",
     "metadata": {},
     "outputs": [],
     "prompt_number": 6
    },
    {
     "cell_type": "code",
     "collapsed": false,
     "input": [
      "Dataname"
     ],
     "language": "python",
     "metadata": {},
     "outputs": [
      {
       "metadata": {},
       "output_type": "pyout",
       "prompt_number": 7,
       "text": [
        "'100073ss1'"
       ]
      }
     ],
     "prompt_number": 7
    },
    {
     "cell_type": "markdown",
     "metadata": {},
     "source": [
      "# Open the images"
     ]
    },
    {
     "cell_type": "code",
     "collapsed": false,
     "input": [
      "import libtiff \n",
      "import matplotlib.pyplot as plt\n",
      "\n",
      "t = libtiff.TiffFile(path+'/'+Dataname+'-00001.tif') \n",
      "tt = t.get_tiff_array() \n",
      "t.close()\n",
      "S=tt.shape\n",
      "data=np.zeros([S[0],S[1],S[2],len(os.listdir(path))])\n",
      "#for i in range(1,15000):\n",
      "for i in range(len(os.listdir(path))):       \n",
      "#for fn in os.listdir(path):\n",
      "    t = libtiff.TiffFile(path+'/'+Dataname+'-'+str(i+1).zfill(5)+'.tif') \n",
      "    #t = libtiff.TiffFile(path+fn) \n",
      "    tt = t.get_tiff_array()\n",
      "    data[:,:,:,i]=tt[:][:][:]\n",
      "    t.close()\n",
      "    i=i+1\n"
     ],
     "language": "python",
     "metadata": {},
     "outputs": [],
     "prompt_number": 8
    },
    {
     "cell_type": "code",
     "collapsed": false,
     "input": [
      "S=data.shape"
     ],
     "language": "python",
     "metadata": {},
     "outputs": [],
     "prompt_number": 9
    },
    {
     "cell_type": "code",
     "collapsed": false,
     "input": [
      "S"
     ],
     "language": "python",
     "metadata": {},
     "outputs": [
      {
       "metadata": {},
       "output_type": "pyout",
       "prompt_number": 10,
       "text": [
        "(36, 24, 106, 18952)"
       ]
      }
     ],
     "prompt_number": 10
    },
    {
     "cell_type": "code",
     "collapsed": false,
     "input": [
      "%matplotlib inline\n",
      "import matplotlib.pyplot as plt"
     ],
     "language": "python",
     "metadata": {},
     "outputs": [],
     "prompt_number": 11
    },
    {
     "cell_type": "markdown",
     "metadata": {},
     "source": [
      "# Keep only the frames for which the excitation is on"
     ]
    },
    {
     "cell_type": "code",
     "collapsed": false,
     "input": [
      "M=np.mean(np.mean(np.mean(data,0),0),0)"
     ],
     "language": "python",
     "metadata": {},
     "outputs": [],
     "prompt_number": 12
    },
    {
     "cell_type": "code",
     "collapsed": false,
     "input": [
      "plt.plot(np.squeeze(M))\n",
      "plt.show()"
     ],
     "language": "python",
     "metadata": {},
     "outputs": [
      {
       "metadata": {},
       "output_type": "display_data",
       "png": "[encoded data removed]",
       "text": [
        "<matplotlib.figure.Figure at 0x3598710>"
       ]
      }
     ],
     "prompt_number": 13
    },
    {
     "cell_type": "code",
     "collapsed": false,
     "input": [
      "Mav=M.mean()"
     ],
     "language": "python",
     "metadata": {},
     "outputs": [],
     "prompt_number": 17
    },
    {
     "cell_type": "code",
     "collapsed": false,
     "input": [
      "liston=[i for i in range(len(M)) if M[i]>Mav*0.7]"
     ],
     "language": "python",
     "metadata": {},
     "outputs": []
    },
    {
     "cell_type": "markdown",
     "metadata": {},
     "source": [
      "#Save"
     ]
    },
    {
     "cell_type": "code",
     "collapsed": false,
     "input": [
      "from nifti import NiftiImage\n",
      "D4=np.transpose(data,(0,3,1,2))\n",
      "nim=NiftiImage(D4)\n",
      "nim.save('/media/LaCie/100073ss1.nii.gz')"
     ],
     "language": "python",
     "metadata": {},
     "outputs": [
      {
       "output_type": "stream",
       "stream": "stderr",
       "text": [
        "/usr/lib/pymodules/python2.7/nifti/image.py:231: FutureWarning: comparison to `None` will result in an elementwise object comparison in the future.\n",
        "  return (not self._data == None)\n"
       ]
      }
     ],
     "prompt_number": 15
    },
    {
     "cell_type": "code",
     "collapsed": false,
     "input": [
      "on=liston[0]\n",
      "off=liston[-1]\n",
      "str1 = ''.join(on, off)"
     ],
     "language": "python",
     "metadata": {},
     "outputs": []
    },
    {
     "cell_type": "code",
     "collapsed": false,
     "input": [
      "%save -r '/media/LaCie/100073onoff.txt' str1"
     ],
     "language": "python",
     "metadata": {},
     "outputs": []
    }
   ],
   "metadata": {}
  }
 ]
}