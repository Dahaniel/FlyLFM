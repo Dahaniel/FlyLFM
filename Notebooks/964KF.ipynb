{
 "metadata": {
  "name": "964KF"
 },
 "nbformat": 3,
 "nbformat_minor": 0,
 "worksheets": [
  {
   "cells": [
    {
     "cell_type": "code",
     "collapsed": false,
     "input": [
      "clear all"
     ],
     "language": "python",
     "metadata": {},
     "outputs": [],
     "prompt_number": 1
    },
    {
     "cell_type": "code",
     "collapsed": false,
     "input": [
      "import matplotlib\n",
      "import numpy as np\n",
      "import matplotlib.pyplot as plt\n",
      "from scipy import stats\n",
      "from scipy import io\n",
      "import scipy.io as sio\n",
      "%matplotlib inline \n",
      "import pylab\n",
      "import csv\n",
      "from Tkinter import Tk\n",
      "from tkFileDialog import askopenfilename\n",
      "from tkFileDialog import askdirectory\n",
      "import nibabel as nb\n",
      "from scipy import io\n",
      "from nifti import NiftiImage\n",
      "import nibabel as nb"
     ],
     "language": "python",
     "metadata": {},
     "outputs": [],
     "prompt_number": 2
    },
    {
     "cell_type": "code",
     "collapsed": false,
     "input": [
      "# from http://stackoverflow.com/questions/3579568/choosing-a-file-in-python-with-simple-dialog\n",
      "from Tkinter import Tk\n",
      "from tkFileDialog import askopenfilename\n",
      "\n",
      "Tk().withdraw() # we don't want a full GUI, so keep the root window from appearing\n",
      "filename = askopenfilename() # show an \"Open\" dialog box and return the path to the selected file\n",
      "print(filename)"
     ],
     "language": "python",
     "metadata": {},
     "outputs": [],
     "prompt_number": 3
    },
    {
     "cell_type": "code",
     "collapsed": false,
     "input": [
      "Ua=sio.loadmat(filename)\n",
      "DT=Ua['TSo']\n",
      "DT.shape"
     ],
     "language": "python",
     "metadata": {},
     "outputs": [],
     "prompt_number": 4
    },
    {
     "cell_type": "code",
     "collapsed": false,
     "input": [
      "# from http://stackoverflow.com/questions/3579568/choosing-a-file-in-python-with-simple-dialog\n",
      "from Tkinter import Tk\n",
      "from tkFileDialog import askopenfilename\n",
      "\n",
      "Tk().withdraw() # we don't want a full GUI, so keep the root window from appearing\n",
      "filename2 = askopenfilename() # show an \"Open\" dialog box and return the path to the selected file\n",
      "print(filename2)"
     ],
     "language": "python",
     "metadata": {},
     "outputs": [],
     "prompt_number": 5
    },
    {
     "cell_type": "code",
     "collapsed": false,
     "input": [
      "img1 = nb.load(filename2)\n",
      "data = img1.get_data()\n",
      "S=data.shape\n",
      "S"
     ],
     "language": "python",
     "metadata": {},
     "outputs": [],
     "prompt_number": 6
    },
    {
     "cell_type": "code",
     "collapsed": false,
     "input": [
      "Tk().withdraw() # we don't want a full GUI, so keep the root window from appearing\n",
      "filename = askopenfilename() # show an \"Open\" dialog box and return the path to the selected file\n",
      "print(filename)"
     ],
     "language": "python",
     "metadata": {},
     "outputs": [],
     "prompt_number": 7
    },
    {
     "cell_type": "code",
     "collapsed": false,
     "input": [
      "with open(filename) as inputfile:\n",
      "    results = list(csv.reader(inputfile))"
     ],
     "language": "python",
     "metadata": {},
     "outputs": [],
     "prompt_number": 8
    },
    {
     "cell_type": "code",
     "collapsed": false,
     "input": [
      "Raw_timea=[float(results[i][2]) for i in (range(1,len(results)))]"
     ],
     "language": "python",
     "metadata": {},
     "outputs": [],
     "prompt_number": 9
    },
    {
     "cell_type": "code",
     "collapsed": false,
     "input": [
      "Raw_time=np.asarray(Raw_timea[0:len(results)])"
     ],
     "language": "python",
     "metadata": {},
     "outputs": [],
     "prompt_number": 10
    },
    {
     "cell_type": "code",
     "collapsed": false,
     "input": [
      "Raw_time.shape"
     ],
     "language": "python",
     "metadata": {},
     "outputs": [],
     "prompt_number": 11
    },
    {
     "cell_type": "code",
     "collapsed": false,
     "input": [
      "on=126\n",
      "off=6253\n",
      "Time_fluo=Raw_time[on:off]-Raw_time[on]"
     ],
     "language": "python",
     "metadata": {},
     "outputs": [],
     "prompt_number": 12
    },
    {
     "cell_type": "code",
     "collapsed": false,
     "input": [
      "Time_fluo.shape"
     ],
     "language": "python",
     "metadata": {},
     "outputs": [],
     "prompt_number": 13
    },
    {
     "cell_type": "code",
     "collapsed": false,
     "input": [
      "Tmax=np.max(Time_fluo)\n",
      "Tstim=np.array(range(1,100*(int(Tmax)+1)))\n",
      "Tstim=Tstim/100\n",
      "Odor=np.zeros(len(Tstim*100))\n",
      "UV=np.zeros(len(Tstim*100))"
     ],
     "language": "python",
     "metadata": {},
     "outputs": [],
     "prompt_number": 14
    },
    {
     "cell_type": "code",
     "collapsed": false,
     "input": [
      "for i in range(0,7):\n",
      "    UV[10*100+i*600:100*10+i*600+300]=1\n",
      "    \n",
      "for i in range(0,5):    \n",
      "    Odor[(10+8*6+15)*100+i*600:(10+8*6+15)*100+i*600+200]=1"
     ],
     "language": "python",
     "metadata": {},
     "outputs": [],
     "prompt_number": 15
    },
    {
     "cell_type": "code",
     "collapsed": false,
     "input": [
      "plt.plot(Tstim,UV)\n",
      "plt.plot(Tstim,Odor)"
     ],
     "language": "python",
     "metadata": {},
     "outputs": [],
     "prompt_number": 16
    },
    {
     "cell_type": "code",
     "collapsed": false,
     "input": [
      "Tk().withdraw() # we don't want a full GUI, so keep the root window from appearing\n",
      "filename = askopenfilename() # show an \"Open\" dialog box and return the path to the selected file\n",
      "print(filename)\n",
      "B=sio.loadmat(filename)"
     ],
     "language": "python",
     "metadata": {},
     "outputs": [],
     "prompt_number": 17
    },
    {
     "cell_type": "code",
     "collapsed": false,
     "input": [
      "Tb=B['T']\n",
      "Left=B['green']\n",
      "Right=B['blue']"
     ],
     "language": "python",
     "metadata": {},
     "outputs": [],
     "prompt_number": 18
    },
    {
     "cell_type": "code",
     "collapsed": false,
     "input": [
      "Demean=np.zeros(S)\n",
      "Dmaps=np.zeros(S)\n",
      "Dvar=np.zeros(S)\n",
      "Var=np.zeros(S[3])\n",
      "D2=np.zeros([S[0],S[1],5,S[3]])\n",
      "Tvar=np.zeros(S[3])"
     ],
     "language": "python",
     "metadata": {},
     "outputs": [],
     "prompt_number": 19
    },
    {
     "cell_type": "code",
     "collapsed": false,
     "input": [
      "for i in range(S[3]):\n",
      "    Demean[:,:,:,i]=data[:,:,:,i]-np.mean(np.mean(np.mean(data[:,:,:,i],0),0),0)"
     ],
     "language": "python",
     "metadata": {},
     "outputs": [],
     "prompt_number": 20
    },
    {
     "cell_type": "code",
     "collapsed": false,
     "input": [
      "for i in range(S[3]):\n",
      "    Dsq=np.reshape(Demean[:,:,:,i],S[0]*S[1]*S[2])\n",
      "    Var[i]=np.sqrt(np.var(Dsq))\n",
      "    Dvar=Demean[:,:,:,i]/Var[i]\n",
      "    Dmaps[:,:,:,i]=Dvar-2\n",
      "    Tvar[i]=np.var(DT[i,:])\n",
      "Dmaps[Dmaps<0]=0"
     ],
     "language": "python",
     "metadata": {},
     "outputs": [],
     "prompt_number": 21
    },
    {
     "cell_type": "code",
     "collapsed": false,
     "input": [
      "plt.plot(Tvar,'g')\n",
      "#plt.plot(Var)"
     ],
     "language": "python",
     "metadata": {},
     "outputs": [],
     "prompt_number": 22
    },
    {
     "cell_type": "code",
     "collapsed": false,
     "input": [
      "Order=np.argsort(Var)[::-1]\n",
      "datao=data[:,:,:,Order[:]]\n",
      "Dmapso=Dmaps[:,:,:,Order[:]]\n",
      "Varor=Var[Order]"
     ],
     "language": "python",
     "metadata": {},
     "outputs": [],
     "prompt_number": 23
    },
    {
     "cell_type": "code",
     "collapsed": false,
     "input": [
      "my_cmap=plt.cm.jet\n",
      "my_cmap.set_bad(alpha=0)\n",
      "Good_ICs=np.zeros(S[3])\n",
      "Label_ICs=[]\n",
      "pylab.rcParams['figure.figsize'] = (13, 2.5)"
     ],
     "language": "python",
     "metadata": {},
     "outputs": [],
     "prompt_number": 24
    },
    {
     "cell_type": "code",
     "collapsed": false,
     "input": [
      "Dtemp=np.mean(data,3)"
     ],
     "language": "python",
     "metadata": {},
     "outputs": [],
     "prompt_number": 25
    },
    {
     "cell_type": "code",
     "collapsed": false,
     "input": [
      "Dtemp.shape"
     ],
     "language": "python",
     "metadata": {},
     "outputs": [],
     "prompt_number": 26
    },
    {
     "cell_type": "code",
     "collapsed": false,
     "input": [
      "%%javascript\n",
      "IPython.OutputArea.auto_scroll_threshold =4000;"
     ],
     "language": "python",
     "metadata": {},
     "outputs": [],
     "prompt_number": 27
    },
    {
     "cell_type": "code",
     "collapsed": false,
     "input": [
      "if S[2]>5:\n",
      "    Nstack=5\n",
      "    Int100=[(i+1)*100/Nstack for i in range(Nstack)]\n",
      "    Percs=np.percentile(range(S[2]),Int100)\n",
      "    Indices=np.split(range(S[2]),Percs)\n",
      "    D1=np.zeros([S[0],S[1],Nstack])\n",
      "    #Dmean=np.squeeze(data[:,:,range(Nstack),2])\n",
      "    for i in range(Nstack):\n",
      "        Vmean=np.mean(Dtemp[:,:,Indices[i]],2)\n",
      "        Dmean[:,:,i]=Vmean\n",
      "else:\n",
      "    Nstack=S[2]\n",
      "    D1=np.zeros([S[0],S[1],S[2]])\n",
      "    Dmean=data[:,:,range(S[2])]  \n",
      "    Dmean=np.squeeze(Dtemp[:,:,:])"
     ],
     "language": "python",
     "metadata": {},
     "outputs": [],
     "prompt_number": 28
    },
    {
     "cell_type": "code",
     "collapsed": false,
     "input": [
      "if S[2]>5:\n",
      "    Nstack=5\n",
      "    Int100=[(i+1)*100/Nstack for i in range(Nstack)]\n",
      "    Percs=np.percentile(range(S[2]),Int100)\n",
      "    Indices=np.split(range(S[2]),Percs)\n",
      "    D1=np.zeros([S[0],S[1],Nstack])\n",
      "    #Dmean=np.squeeze(data[:,:,range(Nstack),2])\n",
      "    for i in range(Nstack):\n",
      "        Vmean=np.mean(Dtemp[:,:,Indices[i]],2)\n",
      "        Dmean[:,:,i]=Vmean\n",
      "else:\n",
      "    Nstack=S[2]\n",
      "    D1=np.zeros([S[0],S[1],S[2]])\n",
      "    Dmean=data[:,:,range(S[2])]  \n",
      "    Dmean=np.squeeze(Dtemp[:,:,:])"
     ],
     "language": "python",
     "metadata": {},
     "outputs": [],
     "prompt_number": 29
    },
    {
     "cell_type": "code",
     "collapsed": false,
     "input": [
      "if S[2]>5:\n",
      "    Nstack=5\n",
      "    Int100=[(i+1)*100/Nstack for i in range(Nstack)]\n",
      "    Percs=np.percentile(range(S[2]),Int100)\n",
      "    Indices=np.split(range(S[2]),Percs)\n",
      "    D1=np.zeros([S[0],S[1],Nstack])\n",
      "    Dmean=np.squeeze(data[:,:,range(Nstack),2])\n",
      "    for i in range(Nstack):\n",
      "        Vmean=np.mean(Dtemp[:,:,Indices[i]],2)\n",
      "        Dmean[:,:,i]=Vmean\n",
      "else:\n",
      "    Nstack=S[2]\n",
      "    D1=np.zeros([S[0],S[1],S[2]])\n",
      "    Dmean=data[:,:,range(S[2])]  \n",
      "    Dmean=np.squeeze(Dtemp[:,:,:])"
     ],
     "language": "python",
     "metadata": {},
     "outputs": [],
     "prompt_number": 30
    },
    {
     "cell_type": "code",
     "collapsed": false,
     "input": [
      "plt.imshow(Dmean[:,:,1],cmap=plt.cm.gray)"
     ],
     "language": "python",
     "metadata": {},
     "outputs": [],
     "prompt_number": 31
    },
    {
     "cell_type": "code",
     "collapsed": false,
     "input": [
      "Dmean.shape"
     ],
     "language": "python",
     "metadata": {},
     "outputs": [],
     "prompt_number": 32
    },
    {
     "cell_type": "code",
     "collapsed": false,
     "input": [
      "Nstack"
     ],
     "language": "python",
     "metadata": {},
     "outputs": [],
     "prompt_number": 33
    },
    {
     "cell_type": "code",
     "collapsed": false,
     "input": [
      "for j in range(S[3]):\n",
      "\n",
      "    if S[2]>5:\n",
      "        for i in range(Nstack):\n",
      "            V=Dmaps[:,:,Indices[i],Order[j]]\n",
      "            D1[:,:,i]=np.max(V,2)\n",
      "        D2[:,:,:,j]=D1\n",
      "        D1[D1==0]=np.nan\n",
      "           \n",
      "    else:\n",
      "        for i in range(S[2]):\n",
      "            V=Dmaps[:,:,i,Order[j]]\n",
      "            D1[:,:,i]=V \n",
      "            \n",
      "\n",
      "    print(j)\n",
      "    for i in range(Nstack):\n",
      "        plt.subplot(1,5,i+1)\n",
      "        plt.imshow(Dmean[:,:,i],cmap=plt.cm.gray)\n",
      "        plt.imshow(D1[:,:,i], cmap=my_cmap,interpolation='none')\n",
      "        frame1 = plt.gca()\n",
      "        frame1.axes.get_xaxis().set_visible(False)\n",
      "        frame1.axes.get_yaxis().set_visible(False)\n",
      "        \n",
      "    plt.show()\n",
      "    \n",
      "    plt.plot(TS_ROI[Order[j],:])\n",
      "    plt.plot(DT[:,Order[j]]+2)\n",
      "    plt.show()\n",
      "    \n",
      "    Label_ICs.append(raw_input())\n",
      "    if Label_ICs[j]=='':\n",
      "        Good_ICs[j]=0\n",
      "    else:\n",
      "        Good_ICs[j]=1\n",
      "        \n",
      "        "
     ],
     "language": "python",
     "metadata": {},
     "outputs": [],
     "prompt_number": 34
    },
    {
     "cell_type": "code",
     "collapsed": false,
     "input": [
      "for j in range(S[3]):\n",
      "\n",
      "    if S[2]>5:\n",
      "        for i in range(Nstack):\n",
      "            V=Dmaps[:,:,Indices[i],Order[j]]\n",
      "            D1[:,:,i]=np.max(V,2)\n",
      "        D2[:,:,:,j]=D1\n",
      "        D1[D1==0]=np.nan\n",
      "           \n",
      "    else:\n",
      "        for i in range(S[2]):\n",
      "            V=Dmaps[:,:,i,Order[j]]\n",
      "            D1[:,:,i]=V \n",
      "            \n",
      "\n",
      "    print(j)\n",
      "    for i in range(Nstack):\n",
      "        plt.subplot(1,5,i+1)\n",
      "        plt.imshow(Dmean[:,:,i],cmap=plt.cm.gray)\n",
      "        plt.imshow(D1[:,:,i], cmap=my_cmap,interpolation='none')\n",
      "        frame1 = plt.gca()\n",
      "        frame1.axes.get_xaxis().set_visible(False)\n",
      "        frame1.axes.get_yaxis().set_visible(False)\n",
      "        \n",
      "    plt.show()\n",
      "    \n",
      "    %plt.plot(TS_ROI[Order[j],:])\n",
      "    plt.plot(DT[:,Order[j]]+2)\n",
      "    plt.show()\n",
      "    \n",
      "    Label_ICs.append(raw_input())\n",
      "    if Label_ICs[j]=='':\n",
      "        Good_ICs[j]=0\n",
      "    else:\n",
      "        Good_ICs[j]=1\n",
      "        \n",
      "        "
     ],
     "language": "python",
     "metadata": {},
     "outputs": [],
     "prompt_number": 35
    },
    {
     "cell_type": "code",
     "collapsed": false,
     "input": [
      "Tk().withdraw() \n",
      "filenamet = askopenfilename() \n",
      "print(filenamet)\n",
      "nimt=NiftiImage(filenamet)\n",
      "Dtemp=np.squeeze(nimt.data.T)\n",
      "Dtemp.shape"
     ],
     "language": "python",
     "metadata": {},
     "outputs": [],
     "prompt_number": 36
    },
    {
     "cell_type": "code",
     "collapsed": false,
     "input": [
      "Dtemp.shape"
     ],
     "language": "python",
     "metadata": {},
     "outputs": [],
     "prompt_number": 37
    },
    {
     "cell_type": "code",
     "collapsed": false,
     "input": [
      "%%javascript\n",
      "IPython.OutputArea.auto_scroll_threshold =4000;"
     ],
     "language": "python",
     "metadata": {},
     "outputs": [],
     "prompt_number": 38
    },
    {
     "cell_type": "code",
     "collapsed": false,
     "input": [
      "if S[2]>5:\n",
      "    Nstack=5\n",
      "    Int100=[(i+1)*100/Nstack for i in range(Nstack)]\n",
      "    Percs=np.percentile(range(S[2]),Int100)\n",
      "    Indices=np.split(range(S[2]),Percs)\n",
      "    D1=np.zeros([S[0],S[1],Nstack])\n",
      "    Dmean=np.squeeze(data[:,:,range(Nstack),2])\n",
      "    for i in range(Nstack):\n",
      "        Vmean=np.mean(Dtemp[:,:,Indices[i]],2)\n",
      "        Dmean[:,:,i]=Vmean\n",
      "else:\n",
      "    Nstack=S[2]\n",
      "    D1=np.zeros([S[0],S[1],S[2]])\n",
      "    Dmean=data[:,:,range(S[2])]  \n",
      "    Dmean=np.squeeze(Dtemp[:,:,:])"
     ],
     "language": "python",
     "metadata": {},
     "outputs": [],
     "prompt_number": 39
    },
    {
     "cell_type": "code",
     "collapsed": false,
     "input": [
      "plt.imshow(Dmean[:,:,1],cmap=plt.cm.gray)"
     ],
     "language": "python",
     "metadata": {},
     "outputs": [],
     "prompt_number": 40
    },
    {
     "cell_type": "code",
     "collapsed": false,
     "input": [
      "Dmean.shape"
     ],
     "language": "python",
     "metadata": {},
     "outputs": [],
     "prompt_number": 41
    },
    {
     "cell_type": "code",
     "collapsed": false,
     "input": [
      "Nstack"
     ],
     "language": "python",
     "metadata": {},
     "outputs": [],
     "prompt_number": 42
    },
    {
     "cell_type": "code",
     "collapsed": false,
     "input": [
      "for j in range(S[3]):\n",
      "\n",
      "    if S[2]>5:\n",
      "        for i in range(Nstack):\n",
      "            V=Dmaps[:,:,Indices[i],Order[j]]\n",
      "            D1[:,:,i]=np.max(V,2)\n",
      "        D2[:,:,:,j]=D1\n",
      "        D1[D1==0]=np.nan\n",
      "           \n",
      "    else:\n",
      "        for i in range(S[2]):\n",
      "            V=Dmaps[:,:,i,Order[j]]\n",
      "            D1[:,:,i]=V \n",
      "            \n",
      "\n",
      "    print(j)\n",
      "    for i in range(Nstack):\n",
      "        plt.subplot(1,5,i+1)\n",
      "        plt.imshow(Dmean[:,:,i],cmap=plt.cm.gray)\n",
      "        plt.imshow(D1[:,:,i], cmap=my_cmap,interpolation='none')\n",
      "        frame1 = plt.gca()\n",
      "        frame1.axes.get_xaxis().set_visible(False)\n",
      "        frame1.axes.get_yaxis().set_visible(False)\n",
      "        \n",
      "    plt.show()\n",
      "    \n",
      "    #plt.plot(TS_ROI[Order[j],:])\n",
      "    plt.plot(DT[:,Order[j]]+2)\n",
      "    plt.show()\n",
      "    \n",
      "    Label_ICs.append(raw_input())\n",
      "    if Label_ICs[j]=='':\n",
      "        Good_ICs[j]=0\n",
      "    else:\n",
      "        Good_ICs[j]=1\n",
      "        \n",
      "        "
     ],
     "language": "python",
     "metadata": {},
     "outputs": [],
     "prompt_number": 43
    },
    {
     "cell_type": "code",
     "collapsed": false,
     "input": [
      "for j in range(S[3]):\n",
      "\n",
      "    if S[2]>5:\n",
      "        for i in range(Nstack):\n",
      "            V=Dmaps[:,:,Indices[i],Order[j]]\n",
      "            D1[:,:,i]=np.max(V,2)\n",
      "        D2[:,:,:,j]=D1\n",
      "        D1[D1==0]=np.nan\n",
      "           \n",
      "    else:\n",
      "        for i in range(S[2]):\n",
      "            V=Dmaps[:,:,i,Order[j]]\n",
      "            D1[:,:,i]=V \n",
      "            \n",
      "\n",
      "    print(j)\n",
      "    for i in range(Nstack):\n",
      "        plt.subplot(1,5,i+1)\n",
      "        plt.imshow(Dmean[:,:,i],cmap=plt.cm.gray)\n",
      "        plt.imshow(D1[:,:,i], cmap=my_cmap,interpolation='none')\n",
      "        frame1 = plt.gca()\n",
      "        frame1.axes.get_xaxis().set_visible(False)\n",
      "        frame1.axes.get_yaxis().set_visible(False)\n",
      "        \n",
      "    plt.show()\n",
      "    \n",
      "    #plt.plot(TS_ROI[Order[j],:])\n",
      "    plt.plot(DT[:,Order[j]]+2)\n",
      "    plt.show()\n",
      "    \n",
      "    Label_ICs.append(raw_input())\n",
      "    if Label_ICs[j]=='':\n",
      "        Good_ICs[j]=0\n",
      "    else:\n",
      "        Good_ICs[j]=1\n",
      "        \n",
      "        "
     ],
     "language": "python",
     "metadata": {},
     "outputs": [],
     "prompt_number": 44
    },
    {
     "cell_type": "code",
     "collapsed": false,
     "input": [
      "for j in range(S[3]):\n",
      "\n",
      "    if S[2]>5:\n",
      "        for i in range(Nstack):\n",
      "            V=Dmaps[:,:,Indices[i],Order[j]]\n",
      "            D1[:,:,i]=np.max(V,2)\n",
      "        D2[:,:,:,j]=D1\n",
      "        D1[D1==0]=np.nan\n",
      "           \n",
      "    else:\n",
      "        for i in range(S[2]):\n",
      "            V=Dmaps[:,:,i,Order[j]]\n",
      "            D1[:,:,i]=V \n",
      "            \n",
      "\n",
      "    print(j)\n",
      "    for i in range(Nstack):\n",
      "        plt.subplot(1,5,i+1)\n",
      "        plt.imshow(Dmean[:,:,i],cmap=plt.cm.gray)\n",
      "        plt.imshow(D1[:,:,i], cmap=my_cmap,interpolation='none')\n",
      "        frame1 = plt.gca()\n",
      "        frame1.axes.get_xaxis().set_visible(False)\n",
      "        frame1.axes.get_yaxis().set_visible(False)\n",
      "        \n",
      "    plt.show()\n",
      "    \n",
      "    #plt.plot(TS_ROI[Order[j],:])\n",
      "    plt.plot(Time_fluo,DT[:,Order[j]]+2)\n",
      "    plt.plot(Tb,Left)\n",
      "    \n",
      "    plt.show()\n",
      "    \n",
      "    Label_ICs.append(raw_input())\n",
      "    if Label_ICs[j]=='':\n",
      "        Good_ICs[j]=0\n",
      "    else:\n",
      "        Good_ICs[j]=1\n",
      "        \n",
      "        "
     ],
     "language": "python",
     "metadata": {},
     "outputs": [],
     "prompt_number": 45
    },
    {
     "cell_type": "code",
     "collapsed": false,
     "input": [
      "plt.plot(Tb,Left)"
     ],
     "language": "python",
     "metadata": {},
     "outputs": [],
     "prompt_number": 46
    },
    {
     "cell_type": "code",
     "collapsed": false,
     "input": [
      "Left.shape"
     ],
     "language": "python",
     "metadata": {},
     "outputs": [],
     "prompt_number": 47
    },
    {
     "cell_type": "code",
     "collapsed": false,
     "input": [
      "Tb.shape"
     ],
     "language": "python",
     "metadata": {},
     "outputs": [],
     "prompt_number": 48
    },
    {
     "cell_type": "code",
     "collapsed": false,
     "input": [
      "plt.plot(Left)"
     ],
     "language": "python",
     "metadata": {},
     "outputs": [],
     "prompt_number": 49
    },
    {
     "cell_type": "code",
     "collapsed": false,
     "input": [
      "plt.plot(Right)"
     ],
     "language": "python",
     "metadata": {},
     "outputs": [],
     "prompt_number": 50
    },
    {
     "cell_type": "code",
     "collapsed": false,
     "input": [
      "Left"
     ],
     "language": "python",
     "metadata": {},
     "outputs": [],
     "prompt_number": 51
    },
    {
     "cell_type": "code",
     "collapsed": false,
     "input": [
      "Tb=B['T']\n",
      "Left=B['green']\n",
      "Right=B['blue']\n",
      "Leftn=Left/np.max(Left)"
     ],
     "language": "python",
     "metadata": {},
     "outputs": [],
     "prompt_number": 52
    },
    {
     "cell_type": "code",
     "collapsed": false,
     "input": [
      "Tb=B['T']\n",
      "Left=B['green']\n",
      "Right=B['blue']\n",
      "Leftn=Left/np.max(Left)"
     ],
     "language": "python",
     "metadata": {},
     "outputs": [],
     "prompt_number": 53
    },
    {
     "cell_type": "code",
     "collapsed": false,
     "input": [
      "Tb=B['T']\n",
      "Left=B['green']\n",
      "Right=B['blue']\n",
      "Leftn=Left/np.max(Left)\n",
      "Rightn=Left/np.max(Right)"
     ],
     "language": "python",
     "metadata": {},
     "outputs": [],
     "prompt_number": 54
    },
    {
     "cell_type": "code",
     "collapsed": false,
     "input": [
      "plt.plot(Rightn)"
     ],
     "language": "python",
     "metadata": {},
     "outputs": [],
     "prompt_number": 55
    },
    {
     "cell_type": "code",
     "collapsed": false,
     "input": [
      "Left[1:20]"
     ],
     "language": "python",
     "metadata": {},
     "outputs": [],
     "prompt_number": 56
    },
    {
     "cell_type": "code",
     "collapsed": false,
     "input": [
      "plt.plot(Left[1:20])"
     ],
     "language": "python",
     "metadata": {},
     "outputs": [],
     "prompt_number": 57
    },
    {
     "cell_type": "code",
     "collapsed": false,
     "input": [
      "Left.shape"
     ],
     "language": "python",
     "metadata": {},
     "outputs": [],
     "prompt_number": 58
    },
    {
     "cell_type": "code",
     "collapsed": false,
     "input": [
      "plt.plot(Left.T)"
     ],
     "language": "python",
     "metadata": {},
     "outputs": [],
     "prompt_number": 59
    },
    {
     "cell_type": "code",
     "collapsed": false,
     "input": [
      "plt.plot(Leftn.T)"
     ],
     "language": "python",
     "metadata": {},
     "outputs": [],
     "prompt_number": 60
    },
    {
     "cell_type": "code",
     "collapsed": false,
     "input": [
      "Tb=B['T']\n",
      "Left=B['green']\n",
      "Right=B['blue']\n",
      "Leftn=Left/np.max(Left)\n",
      "Rightn=Left/np.max(Right)\n",
      "Leftb=Leftn\n",
      "Leftb[Leftn>0.1]=1"
     ],
     "language": "python",
     "metadata": {},
     "outputs": [],
     "prompt_number": 61
    },
    {
     "cell_type": "code",
     "collapsed": false,
     "input": [
      "Left.shape"
     ],
     "language": "python",
     "metadata": {},
     "outputs": [],
     "prompt_number": 62
    },
    {
     "cell_type": "code",
     "collapsed": false,
     "input": [
      "plt.plot(Leftb.T)"
     ],
     "language": "python",
     "metadata": {},
     "outputs": [],
     "prompt_number": 63
    },
    {
     "cell_type": "code",
     "collapsed": false,
     "input": [
      "Tb=B['T']\n",
      "Left=B['green']\n",
      "Right=B['blue']\n",
      "Leftn=Left/np.max(Left)\n",
      "Rightn=Left/np.max(Right)\n",
      "Leftb=Leftn\n",
      "Leftb[Leftn>0.1]=1\n",
      "Leftb[leftn<0.1]=0\n",
      "Rightb=Rightn\n",
      "Rightb[Rightn>0.1]=1\n",
      "Rightb[Rightn<0.1]=0"
     ],
     "language": "python",
     "metadata": {},
     "outputs": [],
     "prompt_number": 64
    },
    {
     "cell_type": "code",
     "collapsed": false,
     "input": [
      "Tb=B['T']\n",
      "Left=B['green']\n",
      "Right=B['blue']\n",
      "Leftn=Left/np.max(Left)\n",
      "Rightn=Left/np.max(Right)\n",
      "Leftb=Leftn\n",
      "Leftb[Leftn>0.1]=1\n",
      "Leftb[Leftn<0.1]=0\n",
      "Rightb=Rightn\n",
      "Rightb[Rightn>0.1]=1\n",
      "Rightb[Rightn<0.1]=0"
     ],
     "language": "python",
     "metadata": {},
     "outputs": [],
     "prompt_number": 65
    },
    {
     "cell_type": "code",
     "collapsed": false,
     "input": [
      "plt.plot(Leftb.T)\n",
      "plt.plot(Rightb.T)"
     ],
     "language": "python",
     "metadata": {},
     "outputs": [],
     "prompt_number": 66
    },
    {
     "cell_type": "code",
     "collapsed": false,
     "input": [
      "plt.plot(Leftb.T)\n",
      "plt.plot(Rightb.T)\n",
      "plt.show"
     ],
     "language": "python",
     "metadata": {},
     "outputs": [],
     "prompt_number": 67
    },
    {
     "cell_type": "code",
     "collapsed": false,
     "input": [
      "plt.plot(Leftb.T)\n",
      "plt.plot(Tb,Rightb.T)\n",
      "plt.show"
     ],
     "language": "python",
     "metadata": {},
     "outputs": [],
     "prompt_number": 68
    },
    {
     "cell_type": "code",
     "collapsed": false,
     "input": [
      "plt.plot(Tb,Rightb.T)\n",
      "plt.show"
     ],
     "language": "python",
     "metadata": {},
     "outputs": [],
     "prompt_number": 69
    },
    {
     "cell_type": "code",
     "collapsed": false,
     "input": [
      "plt.plot(Tb.T,Rightb.T)\n",
      "plt.show"
     ],
     "language": "python",
     "metadata": {},
     "outputs": [],
     "prompt_number": 70
    },
    {
     "cell_type": "code",
     "collapsed": false,
     "input": [
      "Tb=B['T'].T\n",
      "Left=B['green']\n",
      "Right=B['blue']\n",
      "Leftn=Left/np.max(Left)\n",
      "Rightn=Left/np.max(Right)\n",
      "Leftb=Leftn.T\n",
      "Leftb[Leftn>0.1]=1\n",
      "Leftb[Leftn<0.1]=0\n",
      "Rightb=Rightn.T\n",
      "Rightb[Rightn>0.1]=1\n",
      "Rightb[Rightn<0.1]=0"
     ],
     "language": "python",
     "metadata": {},
     "outputs": [],
     "prompt_number": 71
    },
    {
     "cell_type": "code",
     "collapsed": false,
     "input": [
      "Tb=B['T'].T\n",
      "Left=B['green'].T\n",
      "Right=B['blue'].T\n",
      "Leftn=Left/np.max(Left)\n",
      "Rightn=Left/np.max(Right)\n",
      "Leftb=Leftn\n",
      "Leftb[Leftn>0.1]=1\n",
      "Leftb[Leftn<0.1]=0\n",
      "Rightb=Rightn\n",
      "Rightb[Rightn>0.1]=1\n",
      "Rightb[Rightn<0.1]=0"
     ],
     "language": "python",
     "metadata": {},
     "outputs": [],
     "prompt_number": 72
    },
    {
     "cell_type": "code",
     "collapsed": false,
     "input": [
      "Left.shape"
     ],
     "language": "python",
     "metadata": {},
     "outputs": [],
     "prompt_number": 73
    },
    {
     "cell_type": "code",
     "collapsed": false,
     "input": [
      "plt.plot(Tb,Rightb)\n",
      "plt.show"
     ],
     "language": "python",
     "metadata": {},
     "outputs": [],
     "prompt_number": 74
    },
    {
     "cell_type": "code",
     "collapsed": false,
     "input": [
      "plt.plot(Tb,Rightb)\n",
      "plt.plot(Tb,Leftb)"
     ],
     "language": "python",
     "metadata": {},
     "outputs": [],
     "prompt_number": 75
    },
    {
     "cell_type": "code",
     "collapsed": false,
     "input": [
      "plt.plot(Tb,Rightb)\n",
      "hold=true\n",
      "plt.plot(Tb,Leftb)"
     ],
     "language": "python",
     "metadata": {},
     "outputs": [],
     "prompt_number": 76
    },
    {
     "cell_type": "code",
     "collapsed": false,
     "input": [
      "plt.plot(Tb,Rightb)\n",
      "hold=True\n",
      "plt.plot(Tb,Leftb)"
     ],
     "language": "python",
     "metadata": {},
     "outputs": [],
     "prompt_number": 77
    },
    {
     "cell_type": "code",
     "collapsed": false,
     "input": [
      "Tb=B['T'].T\n",
      "Left=B['green'].T\n",
      "Right=B['blue'].T\n",
      "Leftn=Left/np.max(Left)\n",
      "Rightn=Left/np.max(Right)\n",
      "Leftb=Leftn\n",
      "Leftb[Leftn>0.15]=1\n",
      "Leftb[Leftn<0.15]=0\n",
      "Rightb=Rightn\n",
      "Rightb[Rightn>0.15]=1\n",
      "Rightb[Rightn<0.15]=0"
     ],
     "language": "python",
     "metadata": {},
     "outputs": [],
     "prompt_number": 78
    },
    {
     "cell_type": "code",
     "collapsed": false,
     "input": [
      "Left.shape"
     ],
     "language": "python",
     "metadata": {},
     "outputs": [],
     "prompt_number": 79
    },
    {
     "cell_type": "code",
     "collapsed": false,
     "input": [
      "plt.plot(Tb,Rightb)\n",
      "hold=True\n",
      "plt.plot(Tb,Leftb)"
     ],
     "language": "python",
     "metadata": {},
     "outputs": [],
     "prompt_number": 80
    },
    {
     "cell_type": "code",
     "collapsed": false,
     "input": [
      "plt.plot(Tstim,UV)\n",
      "plt.plot(Tstim,Odor)"
     ],
     "language": "python",
     "metadata": {},
     "outputs": [],
     "prompt_number": 81
    },
    {
     "cell_type": "code",
     "collapsed": false,
     "input": [
      "plt.plot(Tb,Rightb+1)\n",
      "hold=True\n",
      "plt.plot(Tb,Leftb)"
     ],
     "language": "python",
     "metadata": {},
     "outputs": [],
     "prompt_number": 82
    },
    {
     "cell_type": "code",
     "collapsed": false,
     "input": [
      "plt.plot(Tb,Rightb+1)\n",
      "plt.plot(Tb,Leftb)"
     ],
     "language": "python",
     "metadata": {},
     "outputs": [],
     "prompt_number": 83
    },
    {
     "cell_type": "code",
     "collapsed": false,
     "input": [
      "plt.plot(Tb,Rightb+1)\n",
      "#plt.plot(Tb,Leftb)"
     ],
     "language": "python",
     "metadata": {},
     "outputs": [],
     "prompt_number": 84
    },
    {
     "cell_type": "code",
     "collapsed": false,
     "input": [
      "plt.plot(Tb,Rightb+1)\n",
      "plt.plot(Tb,Leftb)"
     ],
     "language": "python",
     "metadata": {},
     "outputs": [],
     "prompt_number": 85
    },
    {
     "cell_type": "code",
     "collapsed": false,
     "input": [
      "Tb=B['T'].T\n",
      "Left=B['green'].T\n",
      "Right=B['blue'].T\n",
      "Leftn=Left/np.max(Left)\n",
      "Rightn=Left/np.max(Right)\n",
      "Leftb=Leftn\n",
      "Leftb[Leftn>0.5]=1\n",
      "Leftb[Leftn<0.5]=0\n",
      "Rightb=Rightn\n",
      "Rightb[Rightn>0.5]=1\n",
      "Rightb[Rightn<0.5]=0"
     ],
     "language": "python",
     "metadata": {},
     "outputs": [],
     "prompt_number": 86
    },
    {
     "cell_type": "code",
     "collapsed": false,
     "input": [
      "Left.shape"
     ],
     "language": "python",
     "metadata": {},
     "outputs": [],
     "prompt_number": 87
    },
    {
     "cell_type": "code",
     "collapsed": false,
     "input": [
      "plt.plot(Tb,Rightb+1)\n",
      "plt.plot(Tb,Leftb)"
     ],
     "language": "python",
     "metadata": {},
     "outputs": [],
     "prompt_number": 88
    },
    {
     "cell_type": "code",
     "collapsed": false,
     "input": [
      "Tb=B['T'].T\n",
      "Left=B['green'].T\n",
      "Right=B['blue'].T\n",
      "Leftn=Left/np.max(Left)\n",
      "Rightn=Left/np.max(Right)\n",
      "Leftb=Leftn\n",
      "Leftb[Leftn>0.2]=1\n",
      "Leftb[Leftn<0.2]=0\n",
      "Rightb=Rightn\n",
      "Rightb[Rightn>0.2]=1\n",
      "Rightb[Rightn<0.2]=0"
     ],
     "language": "python",
     "metadata": {},
     "outputs": [],
     "prompt_number": 89
    },
    {
     "cell_type": "code",
     "collapsed": false,
     "input": [
      "Left.shape"
     ],
     "language": "python",
     "metadata": {},
     "outputs": [],
     "prompt_number": 90
    },
    {
     "cell_type": "code",
     "collapsed": false,
     "input": [
      "plt.plot(Tb,Rightb+1)\n",
      "plt.plot(Tb,Leftb)"
     ],
     "language": "python",
     "metadata": {},
     "outputs": [],
     "prompt_number": 91
    },
    {
     "cell_type": "code",
     "collapsed": false,
     "input": [
      "plt.plot(Tb,Rightb+1)\n",
      "plt.plot(Tb,Leftb)\n",
      "plt.plot(Tstim,UV+2)\n",
      "plt.plot(Tstim,Odor+3)"
     ],
     "language": "python",
     "metadata": {},
     "outputs": [],
     "prompt_number": 92
    },
    {
     "cell_type": "code",
     "collapsed": false,
     "input": [
      "Tb=B['T'].T\n",
      "Left=B['green'].T\n",
      "Right=B['blue'].T\n",
      "Leftn=Left/np.max(Left)\n",
      "Rightn=Left/np.max(Right)\n",
      "Leftb=Leftn\n",
      "Leftb[Leftn>0.2]=1\n",
      "Leftb[Leftn<0.2]=np.nan\n",
      "Rightb=Rightn\n",
      "Rightb[Rightn>0.2]=1\n",
      "Rightb[Rightn<0.2]=np.nan"
     ],
     "language": "python",
     "metadata": {},
     "outputs": [],
     "prompt_number": 93
    },
    {
     "cell_type": "code",
     "collapsed": false,
     "input": [
      "Left.shape"
     ],
     "language": "python",
     "metadata": {},
     "outputs": [],
     "prompt_number": 94
    },
    {
     "cell_type": "code",
     "collapsed": false,
     "input": [
      "plt.plot(Tb,Rightb+1)\n",
      "plt.plot(Tb,Leftb)\n",
      "plt.plot(Tstim,UV+2)\n",
      "plt.plot(Tstim,Odor+3)"
     ],
     "language": "python",
     "metadata": {},
     "outputs": [],
     "prompt_number": 95
    },
    {
     "cell_type": "code",
     "collapsed": false,
     "input": [
      "Tmax=np.max(Time_fluo)\n",
      "Tstim=np.array(range(1,100*(int(Tmax)+1)))\n",
      "Tstim=Tstim/100\n",
      "Odor=np.nan(len(Tstim*100))\n",
      "UV=np.zeros(len(Tstim*100))"
     ],
     "language": "python",
     "metadata": {},
     "outputs": [],
     "prompt_number": 96
    },
    {
     "cell_type": "code",
     "collapsed": false,
     "input": [
      "Tmax=np.max(Time_fluo)\n",
      "Tstim=np.array(range(1,100*(int(Tmax)+1)))\n",
      "Tstim=Tstim/100\n",
      "Odor=np.zeros(len(Tstim*100))\n",
      "UV=np.zeros(len(Tstim*100))"
     ],
     "language": "python",
     "metadata": {},
     "outputs": [],
     "prompt_number": 97
    },
    {
     "cell_type": "code",
     "collapsed": false,
     "input": [
      "for i in range(0,7):\n",
      "    UV[10*100+i*600:100*10+i*600+300]=1\n",
      "    \n",
      "for i in range(0,5):    \n",
      "    Odor[(10+8*6+15)*100+i*600:(10+8*6+15)*100+i*600+200]=1\n",
      "UV[UV==0]=np.nan\n",
      "Odor[Odor==0]=np.nan"
     ],
     "language": "python",
     "metadata": {},
     "outputs": [],
     "prompt_number": 98
    },
    {
     "cell_type": "code",
     "collapsed": false,
     "input": [
      "plt.plot(Tstim,UV)\n",
      "plt.plot(Tstim,Odor)"
     ],
     "language": "python",
     "metadata": {},
     "outputs": [],
     "prompt_number": 99
    },
    {
     "cell_type": "code",
     "collapsed": false,
     "input": [
      "plt.plot(Tb,Rightb+1)\n",
      "plt.plot(Tb,Leftb)\n",
      "plt.plot(Tstim,UV+2)\n",
      "plt.plot(Tstim,Odor+2)"
     ],
     "language": "python",
     "metadata": {},
     "outputs": [],
     "prompt_number": 100
    },
    {
     "cell_type": "code",
     "collapsed": false,
     "input": [
      "plt.plot(Tb,Rightb+1)\n",
      "plt.plot(Tb,Leftb)\n",
      "plt.plot(Tstim,UV+2, marke='o')\n",
      "plt.plot(Tstim,Odor+2)"
     ],
     "language": "python",
     "metadata": {},
     "outputs": [],
     "prompt_number": 101
    },
    {
     "cell_type": "code",
     "collapsed": false,
     "input": [
      "plt.plot(Tb,Rightb+1)\n",
      "plt.plot(Tb,Leftb)\n",
      "plt.plot(Tstim,UV+2, marker='o')\n",
      "plt.plot(Tstim,Odor+2)"
     ],
     "language": "python",
     "metadata": {},
     "outputs": [],
     "prompt_number": 102
    },
    {
     "cell_type": "code",
     "collapsed": false,
     "input": [
      "plt.plot(Tb,Rightb, marker='o')\n",
      "plt.plot(Tb,Leftb)\n",
      "plt.plot(Tstim,UV+2, marker='o')\n",
      "plt.plot(Tstim,Odor+2,marker='o')"
     ],
     "language": "python",
     "metadata": {},
     "outputs": [],
     "prompt_number": 103
    },
    {
     "cell_type": "code",
     "collapsed": false,
     "input": [
      "plt.plot(Tb,Rightb, marker='o')\n",
      "plt.plot(Tb,Leftb)\n",
      "plt.plot(Tstim,UV+1, marker='o')\n",
      "plt.plot(Tstim,Odor+1,marker='o')"
     ],
     "language": "python",
     "metadata": {},
     "outputs": [],
     "prompt_number": 104
    },
    {
     "cell_type": "code",
     "collapsed": false,
     "input": [
      "for j in range(S[3]):\n",
      "\n",
      "    if S[2]>5:\n",
      "        for i in range(Nstack):\n",
      "            V=Dmaps[:,:,Indices[i],Order[j]]\n",
      "            D1[:,:,i]=np.max(V,2)\n",
      "        D2[:,:,:,j]=D1\n",
      "        D1[D1==0]=np.nan\n",
      "           \n",
      "    else:\n",
      "        for i in range(S[2]):\n",
      "            V=Dmaps[:,:,i,Order[j]]\n",
      "            D1[:,:,i]=V \n",
      "            \n",
      "\n",
      "    print(j)\n",
      "    for i in range(Nstack):\n",
      "        plt.subplot(1,5,i+1)\n",
      "        plt.imshow(Dmean[:,:,i],cmap=plt.cm.gray)\n",
      "        plt.imshow(D1[:,:,i], cmap=my_cmap,interpolation='none')\n",
      "        frame1 = plt.gca()\n",
      "        frame1.axes.get_xaxis().set_visible(False)\n",
      "        frame1.axes.get_yaxis().set_visible(False)\n",
      "        \n",
      "    plt.show()\n",
      "    \n",
      "    #plt.plot(TS_ROI[Order[j],:])\n",
      "    plt.plot(Time_fluo,DT[:,Order[j]]+2)\n",
      "\n",
      "    plt.plot(Tb,Rightb, marker='o')\n",
      "    plt.plot(Tb,Leftb)\n",
      "    plt.plot(Tstim,UV+1, marker='o')\n",
      "    plt.plot(Tstim,Odor+1,marker='o')\n",
      "    plt.show()\n",
      "    \n",
      "    Label_ICs.append(raw_input())\n",
      "    if Label_ICs[j]=='':\n",
      "        Good_ICs[j]=0\n",
      "    else:\n",
      "        Good_ICs[j]=1\n",
      "        \n",
      "        "
     ],
     "language": "python",
     "metadata": {},
     "outputs": [],
     "prompt_number": 105
    },
    {
     "cell_type": "code",
     "collapsed": false,
     "input": [
      "for j in range(S[3]):\n",
      "\n",
      "    if S[2]>5:\n",
      "        for i in range(Nstack):\n",
      "            V=Dmaps[:,:,Indices[i],Order[j]]\n",
      "            D1[:,:,i]=np.max(V,2)\n",
      "        D2[:,:,:,j]=D1\n",
      "        D1[D1==0]=np.nan\n",
      "           \n",
      "    else:\n",
      "        for i in range(S[2]):\n",
      "            V=Dmaps[:,:,i,Order[j]]\n",
      "            D1[:,:,i]=V \n",
      "            \n",
      "\n",
      "    print(j)\n",
      "    for i in range(Nstack):\n",
      "        plt.subplot(1,5,i+1)\n",
      "        plt.imshow(Dmean[:,:,i],cmap=plt.cm.gray)\n",
      "        plt.imshow(D1[:,:,i], cmap=my_cmap,interpolation='none')\n",
      "        frame1 = plt.gca()\n",
      "        frame1.axes.get_xaxis().set_visible(False)\n",
      "        frame1.axes.get_yaxis().set_visible(False)\n",
      "        \n",
      "    plt.show()\n",
      "    \n",
      "    #plt.plot(TS_ROI[Order[j],:])\n",
      "    plt.plot(Time_fluo,DT[:,Order[j]]+2)\n",
      "\n",
      "    plt.plot(Tb,Rightb+0.3, marker='o')\n",
      "    #plt.plot(Tb,Leftb)\n",
      "    plt.plot(Tstim,UV+0.5, marker='o')\n",
      "    plt.plot(Tstim,Odor+0.5,marker='o')\n",
      "    plt.show()\n",
      "    \n",
      "    Label_ICs.append(raw_input())\n",
      "    if Label_ICs[j]=='':\n",
      "        Good_ICs[j]=0\n",
      "    else:\n",
      "        Good_ICs[j]=1\n",
      "        \n",
      "        "
     ],
     "language": "python",
     "metadata": {},
     "outputs": [],
     "prompt_number": 106
    },
    {
     "cell_type": "code",
     "collapsed": false,
     "input": [
      "for j in range(S[3]):\n",
      "\n",
      "    if S[2]>5:\n",
      "        for i in range(Nstack):\n",
      "            V=Dmaps[:,:,Indices[i],Order[j]]\n",
      "            D1[:,:,i]=np.max(V,2)\n",
      "        D2[:,:,:,j]=D1\n",
      "        D1[D1==0]=np.nan\n",
      "           \n",
      "    else:\n",
      "        for i in range(S[2]):\n",
      "            V=Dmaps[:,:,i,Order[j]]\n",
      "            D1[:,:,i]=V \n",
      "            \n",
      "\n",
      "    print(j)\n",
      "    for i in range(Nstack):\n",
      "        plt.subplot(1,5,i+1)\n",
      "        plt.imshow(Dmean[:,:,i],cmap=plt.cm.gray)\n",
      "        plt.imshow(D1[:,:,i], cmap=my_cmap,interpolation='none')\n",
      "        frame1 = plt.gca()\n",
      "        frame1.axes.get_xaxis().set_visible(False)\n",
      "        frame1.axes.get_yaxis().set_visible(False)\n",
      "        \n",
      "    plt.show()\n",
      "    \n",
      "    #plt.plot(TS_ROI[Order[j],:])\n",
      "    plt.plot(Time_fluo,DT[:,Order[j]]+2)\n",
      "\n",
      "    plt.plot(Tb,Rightb+0.5, marker='o')\n",
      "    #plt.plot(Tb,Leftb)\n",
      "    plt.plot(Tstim,UV+0.3, marker='o')\n",
      "    plt.plot(Tstim,Odor+0.3,marker='o')\n",
      "    plt.show()\n",
      "    \n",
      "    Label_ICs.append(raw_input())\n",
      "    if Label_ICs[j]=='':\n",
      "        Good_ICs[j]=0\n",
      "    else:\n",
      "        Good_ICs[j]=1\n",
      "        \n",
      "        "
     ],
     "language": "python",
     "metadata": {},
     "outputs": [],
     "prompt_number": 107
    },
    {
     "cell_type": "code",
     "collapsed": false,
     "input": [
      "Dmaps.shape"
     ],
     "language": "python",
     "metadata": {},
     "outputs": [],
     "prompt_number": 108
    },
    {
     "cell_type": "code",
     "collapsed": false,
     "input": [
      "Label_ICs"
     ],
     "language": "python",
     "metadata": {},
     "outputs": [],
     "prompt_number": 109
    },
    {
     "cell_type": "code",
     "collapsed": false,
     "input": [
      "set(Label_ICs)"
     ],
     "language": "python",
     "metadata": {},
     "outputs": [],
     "prompt_number": 110
    },
    {
     "cell_type": "code",
     "collapsed": false,
     "input": [
      "if len(Label_ICs)<S[3]:\n",
      "    for j in range(S[3]-len(Label_ICs)):\n",
      "      Label_ICs.append('')  "
     ],
     "language": "python",
     "metadata": {},
     "outputs": [],
     "prompt_number": 111
    },
    {
     "cell_type": "code",
     "collapsed": false,
     "input": [
      "Dict={'a':0,'AL':0,'Co':1,'CO':1,'O':2,'o':2,'OG':3,'AVLP':3,'A':0,'G':5,'PN':5,'CA':6,'L':4,'LH':6,'l':6,'KC':7,'kc':7,'M':7,'MB':1,'mb':1,'FB':2,'EB':3,'eb':8,'C':4,'c':8,'PB':9,'pb':9,'AMMC':10,'ammc':10,'V':5,'S':11,'SOG':11,'s':11,'I':12,'i':12,'D':5,'':14,'0':14}"
     ],
     "language": "python",
     "metadata": {},
     "outputs": [],
     "prompt_number": 112
    },
    {
     "cell_type": "code",
     "collapsed": false,
     "input": [
      "Translated=[Dict[X] for X in Label_ICs]"
     ],
     "language": "python",
     "metadata": {},
     "outputs": [],
     "prompt_number": 113
    },
    {
     "cell_type": "code",
     "collapsed": false,
     "input": [
      "Dict={'a':0,'AL':0,'Co':1,'CO':1,'O':2,'o':2,'OG':3,'AVLP':3,'A':0,'G':5,'PN':5,'CA':6,'L':4,'LH':6,'l':6,'KC':7,'kc':7,'M':7,'MB':1,'mb':1,'FB':2,'EB':3,'eb':8,'C':4,'c':8,'PB':9,'pb':9,'AMMC':10,'ammc':10,'V':5,'PS':11,'S':11,'SOG':11,'s':11,'I':12,'i':12,'D':5,'':14,'0':14}"
     ],
     "language": "python",
     "metadata": {},
     "outputs": [],
     "prompt_number": 114
    },
    {
     "cell_type": "code",
     "collapsed": false,
     "input": [
      "Translated=[Dict[X] for X in Label_ICs]"
     ],
     "language": "python",
     "metadata": {},
     "outputs": [],
     "prompt_number": 115
    },
    {
     "cell_type": "code",
     "collapsed": false,
     "input": [
      "Dict={'a':0,'AL':0,'Co':1,'CO':1,'O':2,'o':2,'OG':3,'AVLP':3,'A':0,'G':5,'PN':5,'CA':6,'Ca':6,'L':4,'LH':6,'l':6,'KC':7,'kc':7,'M':7,'MB':1,'mb':1,'FB':2,'EB':3,'eb':8,'C':4,'c':8,'PB':9,'pb':9,'AMMC':10,'ammc':10,'V':5,'PS':11,'S':11,'SOG':11,'s':11,'I':12,'i':12,'D':5,'':14,'0':14}"
     ],
     "language": "python",
     "metadata": {},
     "outputs": [],
     "prompt_number": 116
    },
    {
     "cell_type": "code",
     "collapsed": false,
     "input": [
      "Translated=[Dict[X] for X in Label_ICs]"
     ],
     "language": "python",
     "metadata": {},
     "outputs": [],
     "prompt_number": 117
    },
    {
     "cell_type": "code",
     "collapsed": false,
     "input": [
      "Dict={'a':0,'AL':0,'Co':1,'CO':1,'O':2,'o':2,'OG':3,'AVLP':3,'A':0,'G':5,'PN':5,'CA':6,'Ca':6,'L':4,'LH':6,'l':6,'KC':7,'kc':7,'M':7,'MB':1,'mb':1,'FB':2,'EB':3,'eb':8,'C':4,'c':8,'PB':9,'pb':9,'AMMC':10,'ammc':10,'V':5,'PS':11,'S':11,'SOG':11,'s':11,'PI':12,'I':12,'i':12,'D':5,'':14,'0':14}"
     ],
     "language": "python",
     "metadata": {},
     "outputs": [],
     "prompt_number": 118
    },
    {
     "cell_type": "code",
     "collapsed": false,
     "input": [
      "Translated=[Dict[X] for X in Label_ICs]"
     ],
     "language": "python",
     "metadata": {},
     "outputs": [],
     "prompt_number": 119
    },
    {
     "cell_type": "code",
     "collapsed": false,
     "input": [
      "G=Good_ICs.tolist();"
     ],
     "language": "python",
     "metadata": {},
     "outputs": [],
     "prompt_number": 120
    },
    {
     "cell_type": "code",
     "collapsed": false,
     "input": [
      "len(Good_ICs)"
     ],
     "language": "python",
     "metadata": {},
     "outputs": [],
     "prompt_number": 121
    },
    {
     "cell_type": "code",
     "collapsed": false,
     "input": [
      "G.count(1)"
     ],
     "language": "python",
     "metadata": {},
     "outputs": [],
     "prompt_number": 122
    },
    {
     "cell_type": "code",
     "collapsed": false,
     "input": [
      "where_are_NaNs = np.isnan(D2)\n",
      "\n",
      "D2[where_are_NaNs] = 0"
     ],
     "language": "python",
     "metadata": {},
     "outputs": [],
     "prompt_number": 123
    },
    {
     "cell_type": "code",
     "collapsed": false,
     "input": [
      "if S[2]>5:\n",
      "    Final_map=np.zeros([S[0],S[1],5,3])\n",
      "    Fmaps=np.zeros([S[0],S[1],5,3])\n",
      "else:\n",
      "    Final_map=np.zeros([S[0],S[1],3])\n",
      "    Fmaps=np.zeros([S[0],S[1],3])    \n",
      "C=np.zeros([S[3],3])"
     ],
     "language": "python",
     "metadata": {},
     "outputs": [],
     "prompt_number": 124
    },
    {
     "cell_type": "code",
     "collapsed": false,
     "input": [
      "D2.shape"
     ],
     "language": "python",
     "metadata": {},
     "outputs": [],
     "prompt_number": 125
    },
    {
     "cell_type": "code",
     "collapsed": false,
     "input": [
      "for j in range(S[3]):    \n",
      "    if Good_ICs[j]:\n",
      "        C[j,:]=np.squeeze(np.random.rand(3,1))\n",
      "        for k in range(3):\n",
      "            M=np.max(np.squeeze(np.reshape(D2[:,:,j],S[0]*S[1])))\n",
      "            #M[M==0]=1\n",
      "  #          Fmaps[:,:,:,k]=0.7*Dmaps[:,:,:,j]*C[j,k]/np.max(np.squeeze(np.reshape(Dmaps[:,:,:,j]*np.max(C[j,:],S[0]*S[1]*5))\n",
      "            Fmaps[:,:,:,k]=0.7*D2[:,:,j]*C[j,k]/(M*np.max(C[j,:]))\n",
      "        Final_map=Final_map+Fmaps"
     ],
     "language": "python",
     "metadata": {},
     "outputs": [],
     "prompt_number": 126
    },
    {
     "cell_type": "code",
     "collapsed": false,
     "input": [
      "for j in range(S[3]):    \n",
      "    if Good_ICs[j]:\n",
      "        C[j,:]=np.squeeze(np.random.rand(3,1))\n",
      "        for k in range(3):\n",
      "            M=np.max(np.squeeze(np.reshape(D2[:,:,:,j],S[0]*S[1]*S[2])))\n",
      "            #M[M==0]=1\n",
      "  #          Fmaps[:,:,:,k]=0.7*Dmaps[:,:,:,j]*C[j,k]/np.max(np.squeeze(np.reshape(Dmaps[:,:,:,j]*np.max(C[j,:],S[0]*S[1]*5))\n",
      "            Fmaps[:,:,:,k]=0.7*D2[:,:,j]*C[j,k]/(M*np.max(C[j,:]))\n",
      "        Final_map=Final_map+Fmaps"
     ],
     "language": "python",
     "metadata": {},
     "outputs": [],
     "prompt_number": 127
    },
    {
     "cell_type": "code",
     "collapsed": false,
     "input": [
      "for j in range(S[3]):    \n",
      "    if Good_ICs[j]:\n",
      "        C[j,:]=np.squeeze(np.random.rand(3,1))\n",
      "        for k in range(3):\n",
      "            M=np.max(np.squeeze(np.reshape(D2[:,:,:,j],S[0]*S[1]*5)))\n",
      "            #M[M==0]=1\n",
      "  #          Fmaps[:,:,:,k]=0.7*Dmaps[:,:,:,j]*C[j,k]/np.max(np.squeeze(np.reshape(Dmaps[:,:,:,j]*np.max(C[j,:],S[0]*S[1]*5))\n",
      "            Fmaps[:,:,:,k]=0.7*D2[:,:,j]*C[j,k]/(M*np.max(C[j,:]))\n",
      "        Final_map=Final_map+Fmaps"
     ],
     "language": "python",
     "metadata": {},
     "outputs": [],
     "prompt_number": 128
    },
    {
     "cell_type": "code",
     "collapsed": false,
     "input": [
      "S"
     ],
     "language": "python",
     "metadata": {},
     "outputs": [],
     "prompt_number": 129
    },
    {
     "cell_type": "code",
     "collapsed": false,
     "input": [
      "for j in range(S[3]):    \n",
      "    if Good_ICs[j]:\n",
      "        C[j,:]=np.squeeze(np.random.rand(3,1))\n",
      "        for k in range(3):\n",
      "            M=np.max(np.squeeze(np.reshape(D2[:,:,:,j],S[0]*S[1]*5)))\n",
      "            #M[M==0]=1\n",
      "  #          Fmaps[:,:,:,k]=0.7*Dmaps[:,:,:,j]*C[j,k]/np.max(np.squeeze(np.reshape(Dmaps[:,:,:,j]*np.max(C[j,:],S[0]*S[1]*5))\n",
      "            Fmaps[:,:,:,k]=0.7*D2[:,:,:,j]*C[j,k]/(M*np.max(C[j,:]))\n",
      "        Final_map=Final_map+Fmaps"
     ],
     "language": "python",
     "metadata": {},
     "outputs": [],
     "prompt_number": 130
    },
    {
     "cell_type": "code",
     "collapsed": false,
     "input": [
      "pylab.rcParams['figure.figsize'] = (18, 5)\n",
      "\n",
      "plt.imshow(Final_map) \n",
      "frame1 = plt.gca()\n",
      "frame1.axes.get_xaxis().set_visible(False)\n",
      "frame1.axes.get_yaxis().set_visible(False)"
     ],
     "language": "python",
     "metadata": {},
     "outputs": [],
     "prompt_number": 131
    },
    {
     "cell_type": "code",
     "collapsed": false,
     "input": [
      "ylab.rcParams['figure.figsize'] = (14, 5)\n",
      "\n",
      "#Final_map[Final_map<0.1]=np.NaN\n",
      "\n",
      "if S[2]>5:\n",
      "    N=Nstack\n",
      "else:\n",
      "    N=S[2]\n",
      "for i in range(N):\n",
      "        plt.subplot(1,N,i+1)\n",
      "        plt.imshow(Dmean[:,:,i],cmap=plt.cm.gray)\n",
      "        plt.imshow(Final_map[:,:,i],interpolation='none')\n",
      "        #plt.imshow(Final_map[:,:,i]) \n",
      "        frame1 = plt.gca()\n",
      "        frame1.axes.get_xaxis().set_visible(False)\n",
      "        frame1.axes.get_yaxis().set_visible(False)"
     ],
     "language": "python",
     "metadata": {},
     "outputs": [],
     "prompt_number": 132
    },
    {
     "cell_type": "code",
     "collapsed": false,
     "input": [
      "pylab.rcParams['figure.figsize'] = (14, 5)\n",
      "\n",
      "#Final_map[Final_map<0.1]=np.NaN\n",
      "\n",
      "if S[2]>5:\n",
      "    N=Nstack\n",
      "else:\n",
      "    N=S[2]\n",
      "for i in range(N):\n",
      "        plt.subplot(1,N,i+1)\n",
      "        plt.imshow(Dmean[:,:,i],cmap=plt.cm.gray)\n",
      "        plt.imshow(Final_map[:,:,i],interpolation='none')\n",
      "        #plt.imshow(Final_map[:,:,i]) \n",
      "        frame1 = plt.gca()\n",
      "        frame1.axes.get_xaxis().set_visible(False)\n",
      "        frame1.axes.get_yaxis().set_visible(False)"
     ],
     "language": "python",
     "metadata": {},
     "outputs": [],
     "prompt_number": 133
    },
    {
     "cell_type": "code",
     "collapsed": false,
     "input": [
      "if S[2]>5:\n",
      "    Final_map=np.zeros([S[0],S[1],5,3])\n",
      "    Fmaps=np.zeros([S[0],S[1],5,3])\n",
      "else:\n",
      "    Final_map=np.zeros([S[0],S[1],3])\n",
      "    Fmaps=np.zeros([S[0],S[1],3])    \n",
      "C=np.zeros([S[3],3])"
     ],
     "language": "python",
     "metadata": {},
     "outputs": [],
     "prompt_number": 134
    },
    {
     "cell_type": "code",
     "collapsed": false,
     "input": [
      "D2.shape"
     ],
     "language": "python",
     "metadata": {},
     "outputs": [],
     "prompt_number": 135
    },
    {
     "cell_type": "code",
     "collapsed": false,
     "input": [
      "S"
     ],
     "language": "python",
     "metadata": {},
     "outputs": [],
     "prompt_number": 136
    },
    {
     "cell_type": "code",
     "collapsed": false,
     "input": [
      "for j in range(S[3]):    \n",
      "    if Good_ICs[j]:\n",
      "        C[j,:]=np.squeeze(np.random.rand(3,1))\n",
      "        for k in range(3):\n",
      "            M=np.max(np.squeeze(np.reshape(D2[:,:,:,j],S[0]*S[1]*5)))\n",
      "            #M[M==0]=1\n",
      "  #          Fmaps[:,:,:,k]=0.7*Dmaps[:,:,:,j]*C[j,k]/np.max(np.squeeze(np.reshape(Dmaps[:,:,:,j]*np.max(C[j,:],S[0]*S[1]*5))\n",
      "            Fmaps[:,:,:,k]=0.5*D2[:,:,:,j]*C[j,k]/(M*np.max(C[j,:]))\n",
      "        Final_map=Final_map+Fmaps"
     ],
     "language": "python",
     "metadata": {},
     "outputs": [],
     "prompt_number": 137
    },
    {
     "cell_type": "code",
     "collapsed": false,
     "input": [
      "pylab.rcParams['figure.figsize'] = (14, 5)\n",
      "\n",
      "#Final_map[Final_map<0.1]=np.NaN\n",
      "\n",
      "if S[2]>5:\n",
      "    N=Nstack\n",
      "else:\n",
      "    N=S[2]\n",
      "for i in range(N):\n",
      "        plt.subplot(1,N,i+1)\n",
      "        plt.imshow(Dmean[:,:,i],cmap=plt.cm.gray)\n",
      "        plt.imshow(Final_map[:,:,i],interpolation='none')\n",
      "        #plt.imshow(Final_map[:,:,i]) \n",
      "        frame1 = plt.gca()\n",
      "        frame1.axes.get_xaxis().set_visible(False)\n",
      "        frame1.axes.get_yaxis().set_visible(False)"
     ],
     "language": "python",
     "metadata": {},
     "outputs": [],
     "prompt_number": 138
    },
    {
     "cell_type": "code",
     "collapsed": false,
     "input": [
      "pylab.rcParams['figure.figsize'] = (10, 14)\n",
      "h=5\n",
      "i=0\n",
      "\n",
      "for j in range(S[3]):\n",
      "    if Good_ICs[j]:\n",
      "        plt.plot((DT[:,Order[j]]+h*i),color=C[j,:])\n",
      "        i=i+1\n",
      "\n",
      "plt.show()"
     ],
     "language": "python",
     "metadata": {},
     "outputs": [],
     "prompt_number": 139
    },
    {
     "cell_type": "code",
     "collapsed": false,
     "input": [
      "pylab.rcParams['figure.figsize'] = (10, 14)\n",
      "h=5\n",
      "i=0\n",
      "\n",
      "for j in range(S[3]):\n",
      "    if Good_ICs[j]:\n",
      "        plt.plot((DT[:,Order[j]]+h*i),color=C[j,:])\n",
      "        i=i+1\n",
      "\n",
      "plt.show()"
     ],
     "language": "python",
     "metadata": {},
     "outputs": [],
     "prompt_number": 140
    },
    {
     "cell_type": "code",
     "collapsed": false,
     "input": [
      "List1=[(Translated[i],i) for i in range(S[3])]"
     ],
     "language": "python",
     "metadata": {},
     "outputs": [],
     "prompt_number": 141
    },
    {
     "cell_type": "code",
     "collapsed": false,
     "input": [
      "Newlist=sorted(List1, key=lambda List1: List1[0])"
     ],
     "language": "python",
     "metadata": {},
     "outputs": [],
     "prompt_number": 142
    },
    {
     "cell_type": "code",
     "collapsed": false,
     "input": [
      "Neworder=[Newlist[i][1] for i in range(S[3])  if Newlist[i][0] != 14]"
     ],
     "language": "python",
     "metadata": {},
     "outputs": [],
     "prompt_number": 143
    },
    {
     "cell_type": "code",
     "collapsed": false,
     "input": [
      "Neworder"
     ],
     "language": "python",
     "metadata": {},
     "outputs": [],
     "prompt_number": 144
    },
    {
     "cell_type": "code",
     "collapsed": false,
     "input": [
      "Order[Neworder]"
     ],
     "language": "python",
     "metadata": {},
     "outputs": [],
     "prompt_number": 145
    },
    {
     "cell_type": "code",
     "collapsed": false,
     "input": [
      "[Label_ICs[Neworder[i]] for i in range(len(Neworder))]  "
     ],
     "language": "python",
     "metadata": {},
     "outputs": [],
     "prompt_number": 146
    },
    {
     "cell_type": "code",
     "collapsed": false,
     "input": [
      "NewDT=DT[:,Order[Neworder[:]]].T"
     ],
     "language": "python",
     "metadata": {},
     "outputs": [],
     "prompt_number": 147
    },
    {
     "cell_type": "code",
     "collapsed": false,
     "input": [
      "NewDT.shape"
     ],
     "language": "python",
     "metadata": {},
     "outputs": [],
     "prompt_number": 148
    },
    {
     "cell_type": "code",
     "collapsed": false,
     "input": [
      "for j in range(len(Neworder)):\n",
      "    A=NewDT[:,j]\n",
      "    V=np.sqrt(np.var(A))\n",
      "    NewDT[:,j]=A/V"
     ],
     "language": "python",
     "metadata": {},
     "outputs": [],
     "prompt_number": 149
    },
    {
     "cell_type": "code",
     "collapsed": false,
     "input": [
      "C1=np.zeros([6,3])\n",
      "C1[0][:]=(1,0,0)\n",
      "C1[1][:]=(0,1,0)\n",
      "C1[2][:]=(0,0,1)\n",
      "C1[3][:]=(0.8,0.8,0)\n",
      "C1[4][:]=(0,1,1)\n",
      "C1[5][:]=(1,0,1)"
     ],
     "language": "python",
     "metadata": {},
     "outputs": [],
     "prompt_number": 150
    },
    {
     "cell_type": "code",
     "collapsed": false,
     "input": [
      "S1=DT.shape\n",
      "S1"
     ],
     "language": "python",
     "metadata": {},
     "outputs": [],
     "prompt_number": 151
    },
    {
     "cell_type": "code",
     "collapsed": false,
     "input": [
      "h=5\n",
      "pylab.rcParams['figure.figsize'] = (7, 14)\n",
      "i=0\n",
      "t=[j*0.005 for j in range(S1[0])]\n",
      "\n",
      "for j in range(len(Neworder)):\n",
      "        plt.plot(t,NewDT[j,:]+h*j,color=C1[i%6][:])\n",
      "        i=i+1\n",
      "plt.ylim([-3,h*j+5])\n",
      "\n",
      "frame1=plt.gca()\n",
      "frame1.axes.get_yaxis().set_ticks([])\n",
      "matplotlib.rcParams.update({'font.size': 18})\n",
      "plt.show()"
     ],
     "language": "python",
     "metadata": {},
     "outputs": [],
     "prompt_number": 152
    },
    {
     "cell_type": "code",
     "collapsed": false,
     "input": [
      "Newmaps=Dmaps[:,:,:,Order[Neworder[:]]]"
     ],
     "language": "python",
     "metadata": {},
     "outputs": [],
     "prompt_number": 153
    },
    {
     "cell_type": "code",
     "collapsed": false,
     "input": [
      "L=len(set([Translated[Neworder[i]] for i in range(len(Neworder))]))"
     ],
     "language": "python",
     "metadata": {},
     "outputs": [],
     "prompt_number": 154
    },
    {
     "cell_type": "code",
     "collapsed": false,
     "input": [
      "[Translated[Neworder[i]] for i in range(len(Neworder))]"
     ],
     "language": "python",
     "metadata": {},
     "outputs": [],
     "prompt_number": 155
    },
    {
     "cell_type": "code",
     "collapsed": false,
     "input": [
      "Regionmaps=np.zeros([S[0],S[1],L,3])\n",
      "Datasort=np.zeros([S[0],S[1],S[2],L,3])"
     ],
     "language": "python",
     "metadata": {},
     "outputs": [],
     "prompt_number": 156
    },
    {
     "cell_type": "code",
     "collapsed": false,
     "input": [
      "Regionname=[]"
     ],
     "language": "python",
     "metadata": {},
     "outputs": [],
     "prompt_number": 157
    },
    {
     "cell_type": "code",
     "collapsed": false,
     "input": [
      "Newmaps.shape"
     ],
     "language": "python",
     "metadata": {},
     "outputs": [],
     "prompt_number": 158
    },
    {
     "cell_type": "code",
     "collapsed": false,
     "input": [
      "Nstack"
     ],
     "language": "python",
     "metadata": {},
     "outputs": [],
     "prompt_number": 159
    },
    {
     "cell_type": "code",
     "collapsed": false,
     "input": [
      "Mapsordered=datao[:,:,:,Neworder[:]]\n",
      "mapfilename=foldername+'mapsordered.nii'\n",
      "Mapsordered2=np.transpose(Mapsordered,(3,2,1,0))\n",
      "nimap = NiftiImage(Mapsordered2)\n",
      "nimap.save(mapfilename)"
     ],
     "language": "python",
     "metadata": {},
     "outputs": [],
     "prompt_number": 160
    },
    {
     "cell_type": "code",
     "collapsed": false,
     "input": [
      "DMapscolor=np.sum(Datasort, axis=3)\n",
      "DMapscolor.shape"
     ],
     "language": "python",
     "metadata": {},
     "outputs": [],
     "prompt_number": 161
    },
    {
     "cell_type": "code",
     "collapsed": false,
     "input": [
      "mapfilename=foldername+'zscoredmapscolor.nii'\n",
      "DMapscolor2=np.transpose(DMapscolor,(3,2,1,0))"
     ],
     "language": "python",
     "metadata": {},
     "outputs": [],
     "prompt_number": 162
    },
    {
     "cell_type": "code",
     "collapsed": false,
     "input": [
      "mapfilename='zscoredmapscolor.nii'\n",
      "DMapscolor2=np.transpose(DMapscolor,(3,2,1,0))"
     ],
     "language": "python",
     "metadata": {},
     "outputs": [],
     "prompt_number": 163
    },
    {
     "cell_type": "code",
     "collapsed": false,
     "input": [
      "DMapscolor2.shape"
     ],
     "language": "python",
     "metadata": {},
     "outputs": [],
     "prompt_number": 164
    },
    {
     "cell_type": "code",
     "collapsed": false,
     "input": [
      "nimap = NiftiImage(DMapscolor2)\n",
      "nimap.save(mapfilename)"
     ],
     "language": "python",
     "metadata": {},
     "outputs": [],
     "prompt_number": 165
    },
    {
     "cell_type": "code",
     "collapsed": false,
     "input": [
      "pylab.rcParams['figure.figsize'] = (7, 14)\n",
      "import scipy\n",
      "from scipy import ndimage\n",
      "\n",
      "for i in range(L):\n",
      "        plt.subplot(L,1,L-i)\n",
      "        Rotated_Plot = ndimage.rotate(Regionmaps[:,:,i], -90)\n",
      "        IM=plt.imshow(Rotated_Plot) \n",
      "        frame1 = plt.gca()\n",
      "        frame1.axes.get_xaxis().set_visible(False)\n",
      "        frame1.axes.get_yaxis().set_visible(False)\n",
      "        "
     ],
     "language": "python",
     "metadata": {},
     "outputs": [],
     "prompt_number": 166
    },
    {
     "cell_type": "code",
     "collapsed": false,
     "input": [
      "plt.plot(Tstim/0.05,UV+1, marker='o')\n",
      "plt.plot(Tstim/0.05,Odor+1,marker='o')"
     ],
     "language": "python",
     "metadata": {},
     "outputs": [],
     "prompt_number": 167
    },
    {
     "cell_type": "code",
     "collapsed": false,
     "input": [
      "plt.plot(Tstim/0.01,UV+1, marker='o')\n",
      "plt.plot(Tstim/0.01,Odor+1,marker='o')"
     ],
     "language": "python",
     "metadata": {},
     "outputs": [],
     "prompt_number": 168
    },
    {
     "cell_type": "code",
     "collapsed": false,
     "input": [
      "Time_fluo"
     ],
     "language": "python",
     "metadata": {},
     "outputs": [],
     "prompt_number": 169
    },
    {
     "cell_type": "code",
     "collapsed": false,
     "input": [
      "plt.plot(Tstim/0.02,UV+1, marker='o')\n",
      "plt.plot(Tstim/0.02,Odor+1,marker='o')"
     ],
     "language": "python",
     "metadata": {},
     "outputs": [],
     "prompt_number": 170
    },
    {
     "cell_type": "code",
     "collapsed": false,
     "input": [
      "pylab.rcParams['figure.figsize'] = (15, 3)\n",
      "plt.plot(Tstim/0.02,UV+1, marker='o')\n",
      "plt.plot(Tstim/0.02,Odor+1,marker='o')"
     ],
     "language": "python",
     "metadata": {},
     "outputs": [],
     "prompt_number": 171
    }
   ],
   "metadata": {}
  }
 ]
}