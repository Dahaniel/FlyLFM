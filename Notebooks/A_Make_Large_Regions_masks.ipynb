{
 "cells": [
  {
   "cell_type": "code",
   "execution_count": 1,
   "metadata": {
    "collapsed": false
   },
   "outputs": [
    {
     "name": "stdout",
     "output_type": "stream",
     "text": [
      "\u001b[H\u001b[2J"
     ]
    }
   ],
   "source": [
    "clear all"
   ]
  },
  {
   "cell_type": "code",
   "execution_count": 2,
   "metadata": {
    "collapsed": false
   },
   "outputs": [],
   "source": [
    "import matplotlib\n",
    "import numpy as np\n",
    "import matplotlib.pyplot as plt\n",
    "from scipy import stats\n",
    "from scipy import io\n",
    "import scipy.io as sio\n",
    "%matplotlib inline \n",
    "import pylab\n",
    "import csv\n",
    "from Tkinter import Tk\n",
    "from tkFileDialog import askopenfilename\n",
    "from tkFileDialog import askdirectory\n",
    "import nibabel as nb\n",
    "from scipy import io\n",
    "from nifti import NiftiImage\n",
    "import nibabel as nb\n",
    "from scipy.interpolate import interp1d\n",
    "from scipy import ndimage"
   ]
  },
  {
   "cell_type": "markdown",
   "metadata": {},
   "source": [
    "# Open Masks"
   ]
  },
  {
   "cell_type": "code",
   "execution_count": 3,
   "metadata": {
    "collapsed": false
   },
   "outputs": [
    {
     "name": "stdout",
     "output_type": "stream",
     "text": [
      "/home/sophie/Desktop/Registration/JFRCMasks8bit.nii\n"
     ]
    }
   ],
   "source": [
    "# from http://stackoverflow.com/questions/3579568/choosing-a-file-in-python-with-simple-dialog\n",
    "from Tkinter import Tk\n",
    "from tkFileDialog import askopenfilename\n",
    "\n",
    "Tk().withdraw() # we don't want a full GUI, so keep the root window from appearing\n",
    "filenameM = askopenfilename() # show an \"Open\" dialog box and return the path to the selected file\n",
    "print(filenameM)\n",
    "img1 = nb.load(filenameM)\n",
    "Masks = img1.get_data()\n",
    "Sm=Masks.shape\n",
    "Masks=np.array(Masks)"
   ]
  },
  {
   "cell_type": "code",
   "execution_count": 4,
   "metadata": {
    "collapsed": false
   },
   "outputs": [],
   "source": [
    "filenameM='/home/sophie/Desktop/Registration/RegionList'\n",
    "with open(filenameM) as f:\n",
    "    content = f.readlines()\n",
    "Names=[Line.split('\\t') for Line in content]\n",
    "RegionName=[Names[i][0] for i in range(75)]\n",
    "Num=[int(Names[i][2]) for i in range(75)]"
   ]
  },
  {
   "cell_type": "code",
   "execution_count": 5,
   "metadata": {
    "collapsed": false
   },
   "outputs": [
    {
     "data": {
      "text/plain": [
       "(1024, 512, 218, 86)"
      ]
     },
     "execution_count": 5,
     "metadata": {},
     "output_type": "execute_result"
    }
   ],
   "source": [
    "Masks.shape"
   ]
  },
  {
   "cell_type": "code",
   "execution_count": 6,
   "metadata": {
    "collapsed": true
   },
   "outputs": [],
   "source": [
    "S=Masks.shape"
   ]
  },
  {
   "cell_type": "code",
   "execution_count": 7,
   "metadata": {
    "collapsed": false
   },
   "outputs": [
    {
     "data": {
      "text/plain": [
       "75"
      ]
     },
     "execution_count": 7,
     "metadata": {},
     "output_type": "execute_result"
    }
   ],
   "source": [
    "len(Names)"
   ]
  },
  {
   "cell_type": "markdown",
   "metadata": {},
   "source": [
    "# Reorder by larger sub-regions (presumed ~stimulus to motor)"
   ]
  },
  {
   "cell_type": "code",
   "execution_count": 8,
   "metadata": {
    "collapsed": false
   },
   "outputs": [],
   "source": [
    "LargerRegionsDic={'':'','AME_R':'OL','LO_R':'OL','NO':'CX','BU_R':'CX','PB':'CX','LH_R':'LH','LAL_R':'LX','SAD':'PENP'\n",
    "               ,'CAN_R':'PENP','AMMC_R':'PENP','ICL_R':'INP','VES_R':'VMNP','IB_R':'INP','ATL_R':'INP','CRE_R':'INP'\n",
    "               ,'MB_PED_R':'MB','MB_VL_R':'MB','MB_ML_R':'MB','FLA_R':'PENP','LOP_R':'OL','EB':'CX','AL_R':'AL',\n",
    "                'ME_R':'OL','FB':'CX','SLP_R':'SNP','SIP_R':'SNP','SMP_R':'SNP','AVLP_R':'VLNP','PVLP_R':'VLNP',\n",
    "                'IVLP_R':'VLNP','PLP_R':'VLNP','AOTU_R':'VLNP','GOR_R':'VMNP','MB_CA_R':'MB','SPS_R':'VMNP',\n",
    "                'IPS_R':'VMNP','SCL_R':'INP','EPA_R':'VMNP','GNG':'GNG','PRW':'PENP','GA_R':'LX','AME_L':'OL'\n",
    "                ,'LO_L':'OL','BU_L':'CX','LH_L':'LH','LAL_L':'LX','CAN_L':'PENP','AMMC_L':'PENP','ICL_L':'INP',\n",
    "                'VES_L':'VMNP','IB_L':'INP','ATL_L':'INP','CRE_L':'INP','MB_PED_L':'MB','MB_VL_L':'MB',\n",
    "                'MB_ML_L':'MB','FLA_L':'PENP','LOP_L':'OL','AL_L':'AL','ME_L':'OL','SLP_L':'SNP','SIP_L':'SNP',\n",
    "                'SMP_L':'SNP','AVLP_L':'VLNP','PVLP_L':'VLNP','IVLP_L':'VLNP','PLP_L':'VLNP','AOTU_L':'VLNP',\n",
    "                'GOR_L':'VMNP','MB_CA_L':'MB','SPS_L':'VMNP','IPS_L':'VMNP','SCL_L':'INP','EPA_L':'VMNP','GA_L':'LX'}"
   ]
  },
  {
   "cell_type": "code",
   "execution_count": 9,
   "metadata": {
    "collapsed": false
   },
   "outputs": [],
   "source": [
    "SmallRegionsSorted=['ME_L','ME_R','LO_R','LO_L','LOP_R','LOP_L','AME_R','AME_L',\n",
    "                  'PLP_R','PLP_L','PVLP_R','PVLP_L','AVLP_R','AVLP_L','AOTU_R','AOTU_L','IVLP_R','IVLP_L',\n",
    "                  'AL_R','AL_L',\n",
    "                  'MB_CA_R','MB_CA_L','MB_PED_R','MB_PED_L','MB_VL_R','MB_VL_L','MB_ML_R','MB_ML_L',\n",
    "                  'SMP_R','SMP_L','SIP_R','SLP_L','SLP_R','SIP_L',\n",
    "                  'LH_R','LH_L',                  \n",
    "                  'CRE_R','CRE_L','ICL_R','ICL_L','SCL_R','SCL_L','IB_R','IB_L',\n",
    "                  'EB','ATL_R','ATL_L','PB','NO','FB',\n",
    "                  'BU_R','BU_L','LAL_R','LAL_L','GA_R','GA_L',\n",
    "                  'GOR_R','GOR_L','EPA_R','EPA_L','VES_R','VES_L','SPS_R','SPS_L','IPS_R','IPS_L',\n",
    "                  'AMMC_R','AMMC_L','SAD','FLA_R','FLA_L','PRW','CAN_R','CAN_L',\n",
    "                  'GNG','']"
   ]
  },
  {
   "cell_type": "code",
   "execution_count": 10,
   "metadata": {
    "collapsed": false
   },
   "outputs": [
    {
     "data": {
      "text/plain": [
       "76"
      ]
     },
     "execution_count": 10,
     "metadata": {},
     "output_type": "execute_result"
    }
   ],
   "source": [
    "len(SmallRegionsSorted)"
   ]
  },
  {
   "cell_type": "code",
   "execution_count": 11,
   "metadata": {
    "collapsed": false
   },
   "outputs": [],
   "source": [
    "Tozip=range(len(SmallRegionsSorted))\n",
    "SmallRegionsDic=dict(zip(SmallRegionsSorted,Tozip))"
   ]
  },
  {
   "cell_type": "code",
   "execution_count": 12,
   "metadata": {
    "collapsed": false
   },
   "outputs": [],
   "source": [
    "LargerRegionInd={ 'OL':1,'VLNP':2,'VMNP':3,'AL':4,'MB':5,'LH':6,'SNP':7,'CX':8,'LX':9,'INP':10,'PENP':11,'GNG':12,'':13}"
   ]
  },
  {
   "cell_type": "code",
   "execution_count": 13,
   "metadata": {
    "collapsed": false
   },
   "outputs": [],
   "source": [
    "LargerRegionMask=[LargerRegionsDic[Names[i][0]] for i in range(75)]\n",
    "LargerRegionMaskId=np.zeros(87)\n",
    "for i in range(75):\n",
    "    LargerRegionMaskId[Num[i]]=np.int(LargerRegionInd[LargerRegionMask[i]])"
   ]
  },
  {
   "cell_type": "code",
   "execution_count": 14,
   "metadata": {
    "collapsed": false
   },
   "outputs": [
    {
     "data": {
      "text/plain": [
       "array([  0.,   0.,   1.,   1.,   8.,   8.,   8.,   6.,   9.,  11.,  11.,\n",
       "        11.,  10.,   3.,  10.,  10.,  10.,   5.,   5.,   5.,  11.,   0.,\n",
       "         1.,   8.,   4.,   1.,   8.,   7.,   7.,   7.,   2.,   2.,   2.,\n",
       "         2.,   2.,   3.,   5.,   3.,   3.,  10.,   3.,   0.,   0.,   0.,\n",
       "         0.,   0.,   0.,   0.,   0.,  12.,  11.,   9.,   1.,   1.,   8.,\n",
       "         6.,   9.,  11.,  11.,  10.,   3.,  10.,  10.,  10.,   5.,   5.,\n",
       "         5.,  11.,   0.,   1.,   4.,   1.,   7.,   7.,   7.,   2.,   2.,\n",
       "         2.,   2.,   2.,   3.,   5.,   3.,   3.,  10.,   3.,   9.])"
      ]
     },
     "execution_count": 14,
     "metadata": {},
     "output_type": "execute_result"
    }
   ],
   "source": [
    "LargerRegionMaskId"
   ]
  },
  {
   "cell_type": "code",
   "execution_count": 15,
   "metadata": {
    "collapsed": false
   },
   "outputs": [
    {
     "data": {
      "text/plain": [
       "12.0"
      ]
     },
     "execution_count": 15,
     "metadata": {},
     "output_type": "execute_result"
    }
   ],
   "source": [
    "np.max(LargerRegionMaskId)"
   ]
  },
  {
   "cell_type": "code",
   "execution_count": 16,
   "metadata": {
    "collapsed": false
   },
   "outputs": [],
   "source": [
    "NewMasks=np.zeros((S[0],S[1],S[2],12))"
   ]
  },
  {
   "cell_type": "code",
   "execution_count": 18,
   "metadata": {
    "collapsed": false
   },
   "outputs": [
    {
     "name": "stderr",
     "output_type": "stream",
     "text": [
      "/usr/local/lib/python2.7/dist-packages/ipykernel/__main__.py:7: RuntimeWarning: divide by zero encountered in divide\n",
      "/usr/local/lib/python2.7/dist-packages/ipykernel/__main__.py:7: RuntimeWarning: invalid value encountered in divide\n"
     ]
    },
    {
     "name": "stdout",
     "output_type": "stream",
     "text": [
      "0\n",
      "1\n",
      "2\n",
      "3\n",
      "4\n",
      "5\n",
      "6\n",
      "7\n",
      "8\n",
      "9\n",
      "10\n",
      "11\n"
     ]
    }
   ],
   "source": [
    "for i in range(12):\n",
    "    for j in range(75):\n",
    "        k=0\n",
    "        if LargerRegionMaskId[j]==i:            \n",
    "            NewMasks[:,:,:,i]=NewMasks[:,:,:,i]+Masks[:,:,:,j]\n",
    "            k=k+1\n",
    "        NewMasks[:,:,:,i]=NewMasks[:,:,:,i]/k\n",
    "    print(i)"
   ]
  },
  {
   "cell_type": "code",
   "execution_count": null,
   "metadata": {
    "collapsed": true
   },
   "outputs": [],
   "source": [
    "#D4=np.transpose(data[:,:,:,range(ONint,(OFFint+1))],(2,1,0,3))\n",
    "nim=nib.Nifti1Image(NewMasks,np.eye(4))\n",
    "nib.save(nim,'/home/sophie/Desktop/Registration/LargeRegionsJFRC.nii')"
   ]
  }
 ],
 "metadata": {
  "kernelspec": {
   "display_name": "Python 2",
   "language": "python",
   "name": "python2"
  },
  "language_info": {
   "codemirror_mode": {
    "name": "ipython",
    "version": 2
   },
   "file_extension": ".py",
   "mimetype": "text/x-python",
   "name": "python",
   "nbconvert_exporter": "python",
   "pygments_lexer": "ipython2",
   "version": "2.7.12"
  }
 },
 "nbformat": 4,
 "nbformat_minor": 0
}
