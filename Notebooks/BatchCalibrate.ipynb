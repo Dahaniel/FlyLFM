{
 "metadata": {
  "name": "",
  "signature": "sha256:4a0445f4652f2fe86b0e2d9a7d2a21109d5189a99e5355f8b5c137cf54abb82c"
 },
 "nbformat": 3,
 "nbformat_minor": 0,
 "worksheets": [
  {
   "cells": [
    {
     "cell_type": "code",
     "collapsed": false,
     "input": [
      "import os\n",
      "import numpy as np\n",
      "import libtiff \n",
      "import matplotlib.pyplot as plt\n",
      "import sys\n",
      "sys.path.append('/home/sophie/Desktop/stanford_lfanalyze_v0.4')\n",
      "import lfcalibrate\n",
      "\n",
      "import Image\n",
      "from libtiff import TIFFimage\n",
      "from PIL import Image\n",
      "import tifffile as tiff"
     ],
     "language": "python",
     "metadata": {},
     "outputs": [],
     "prompt_number": 104
    },
    {
     "cell_type": "code",
     "collapsed": false,
     "input": [
      "import subprocess"
     ],
     "language": "python",
     "metadata": {},
     "outputs": [],
     "prompt_number": 20
    },
    {
     "cell_type": "code",
     "collapsed": false,
     "input": [
      "%matplotlib inline"
     ],
     "language": "python",
     "metadata": {},
     "outputs": [],
     "prompt_number": 8
    },
    {
     "cell_type": "code",
     "collapsed": false,
     "input": [
      "# Functions"
     ],
     "language": "python",
     "metadata": {},
     "outputs": [],
     "prompt_number": 9
    },
    {
     "cell_type": "code",
     "collapsed": false,
     "input": [
      "def AvIm(path,ID):\n",
      "    \n",
      "    flist=os.listdir(path)\n",
      "    im = Image.open(path+\"/\"+flist[0])\n",
      "    tt= np.array(im)\n",
      "    print(tt.shape)\n",
      "    S=tt.shape\n",
      "    M=np.zeros(len(flist))\n",
      "    AVON=np.zeros(S)\n",
      "    AVOFF=np.zeros(S)\n",
      "    \n",
      "    for i in range(len(os.listdir(path))):\n",
      "        j=i+1\n",
      "        im = Image.open(path+'/'+'Data'+ID+'_'+str(j)+'.tif')\n",
      "        tt = np.array(im)\n",
      "        M[i]=np.mean(np.mean(tt))\n",
      "    Mav=np.mean(M)  \n",
      "    liston=[i for i in range(len(M)) if M[i]>Mav*0.7]\n",
      "    j=0\n",
      "    k=0\n",
      "    \n",
      "    \n",
      "    for i in range(len(os.listdir(path))):\n",
      "        j=i+1\n",
      "        im = Image.open(path+'/'+'Data'+ID+'_'+str(j)+'.tif')\n",
      "        tt = np.array(im)\n",
      "        if i in liston:\n",
      "            AVOFF=AVOFF+tt\n",
      "            j=j+1\n",
      "        else:\n",
      "            AVON=AVON+tt\n",
      "            k=k+1       \n",
      "    \n",
      "    \n",
      "    return M"
     ],
     "language": "python",
     "metadata": {},
     "outputs": [],
     "prompt_number": 100
    },
    {
     "cell_type": "code",
     "collapsed": false,
     "input": [
      "def SaveAvs(path,M,ID):\n",
      "    \n",
      "    flist=os.listdir(path)\n",
      "    im = Image.open(path+\"/\"+flist[0]) \n",
      "    tt= np.array(im)\n",
      "    S=tt.shape\n",
      "    M=np.zeros(len(flist))\n",
      "    AVON=np.zeros(S)\n",
      "    AVOFF=np.zeros(S)\n",
      "\n",
      "    outpath=\"/home/sophie/Desktop/stanford_lfanalyze_v0.4/examples/\"+ID   \n",
      "    \n",
      "    Mav=np.mean(M)\n",
      "    liston=[i for i in range(len(M)) if M[i]>Mav*0.7]\n",
      "    j=0\n",
      "    k=0\n",
      "    \n",
      "    #for i in range(len(os.listdir(path))):\n",
      "    for i in range(500):\n",
      "        l=i+1\n",
      "        im = Image.open(path+'/'+'Data'+ID+'_'+str(l)+'.tif')\n",
      "        tt = np.array(im)\n",
      "        if i in liston:\n",
      "            AVOFF=AVOFF+tt\n",
      "            j=j+1\n",
      "        else:\n",
      "            AVON=AVON+tt\n",
      "            k=k+1       \n",
      "            \n",
      "    AVOFF=np.uint16(AVOFF/j)\n",
      "    AVON=np.uint16(AVON/k)\n",
      "\n",
      "\n",
      "    #data = numpy.zeros((1024,1024),numpy.uint16)\n",
      "    #h,w = data.shape\n",
      "    #for i in range(w):\n",
      "    #    data[:,i] = numpy.arange(h)\n",
      "\n",
      "    #tiff = TIFFimage(AVOFF, description='')\n",
      "    #tiff.write_file(outpath+'/'+'Avoff.tif', compression='lzw')\n",
      "    #del tiff\n",
      "    \n",
      "    tiff.imsave(outpath+'/'+'Avoff.tif', AVOFF)\n",
      "    tiff.imsave(outpath+'/'+'Avon.tif', AVON)    \n",
      "    #tiff = TIFFimage(AVON, description='')\n",
      "    #tiff.write_file(outpath+'/'+'Avon.tif', compression='lzw')\n",
      "    #del tiff    \n"
     ],
     "language": "python",
     "metadata": {},
     "outputs": [],
     "prompt_number": 109
    },
    {
     "cell_type": "code",
     "collapsed": false,
     "input": [
      "def getpath(ID):\n",
      "    \n",
      "    path1=\"/media/Seagate Backup Plus Drive/Data\"+ID\n",
      "    path2=\"/media/Seagate Expansion Drive/Data\"+ID\n",
      "\n",
      "    if os.path.exists(path1):\n",
      "        path=path1\n",
      "    else:\n",
      "        path=path2\n",
      "            \n",
      "    return path"
     ],
     "language": "python",
     "metadata": {},
     "outputs": [],
     "prompt_number": 55
    },
    {
     "cell_type": "code",
     "collapsed": false,
     "input": [
      "def makeoutfolder(ID):\n",
      "    outpath=\"/home/sophie/Desktop/stanford_lfanalyze_v0.4/examples/\"+ID     \n",
      "    if os.path.exists(outpath):\n",
      "        \"nope\"\n",
      "    else:\n",
      "        os.makedirs(\"/home/sophie/Desktop/stanford_lfanalyze_v0.4/examples/\"+ID)"
     ],
     "language": "python",
     "metadata": {},
     "outputs": [],
     "prompt_number": 31
    },
    {
     "cell_type": "code",
     "collapsed": false,
     "input": [
      "filename=\"/home/sophie/Desktop/ListeToAnalyze\"\n",
      "Listfile = open(filename, 'r')\n",
      "ListToAnalyze = [line.split('\\n')[0] for line in Listfile.readlines()]"
     ],
     "language": "python",
     "metadata": {},
     "outputs": [],
     "prompt_number": 127
    },
    {
     "cell_type": "code",
     "collapsed": false,
     "input": [
      "for ID in ListToAnalyze:\n",
      "    \n",
      "    print(ID)\n",
      "    path=getpath(ID)\n",
      "    makeoutfolder(ID)\n",
      "    M=AvIm(path,ID)\n",
      "    SaveAvs(path,M,ID)\n",
      "    outpath=\"/home/sophie/Desktop/stanford_lfanalyze_v0.4/examples/\"+ID  \n",
      "    bashCommand = \"python /home/sophie/Desktop/stanford_lfanalyze_v0.4/lfcalibrate.py \"+outpath+'/'+\"Avon.tif --dark-frame \"+outpath+'/'+\"Avoff.tif --pixel-size 6.5 --pitch 125 --focal-length 1250 --magnification 20 --na 1.0 --tubelens-focal-length 180.0 --wavelength 510 --medium-index 1.33 --num-slices 40 --um-per-slice 6.0 --supersample 1 -o \"+outpath+'/'+ID+\"_ss1_f1250_6microns.lfc\"\n",
      "    process = subprocess.Popen(bashCommand.split(), stdout=subprocess.PIPE)\n",
      "    output = process.communicate()[0]\n",
      "    \n"
     ],
     "language": "python",
     "metadata": {},
     "outputs": [
      {
       "output_type": "stream",
       "stream": "stdout",
       "text": [
        "100125\n",
        "(2048, 2048)"
       ]
      },
      {
       "output_type": "stream",
       "stream": "stdout",
       "text": [
        "\n",
        "100121"
       ]
      },
      {
       "output_type": "stream",
       "stream": "stdout",
       "text": [
        "\n",
        "(2048, 2048)"
       ]
      },
      {
       "output_type": "stream",
       "stream": "stdout",
       "text": [
        "\n",
        "100111"
       ]
      },
      {
       "output_type": "stream",
       "stream": "stdout",
       "text": [
        "\n",
        "(1096, 2048)"
       ]
      },
      {
       "output_type": "stream",
       "stream": "stdout",
       "text": [
        "\n",
        "100112"
       ]
      },
      {
       "output_type": "stream",
       "stream": "stdout",
       "text": [
        "\n",
        "(512, 2048)"
       ]
      },
      {
       "output_type": "stream",
       "stream": "stdout",
       "text": [
        "\n",
        "100115"
       ]
      },
      {
       "output_type": "stream",
       "stream": "stdout",
       "text": [
        "\n",
        "(1024, 2048)"
       ]
      },
      {
       "output_type": "stream",
       "stream": "stdout",
       "text": [
        "\n",
        "100106"
       ]
      },
      {
       "output_type": "stream",
       "stream": "stdout",
       "text": [
        "\n",
        "(2048, 2048)"
       ]
      },
      {
       "output_type": "stream",
       "stream": "stdout",
       "text": [
        "\n",
        "100104"
       ]
      },
      {
       "output_type": "stream",
       "stream": "stdout",
       "text": [
        "\n",
        "(1024, 2048)"
       ]
      },
      {
       "output_type": "stream",
       "stream": "stdout",
       "text": [
        "\n",
        "100110"
       ]
      },
      {
       "output_type": "stream",
       "stream": "stdout",
       "text": [
        "\n",
        "(1024, 2048)"
       ]
      },
      {
       "output_type": "stream",
       "stream": "stdout",
       "text": [
        "\n"
       ]
      },
      {
       "ename": "KeyboardInterrupt",
       "evalue": "",
       "output_type": "pyerr",
       "traceback": [
        "\u001b[1;31m---------------------------------------------------------------------------\u001b[0m\n\u001b[1;31mKeyboardInterrupt\u001b[0m                         Traceback (most recent call last)",
        "\u001b[1;32m<ipython-input-124-46c4f5408981>\u001b[0m in \u001b[0;36m<module>\u001b[1;34m()\u001b[0m\n\u001b[0;32m      9\u001b[0m     \u001b[0mbashCommand\u001b[0m \u001b[1;33m=\u001b[0m \u001b[1;34m\"python /home/sophie/Desktop/stanford_lfanalyze_v0.4/lfcalibrate.py \"\u001b[0m\u001b[1;33m+\u001b[0m\u001b[0moutpath\u001b[0m\u001b[1;33m+\u001b[0m\u001b[1;34m'/'\u001b[0m\u001b[1;33m+\u001b[0m\u001b[1;34m\"Avon.tif --dark-frame \"\u001b[0m\u001b[1;33m+\u001b[0m\u001b[0moutpath\u001b[0m\u001b[1;33m+\u001b[0m\u001b[1;34m'/'\u001b[0m\u001b[1;33m+\u001b[0m\u001b[1;34m\"Avoff.tif --pixel-size 6.5 --pitch 125 --focal-length 1250 --magnification 20 --na 1.0 --tubelens-focal-length 180.0 --wavelength 510 --medium-index 1.33 --num-slices 40 --um-per-slice 6.0 --supersample 1 -o \"\u001b[0m\u001b[1;33m+\u001b[0m\u001b[0moutpath\u001b[0m\u001b[1;33m+\u001b[0m\u001b[1;34m'/'\u001b[0m\u001b[1;33m+\u001b[0m\u001b[0mID\u001b[0m\u001b[1;33m+\u001b[0m\u001b[1;34m\"_ss1_f1250_6microns.lfc\"\u001b[0m\u001b[1;33m\u001b[0m\u001b[0m\n\u001b[0;32m     10\u001b[0m     \u001b[0mprocess\u001b[0m \u001b[1;33m=\u001b[0m \u001b[0msubprocess\u001b[0m\u001b[1;33m.\u001b[0m\u001b[0mPopen\u001b[0m\u001b[1;33m(\u001b[0m\u001b[0mbashCommand\u001b[0m\u001b[1;33m.\u001b[0m\u001b[0msplit\u001b[0m\u001b[1;33m(\u001b[0m\u001b[1;33m)\u001b[0m\u001b[1;33m,\u001b[0m \u001b[0mstdout\u001b[0m\u001b[1;33m=\u001b[0m\u001b[0msubprocess\u001b[0m\u001b[1;33m.\u001b[0m\u001b[0mPIPE\u001b[0m\u001b[1;33m)\u001b[0m\u001b[1;33m\u001b[0m\u001b[0m\n\u001b[1;32m---> 11\u001b[1;33m     \u001b[0moutput\u001b[0m \u001b[1;33m=\u001b[0m \u001b[0mprocess\u001b[0m\u001b[1;33m.\u001b[0m\u001b[0mcommunicate\u001b[0m\u001b[1;33m(\u001b[0m\u001b[1;33m)\u001b[0m\u001b[1;33m[\u001b[0m\u001b[1;36m0\u001b[0m\u001b[1;33m]\u001b[0m\u001b[1;33m\u001b[0m\u001b[0m\n\u001b[0m\u001b[0;32m     12\u001b[0m \u001b[1;33m\u001b[0m\u001b[0m\n",
        "\u001b[1;32m/usr/lib/python2.7/subprocess.pyc\u001b[0m in \u001b[0;36mcommunicate\u001b[1;34m(self, input)\u001b[0m\n\u001b[0;32m    744\u001b[0m                 \u001b[0mself\u001b[0m\u001b[1;33m.\u001b[0m\u001b[0mstdin\u001b[0m\u001b[1;33m.\u001b[0m\u001b[0mclose\u001b[0m\u001b[1;33m(\u001b[0m\u001b[1;33m)\u001b[0m\u001b[1;33m\u001b[0m\u001b[0m\n\u001b[0;32m    745\u001b[0m             \u001b[1;32melif\u001b[0m \u001b[0mself\u001b[0m\u001b[1;33m.\u001b[0m\u001b[0mstdout\u001b[0m\u001b[1;33m:\u001b[0m\u001b[1;33m\u001b[0m\u001b[0m\n\u001b[1;32m--> 746\u001b[1;33m                 \u001b[0mstdout\u001b[0m \u001b[1;33m=\u001b[0m \u001b[0m_eintr_retry_call\u001b[0m\u001b[1;33m(\u001b[0m\u001b[0mself\u001b[0m\u001b[1;33m.\u001b[0m\u001b[0mstdout\u001b[0m\u001b[1;33m.\u001b[0m\u001b[0mread\u001b[0m\u001b[1;33m)\u001b[0m\u001b[1;33m\u001b[0m\u001b[0m\n\u001b[0m\u001b[0;32m    747\u001b[0m                 \u001b[0mself\u001b[0m\u001b[1;33m.\u001b[0m\u001b[0mstdout\u001b[0m\u001b[1;33m.\u001b[0m\u001b[0mclose\u001b[0m\u001b[1;33m(\u001b[0m\u001b[1;33m)\u001b[0m\u001b[1;33m\u001b[0m\u001b[0m\n\u001b[0;32m    748\u001b[0m             \u001b[1;32melif\u001b[0m \u001b[0mself\u001b[0m\u001b[1;33m.\u001b[0m\u001b[0mstderr\u001b[0m\u001b[1;33m:\u001b[0m\u001b[1;33m\u001b[0m\u001b[0m\n",
        "\u001b[1;32m/usr/lib/python2.7/subprocess.pyc\u001b[0m in \u001b[0;36m_eintr_retry_call\u001b[1;34m(func, *args)\u001b[0m\n\u001b[0;32m    476\u001b[0m     \u001b[1;32mwhile\u001b[0m \u001b[0mTrue\u001b[0m\u001b[1;33m:\u001b[0m\u001b[1;33m\u001b[0m\u001b[0m\n\u001b[0;32m    477\u001b[0m         \u001b[1;32mtry\u001b[0m\u001b[1;33m:\u001b[0m\u001b[1;33m\u001b[0m\u001b[0m\n\u001b[1;32m--> 478\u001b[1;33m             \u001b[1;32mreturn\u001b[0m \u001b[0mfunc\u001b[0m\u001b[1;33m(\u001b[0m\u001b[1;33m*\u001b[0m\u001b[0margs\u001b[0m\u001b[1;33m)\u001b[0m\u001b[1;33m\u001b[0m\u001b[0m\n\u001b[0m\u001b[0;32m    479\u001b[0m         \u001b[1;32mexcept\u001b[0m \u001b[1;33m(\u001b[0m\u001b[0mOSError\u001b[0m\u001b[1;33m,\u001b[0m \u001b[0mIOError\u001b[0m\u001b[1;33m)\u001b[0m \u001b[1;32mas\u001b[0m \u001b[0me\u001b[0m\u001b[1;33m:\u001b[0m\u001b[1;33m\u001b[0m\u001b[0m\n\u001b[0;32m    480\u001b[0m             \u001b[1;32mif\u001b[0m \u001b[0me\u001b[0m\u001b[1;33m.\u001b[0m\u001b[0merrno\u001b[0m \u001b[1;33m==\u001b[0m \u001b[0merrno\u001b[0m\u001b[1;33m.\u001b[0m\u001b[0mEINTR\u001b[0m\u001b[1;33m:\u001b[0m\u001b[1;33m\u001b[0m\u001b[0m\n",
        "\u001b[1;31mKeyboardInterrupt\u001b[0m: "
       ]
      }
     ],
     "prompt_number": 124
    },
    {
     "cell_type": "code",
     "collapsed": false,
     "input": [
      "ID='100110'\n",
      "outpath=\"/home/sophie/Desktop/stanford_lfanalyze_v0.4/examples/\"+ID  \n",
      "bashCommand = \"python /home/sophie/Desktop/stanford_lfanalyze_v0.4/lfcalibrate.py \"+outpath+'/'+\"Avon.tif --dark-frame \"+outpath+'/'+\"Avoff.tif --pixel-size 6.5 --pitch 125 --focal-length 1250 --magnification 20 --na 1.0 --tubelens-focal-length 180.0 --wavelength 510 --medium-index 1.33 --num-slices 40 --um-per-slice 6.0 --supersample 1 -o \"+outpath+'/'+ID+\"_ss1_f1250_6microns.lfc\"\n",
      "process = subprocess.Popen(bashCommand.split(), stdout=subprocess.PIPE)\n",
      "output = process.communicate()[0]"
     ],
     "language": "python",
     "metadata": {},
     "outputs": [],
     "prompt_number": 125
    },
    {
     "cell_type": "code",
     "collapsed": false,
     "input": [
      "for ID in ListToAnalyze:\n",
      "    #path=getpath(ID)\n",
      "    #pathfile=path+'/'+\"Data\"+ID+\"_1500.tif\" \n",
      "    #pathfile=str.replace(pathfile,\" \",\"\\ \")\n",
      "    #print(pathfile)\n",
      "    outpath=\"/home/sophie/Desktop/stanford_lfanalyze_v0.4/examples/\"+ID+'/'\n",
      "    #os.system('mv \"%s\" \"%s\"' % (pathfile,outpath) )\n",
      "    bashCommand = \"/usr/bin/python2.7 /home/sophie/Desktop/stanford_lfanalyze_v0.4/lfdeconvolve.py \"+outpath+\"Data\"+ID+\"_1500.tif -c \"+outpath+ID+\"_ss1_f1250_6microns.lfc -o \"+outpath+ID+\"ss1.tif\"\n",
      "    process = subprocess.Popen(bashCommand.split(), stdout=subprocess.PIPE)\n",
      "    output = process.communicate()[0]"
     ],
     "language": "python",
     "metadata": {},
     "outputs": [],
     "prompt_number": 165
    },
    {
     "cell_type": "raw",
     "metadata": {},
     "source": [
      "outpath=\"/home/sophie/Desktop/stanford_lfanalyze_v0.4/examples/\"+ID  \n",
      "    \n",
      "  "
     ]
    },
    {
     "cell_type": "code",
     "collapsed": false,
     "input": [
      "SaveAvs(path,M,ID)"
     ],
     "language": "python",
     "metadata": {},
     "outputs": [],
     "prompt_number": 110
    },
    {
     "cell_type": "code",
     "collapsed": false,
     "input": [
      "process = subprocess.Popen(bashCommand.split(), stdout=subprocess.PIPE)\n",
      "output = process.communicate()[0]"
     ],
     "language": "python",
     "metadata": {},
     "outputs": []
    },
    {
     "cell_type": "code",
     "collapsed": false,
     "input": [],
     "language": "python",
     "metadata": {},
     "outputs": []
    },
    {
     "cell_type": "code",
     "collapsed": false,
     "input": [],
     "language": "python",
     "metadata": {},
     "outputs": []
    },
    {
     "cell_type": "code",
     "collapsed": false,
     "input": [],
     "language": "python",
     "metadata": {},
     "outputs": []
    }
   ],
   "metadata": {}
  }
 ]
}