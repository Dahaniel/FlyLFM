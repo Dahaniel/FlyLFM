{
 "metadata": {
  "name": "863_150"
 },
 "nbformat": 3,
 "nbformat_minor": 0,
 "worksheets": [
  {
   "cells": [
    {
     "cell_type": "code",
     "collapsed": false,
     "input": [
      "clear all"
     ],
     "language": "python",
     "metadata": {},
     "outputs": [],
     "prompt_number": 1
    },
    {
     "cell_type": "code",
     "collapsed": false,
     "input": [
      "import matplotlib\n",
      "import numpy as np\n",
      "import matplotlib.pyplot as plt\n",
      "from scipy import stats\n",
      "from scipy import io\n",
      "%matplotlib inline \n",
      "import pylab"
     ],
     "language": "python",
     "metadata": {},
     "outputs": [],
     "prompt_number": 2
    },
    {
     "cell_type": "code",
     "collapsed": false,
     "input": [
      "from Tkinter import Tk\n",
      "from tkFileDialog import askdirectory\n",
      "\n",
      "Tk().withdraw() # we don't want a full GUI, so keep the root window from appearing\n",
      "foldername = askdirectory() # show an \"Open\" dialog box and return the path to the selected file\n",
      "print(foldername)"
     ],
     "language": "python",
     "metadata": {},
     "outputs": [],
     "prompt_number": 3
    },
    {
     "cell_type": "code",
     "collapsed": false,
     "input": [
      "f = open(foldername+\"/melodic_mix\",'r')"
     ],
     "language": "python",
     "metadata": {},
     "outputs": [],
     "prompt_number": 4
    },
    {
     "cell_type": "code",
     "collapsed": false,
     "input": [
      "lines = list(f)"
     ],
     "language": "python",
     "metadata": {},
     "outputs": [],
     "prompt_number": 5
    },
    {
     "cell_type": "code",
     "collapsed": false,
     "input": [
      "myarray = np.asarray(lines)"
     ],
     "language": "python",
     "metadata": {},
     "outputs": [],
     "prompt_number": 6
    },
    {
     "cell_type": "code",
     "collapsed": false,
     "input": [
      "for i in range(len(myarray)):\n",
      "    if i==0:\n",
      "        DTa=np.fromstring(myarray[i],dtype='float32',sep=' ')\n",
      "    else:\n",
      "        A=np.fromstring(myarray[i],dtype='float32',sep=' ')\n",
      "        DTa=np.vstack((DTa,A))"
     ],
     "language": "python",
     "metadata": {},
     "outputs": [],
     "prompt_number": 7
    },
    {
     "cell_type": "code",
     "collapsed": false,
     "input": [
      "DTa.shape"
     ],
     "language": "python",
     "metadata": {},
     "outputs": [],
     "prompt_number": 8
    },
    {
     "cell_type": "code",
     "collapsed": false,
     "input": [
      "DT=DTa"
     ],
     "language": "python",
     "metadata": {},
     "outputs": [],
     "prompt_number": 9
    },
    {
     "cell_type": "code",
     "collapsed": false,
     "input": [
      "import nibabel as nb"
     ],
     "language": "python",
     "metadata": {},
     "outputs": [],
     "prompt_number": 10
    },
    {
     "cell_type": "code",
     "collapsed": false,
     "input": [
      "img1 = nb.load(foldername+'/melodic_IC.nii.gz')"
     ],
     "language": "python",
     "metadata": {},
     "outputs": [],
     "prompt_number": 11
    },
    {
     "cell_type": "code",
     "collapsed": false,
     "input": [
      "data = img1.get_data()"
     ],
     "language": "python",
     "metadata": {},
     "outputs": [],
     "prompt_number": 12
    },
    {
     "cell_type": "code",
     "collapsed": false,
     "input": [
      "S=data.shape"
     ],
     "language": "python",
     "metadata": {},
     "outputs": [],
     "prompt_number": 13
    },
    {
     "cell_type": "code",
     "collapsed": false,
     "input": [
      "S"
     ],
     "language": "python",
     "metadata": {},
     "outputs": [],
     "prompt_number": 14
    },
    {
     "cell_type": "code",
     "collapsed": false,
     "input": [
      "Demean=np.zeros(S)\n",
      "Dmaps=np.zeros(S)\n",
      "Dvar=np.zeros(S)\n",
      "Var=np.zeros(S[3])\n",
      "D2=np.zeros([S[0],S[1],5,S[3]])\n",
      "Tvar=np.zeros(S[3])"
     ],
     "language": "python",
     "metadata": {},
     "outputs": [],
     "prompt_number": 15
    },
    {
     "cell_type": "code",
     "collapsed": false,
     "input": [
      "for i in range(S[3]):\n",
      "    Demean[:,:,:,i]=data[:,:,:,i]-np.mean(np.mean(np.mean(data[:,:,:,i],0),0),0)"
     ],
     "language": "python",
     "metadata": {},
     "outputs": [],
     "prompt_number": 16
    },
    {
     "cell_type": "code",
     "collapsed": false,
     "input": [
      "for i in range(S[3]):\n",
      "    Dsq=np.reshape(Demean[:,:,:,i],S[0]*S[1]*S[2])\n",
      "    Var[i]=np.sqrt(np.var(Dsq))\n",
      "    Dvar=Demean[:,:,:,i]/Var[i]\n",
      "    Dmaps[:,:,:,i]=Dvar-2\n",
      "Dmaps[Dmaps<0]=0"
     ],
     "language": "python",
     "metadata": {},
     "outputs": [],
     "prompt_number": 17
    },
    {
     "cell_type": "code",
     "collapsed": false,
     "input": [
      "Order=np.argsort(Var)[::-1]"
     ],
     "language": "python",
     "metadata": {},
     "outputs": [],
     "prompt_number": 18
    },
    {
     "cell_type": "code",
     "collapsed": false,
     "input": [
      "datao=data[:,:,:,Order[:]]\n",
      "Dmapso=Dmaps[:,:,:,Order[:]]"
     ],
     "language": "python",
     "metadata": {},
     "outputs": [],
     "prompt_number": 19
    },
    {
     "cell_type": "code",
     "collapsed": false,
     "input": [
      "Varor=Var[Order]"
     ],
     "language": "python",
     "metadata": {},
     "outputs": [],
     "prompt_number": 20
    },
    {
     "cell_type": "code",
     "collapsed": false,
     "input": [
      "plt.plot(Varor)"
     ],
     "language": "python",
     "metadata": {},
     "outputs": [],
     "prompt_number": 21
    },
    {
     "cell_type": "code",
     "collapsed": false,
     "input": [
      "from nifti import NiftiImage"
     ],
     "language": "python",
     "metadata": {},
     "outputs": [],
     "prompt_number": 22
    },
    {
     "cell_type": "code",
     "collapsed": false,
     "input": [
      "# from http://stackoverflow.com/questions/3579568/choosing-a-file-in-python-with-simple-dialog\n",
      "from Tkinter import Tk\n",
      "from tkFileDialog import askopenfilename\n",
      "\n",
      "Tk().withdraw() # we don't want a full GUI, so keep the root window from appearing\n",
      "filenameo = askopenfilename() # show an \"Open\" dialog box and return the path to the selected file\n",
      "print(filenameo)\n",
      "nim=NiftiImage(filenameo)\n",
      "global Do\n",
      "Do=nim.data"
     ],
     "language": "python",
     "metadata": {},
     "outputs": [],
     "prompt_number": 23
    },
    {
     "cell_type": "code",
     "collapsed": false,
     "input": [
      "So=Do.shape\n",
      "So"
     ],
     "language": "python",
     "metadata": {},
     "outputs": [],
     "prompt_number": 24
    },
    {
     "cell_type": "code",
     "collapsed": false,
     "input": [
      "TS_ROI=np.zeros([S[3],So[0]])\n",
      "for j in range(S[3]):\n",
      "    for k in range(So[0]):\n",
      "        TS_ROI[j][k]=sum(sum(sum(sum([Do[k][:][:][:]*Dmaps[:,:,:,j].T]))))\n",
      "    A=TS_ROI[j][:]\n",
      "    V=np.sqrt(np.var(A))\n",
      "    TS_ROI[j][:]=A/V"
     ],
     "language": "python",
     "metadata": {},
     "outputs": [],
     "prompt_number": 25
    },
    {
     "cell_type": "code",
     "collapsed": false,
     "input": [
      "my_cmap=plt.cm.jet\n",
      "my_cmap.set_bad(alpha=0)\n",
      "Good_ICs=np.zeros(S[3])\n",
      "Label_ICs=[]\n",
      "pylab.rcParams['figure.figsize'] = (13, 2.5)"
     ],
     "language": "python",
     "metadata": {},
     "outputs": [],
     "prompt_number": 26
    },
    {
     "cell_type": "code",
     "collapsed": false,
     "input": [
      "# from http://stackoverflow.com/questions/3579568/choosing-a-file-in-python-with-simple-dialog\n",
      "from Tkinter import Tk\n",
      "from tkFileDialog import askopenfilename\n",
      "\n",
      "Tk().withdraw() # we don't want a full GUI, so keep the root window from appearing\n",
      "filenamet = askopenfilename() # show an \"Open\" dialog box and return the path to the selected file\n",
      "print(filenamet)\n",
      "nimt=NiftiImage(filenamet)\n",
      "Dtemp=np.squeeze(nimt.data.T)\n",
      "Dtemp.shape"
     ],
     "language": "python",
     "metadata": {},
     "outputs": [],
     "prompt_number": 27
    },
    {
     "cell_type": "code",
     "collapsed": false,
     "input": [
      "%%javascript\n",
      "IPython.OutputArea.auto_scroll_threshold =4000;"
     ],
     "language": "python",
     "metadata": {},
     "outputs": [],
     "prompt_number": 28
    },
    {
     "cell_type": "code",
     "collapsed": false,
     "input": [
      "if S[2]>5:\n",
      "    Nstack=5\n",
      "    Int100=[(i+1)*100/Nstack for i in range(Nstack)]\n",
      "    Percs=np.percentile(range(S[2]),Int100)\n",
      "    Indices=np.split(range(S[2]),Percs)\n",
      "    D1=np.zeros([S[0],S[1],Nstack])\n",
      "    Dmean=Dtemp[:,:,range(Nstack)]\n",
      "    for i in range(Nstack):\n",
      "        Vmean=np.mean(Dtemp[:,:,Indices[i]],2)\n",
      "        #Dmean[:,:,i]=np.max(Vmean,0)\n",
      "        Dmean[:,:,i]=Vmean\n",
      "else:\n",
      "    Nstack=S[2]\n",
      "    D1=np.zeros([S[0],S[1],S[2]])\n",
      "    Dmean=data[:,:,range(S[2])]  \n",
      "    Dmean=np.squeeze(Dtemp[:,:,:])"
     ],
     "language": "python",
     "metadata": {},
     "outputs": [],
     "prompt_number": 29
    },
    {
     "cell_type": "code",
     "collapsed": false,
     "input": [
      "for j in range(S[3]):\n",
      "\n",
      "    if S[2]>5:\n",
      "        for i in range(Nstack):\n",
      "            V=Dmaps[:,:,Indices[i],Order[j]]\n",
      "            D1[:,:,i]=np.max(V,2)\n",
      "        D2[:,:,:,j]=D1\n",
      "        D1[D1==0]=np.nan\n",
      "           \n",
      "    else:\n",
      "        for i in range(S[2]):\n",
      "            V=Dmaps[:,:,i,Order[j]]\n",
      "            D1[:,:,i]=V \n",
      "            \n",
      "\n",
      "    print(j)\n",
      "    for i in range(Nstack):\n",
      "        plt.subplot(1,5,i+1)\n",
      "        plt.imshow(Dmean[:,:,i],cmap=plt.cm.gray)\n",
      "        plt.imshow(D1[:,:,i], cmap=my_cmap,interpolation='none')\n",
      "        frame1 = plt.gca()\n",
      "        frame1.axes.get_xaxis().set_visible(False)\n",
      "        frame1.axes.get_yaxis().set_visible(False)\n",
      "        \n",
      "    plt.show()\n",
      "    \n",
      "    plt.plot(TS_ROI[Order[j],:])\n",
      "    plt.plot(DT[:,Order[j]]+2)\n",
      "    plt.show()\n",
      "    \n",
      "    Label_ICs.append(raw_input())\n",
      "    if Label_ICs[j]=='':\n",
      "        Good_ICs[j]=0\n",
      "    else:\n",
      "        Good_ICs[j]=1\n",
      "        \n",
      "        "
     ],
     "language": "python",
     "metadata": {},
     "outputs": [],
     "prompt_number": 30
    },
    {
     "cell_type": "code",
     "collapsed": false,
     "input": [
      "D2.shape"
     ],
     "language": "python",
     "metadata": {},
     "outputs": [],
     "prompt_number": 31
    },
    {
     "cell_type": "code",
     "collapsed": false,
     "input": [
      "D2=Dmaps[:,:,:,Order[:]]"
     ],
     "language": "python",
     "metadata": {},
     "outputs": [],
     "prompt_number": 32
    },
    {
     "cell_type": "code",
     "collapsed": false,
     "input": [
      "set(Label_ICs)"
     ],
     "language": "python",
     "metadata": {},
     "outputs": [],
     "prompt_number": 33
    },
    {
     "cell_type": "code",
     "collapsed": false,
     "input": [
      "if len(Label_ICs)<S[3]:\n",
      "    for j in range(S[3]-len(Label_ICs)):\n",
      "      Label_ICs.append('')  "
     ],
     "language": "python",
     "metadata": {},
     "outputs": [],
     "prompt_number": 34
    },
    {
     "cell_type": "code",
     "collapsed": false,
     "input": [
      "Dict={'a':0,'Co':1,'co':1,'CO':1,'TM':1,'t':1,'Tm':1,'T':1,'Mt':2,'O':2,'VLP':13,'OG':3,'A':5,'G':4,'pn':5,'PN':5,'PNMB':5,'PI':5,'CA':5,'L':5,'LH':5,'MBLH':5,'l':5,'iPN':5,'KCMB':7,'KC':7,'kc':7,'M':7,'MB':8,'FB':9,'EB':10,'eb':10,'C':9,'c':11,'PBEB':11,'PB':11,'pb':11,'AMMC':13,'V':12,'GEG':13,'S':13,'s':13,'PS':13,'I':12,'i':12,'D':15,'CB':15,'DCB':15,'':16,'0':16}"
     ],
     "language": "python",
     "metadata": {},
     "outputs": [],
     "prompt_number": 35
    },
    {
     "cell_type": "code",
     "collapsed": false,
     "input": [
      "Translated=[Dict[X] for X in Label_ICs]"
     ],
     "language": "python",
     "metadata": {},
     "outputs": [],
     "prompt_number": 36
    },
    {
     "cell_type": "code",
     "collapsed": false,
     "input": [
      "G=Good_ICs.tolist();"
     ],
     "language": "python",
     "metadata": {},
     "outputs": [],
     "prompt_number": 37
    },
    {
     "cell_type": "code",
     "collapsed": false,
     "input": [
      "len(Good_ICs)"
     ],
     "language": "python",
     "metadata": {},
     "outputs": [],
     "prompt_number": 38
    },
    {
     "cell_type": "code",
     "collapsed": false,
     "input": [
      "G.count(1)"
     ],
     "language": "python",
     "metadata": {},
     "outputs": [],
     "prompt_number": 39
    },
    {
     "cell_type": "code",
     "collapsed": false,
     "input": [
      "where_are_NaNs = np.isnan(D2)\n",
      "\n",
      "D2[where_are_NaNs] = 0"
     ],
     "language": "python",
     "metadata": {},
     "outputs": [],
     "prompt_number": 40
    },
    {
     "cell_type": "code",
     "collapsed": false,
     "input": [
      "D3=np.zeros([S[0],S[1],5,S[3]])"
     ],
     "language": "python",
     "metadata": {},
     "outputs": [],
     "prompt_number": 41
    },
    {
     "cell_type": "code",
     "collapsed": false,
     "input": [
      "if S[2]>5:\n",
      "    for i in range(5):\n",
      "        D3[:,:,i,:]=np.mean(D2[:,:,Indices[i],:],2)"
     ],
     "language": "python",
     "metadata": {},
     "outputs": [],
     "prompt_number": 42
    },
    {
     "cell_type": "code",
     "collapsed": false,
     "input": [
      "if S[2]>5:\n",
      "    Final_map=np.zeros([S[0],S[1],5,3])\n",
      "    Fmaps=np.zeros([S[0],S[1],5,3])\n",
      "else:\n",
      "    Final_map=np.zeros([S[0],S[1],3])\n",
      "    Fmaps=np.zeros([S[0],S[1],3])    \n",
      "C=np.zeros([S[3],3])"
     ],
     "language": "python",
     "metadata": {},
     "outputs": [],
     "prompt_number": 43
    },
    {
     "cell_type": "code",
     "collapsed": false,
     "input": [
      "for j in range(S[3]):    \n",
      "    if Good_ICs[j]:\n",
      "        C[j,:]=np.squeeze(np.random.rand(3,1))\n",
      "        for k in range(3):\n",
      "            if S[2]>5:\n",
      "                M=np.max(np.squeeze(np.reshape(D3[:,:,:,j],S[0]*S[1]*5)))\n",
      "            else:\n",
      "                M=np.max(np.squeeze(np.reshape(Dmaps[:,:,:,j],S[0]*S[1]*S[2])))\n",
      "            Fmaps[:,:,:,k]=0.55*D3[:,:,:,j]*C[j,k]/np.max(np.squeeze(np.reshape(D3[:,:,:,j]*np.max(C[j,:]),S[0]*S[1]*5)))\n",
      "        Final_map=Final_map+Fmaps"
     ],
     "language": "python",
     "metadata": {},
     "outputs": [],
     "prompt_number": 44
    },
    {
     "cell_type": "code",
     "collapsed": false,
     "input": [
      "pylab.rcParams['figure.figsize'] = (18, 5)\n",
      "\n",
      "if S[2]>5:\n",
      "    N=Nstack\n",
      "else:\n",
      "    N=S[2]\n",
      "for i in range(N):\n",
      "        plt.subplot(1,N,i+1)\n",
      "        plt.imshow(Final_map[:,:,i]) \n",
      "        frame1 = plt.gca()\n",
      "        frame1.axes.get_xaxis().set_visible(False)\n",
      "        frame1.axes.get_yaxis().set_visible(False)"
     ],
     "language": "python",
     "metadata": {},
     "outputs": [],
     "prompt_number": 45
    },
    {
     "cell_type": "code",
     "collapsed": false,
     "input": [
      "pylab.rcParams['figure.figsize'] = (10, 14)\n",
      "h=5\n",
      "i=0\n",
      "\n",
      "for j in range(S[3]):\n",
      "    if Good_ICs[j]:\n",
      "        plt.plot((DT[:,Order[j]]+h*i),color=C[j,:])\n",
      "        i=i+1\n",
      "\n",
      "plt.show()"
     ],
     "language": "python",
     "metadata": {},
     "outputs": [],
     "prompt_number": 46
    },
    {
     "cell_type": "code",
     "collapsed": false,
     "input": [
      "List1=[(Translated[i],i) for i in range(S[3])]"
     ],
     "language": "python",
     "metadata": {},
     "outputs": [],
     "prompt_number": 47
    },
    {
     "cell_type": "code",
     "collapsed": false,
     "input": [
      "Newlist=sorted(List1, key=lambda List1: List1[0])"
     ],
     "language": "python",
     "metadata": {},
     "outputs": [],
     "prompt_number": 48
    },
    {
     "cell_type": "code",
     "collapsed": false,
     "input": [
      "Neworder=[Newlist[i][1] for i in range(S[3])  if Newlist[i][0] != 16]"
     ],
     "language": "python",
     "metadata": {},
     "outputs": [],
     "prompt_number": 49
    },
    {
     "cell_type": "code",
     "collapsed": false,
     "input": [
      "Neworder"
     ],
     "language": "python",
     "metadata": {},
     "outputs": [],
     "prompt_number": 50
    },
    {
     "cell_type": "code",
     "collapsed": false,
     "input": [
      "Order[Neworder]"
     ],
     "language": "python",
     "metadata": {},
     "outputs": [],
     "prompt_number": 51
    },
    {
     "cell_type": "code",
     "collapsed": false,
     "input": [
      "[Label_ICs[Neworder[i]] for i in range(len(Neworder))]  "
     ],
     "language": "python",
     "metadata": {},
     "outputs": [],
     "prompt_number": 52
    },
    {
     "cell_type": "code",
     "collapsed": false,
     "input": [
      "NewDT=DT[:,Order[Neworder[:]]].T"
     ],
     "language": "python",
     "metadata": {},
     "outputs": [],
     "prompt_number": 53
    },
    {
     "cell_type": "code",
     "collapsed": false,
     "input": [
      "NewDT.shape"
     ],
     "language": "python",
     "metadata": {},
     "outputs": [],
     "prompt_number": 54
    },
    {
     "cell_type": "code",
     "collapsed": false,
     "input": [
      "for j in range(len(Neworder)):\n",
      "    A=NewDT[:,j]\n",
      "    V=np.sqrt(np.var(A))\n",
      "    NewDT[:,j]=A/V"
     ],
     "language": "python",
     "metadata": {},
     "outputs": [],
     "prompt_number": 55
    },
    {
     "cell_type": "code",
     "collapsed": false,
     "input": [
      "C1=np.zeros([6,3])\n",
      "C1[0][:]=(1,0,0)\n",
      "C1[1][:]=(0,1,0)\n",
      "C1[2][:]=(0,0,1)\n",
      "C1[3][:]=(0.8,0.8,0)\n",
      "C1[4][:]=(0,1,1)\n",
      "C1[5][:]=(1,0,1)"
     ],
     "language": "python",
     "metadata": {},
     "outputs": [],
     "prompt_number": 56
    },
    {
     "cell_type": "code",
     "collapsed": false,
     "input": [
      "S1=DT.shape\n",
      "S1"
     ],
     "language": "python",
     "metadata": {},
     "outputs": [],
     "prompt_number": 57
    },
    {
     "cell_type": "code",
     "collapsed": false,
     "input": [
      "h=5\n",
      "pylab.rcParams['figure.figsize'] = (7, 14)\n",
      "i=0\n",
      "t=[j*0.005 for j in range(S1[0])]\n",
      "\n",
      "for j in range(len(Neworder)):\n",
      "        plt.plot(t,NewDT[j,:]+h*j,color=C1[i%6][:])\n",
      "        i=i+1\n",
      "plt.ylim([-3,h*j+5])\n",
      "\n",
      "frame1=plt.gca()\n",
      "frame1.axes.get_yaxis().set_ticks([])\n",
      "matplotlib.rcParams.update({'font.size': 18})\n",
      "plt.show()"
     ],
     "language": "python",
     "metadata": {},
     "outputs": [],
     "prompt_number": 58
    },
    {
     "cell_type": "code",
     "collapsed": false,
     "input": [
      "Newmaps=Dmaps[:,:,:,Order[Neworder[:]]]"
     ],
     "language": "python",
     "metadata": {},
     "outputs": [],
     "prompt_number": 59
    },
    {
     "cell_type": "code",
     "collapsed": false,
     "input": [
      "L=len(set([Translated[Neworder[i]] for i in range(len(Neworder))]))"
     ],
     "language": "python",
     "metadata": {},
     "outputs": [],
     "prompt_number": 60
    },
    {
     "cell_type": "code",
     "collapsed": false,
     "input": [
      "[Translated[Neworder[i]] for i in range(len(Neworder))]"
     ],
     "language": "python",
     "metadata": {},
     "outputs": [],
     "prompt_number": 61
    },
    {
     "cell_type": "code",
     "collapsed": false,
     "input": [
      "Regionmaps=np.zeros([S[0],S[1],L,3])\n",
      "Datasort=np.zeros([S[0],S[1],S[2],L,3])"
     ],
     "language": "python",
     "metadata": {},
     "outputs": [],
     "prompt_number": 62
    },
    {
     "cell_type": "code",
     "collapsed": false,
     "input": [
      "Regionname=[]"
     ],
     "language": "python",
     "metadata": {},
     "outputs": [],
     "prompt_number": 63
    },
    {
     "cell_type": "code",
     "collapsed": false,
     "input": [
      "Newmaps.shape"
     ],
     "language": "python",
     "metadata": {},
     "outputs": [],
     "prompt_number": 64
    },
    {
     "cell_type": "code",
     "collapsed": false,
     "input": [
      "Nstack"
     ],
     "language": "python",
     "metadata": {},
     "outputs": [],
     "prompt_number": 65
    },
    {
     "cell_type": "code",
     "collapsed": false,
     "input": [
      "Mapsordered=datao[:,:,:,Neworder[:]]\n",
      "mapfilename=foldername+'mapsordered.nii'\n",
      "Mapsordered2=np.transpose(Mapsordered,(3,2,1,0))\n",
      "nimap = NiftiImage(Mapsordered2)\n",
      "nimap.save(mapfilename)"
     ],
     "language": "python",
     "metadata": {},
     "outputs": [],
     "prompt_number": 66
    },
    {
     "cell_type": "code",
     "collapsed": false,
     "input": [
      "DMapsordered=Dmapso[:,:,:,Neworder[:]]\n",
      "mapfilename=foldername+'zscoredmapsordered.nii'\n",
      "DMapsordered2=np.transpose(DMapsordered,(3,2,1,0))\n",
      "nimap = NiftiImage(DMapsordered2)\n",
      "nimap.save(mapfilename)"
     ],
     "language": "python",
     "metadata": {},
     "outputs": [],
     "prompt_number": 67
    },
    {
     "cell_type": "code",
     "collapsed": false,
     "input": [
      "j=0\n",
      "i=0\n",
      "k=Translated[Neworder[i]]\n",
      "m=0\n",
      "Regionname.append(Label_ICs[Neworder[i]])\n",
      "for i in range(len(Neworder)):\n",
      "    #C2=C1[i%6][:]\n",
      "    for l in range(3):\n",
      "        M=np.max(np.squeeze(np.reshape(Newmaps[:,:,:,i],S[0]*S[1]*S[2])))\n",
      "        Regionmaps[:,:,j,l]=Regionmaps[:,:,j,l]+0.7*np.max(DMapsordered[:,:,:,i],2)*C1[i%6][l]/M\n",
      "        Datasort[:,:,:,j,l]=Datasort[:,:,:,j,l]+Dmaps[:,:,:,Order[Neworder[i]]]*C1[i%6][l] \n",
      "    i=i+1\n",
      "    m=m+1\n",
      "    if i<len(Neworder):\n",
      "        k1=Translated[Neworder[i]]\n",
      "        \n",
      "    if k1 != k:\n",
      "        j=j+1\n",
      "        k=k1\n",
      "        m=0\n",
      "        Regionname.append(Label_ICs[Neworder[i]])"
     ],
     "language": "python",
     "metadata": {},
     "outputs": [],
     "prompt_number": 68
    },
    {
     "cell_type": "code",
     "collapsed": false,
     "input": [
      "Regionname"
     ],
     "language": "python",
     "metadata": {},
     "outputs": [],
     "prompt_number": 69
    },
    {
     "cell_type": "code",
     "collapsed": false,
     "input": [
      "Datasort.shape"
     ],
     "language": "python",
     "metadata": {},
     "outputs": [],
     "prompt_number": 70
    },
    {
     "cell_type": "code",
     "collapsed": false,
     "input": [
      "DMapscolor=np.sum(Datasort, axis=3)\n",
      "DMapscolor.shape"
     ],
     "language": "python",
     "metadata": {},
     "outputs": [],
     "prompt_number": 71
    },
    {
     "cell_type": "code",
     "collapsed": false,
     "input": [
      "mapfilename=foldername+'zscoredmapscolor.nii'\n",
      "DMapscolor2=np.transpose(DMapscolor,(3,2,1,0))"
     ],
     "language": "python",
     "metadata": {},
     "outputs": [],
     "prompt_number": 72
    },
    {
     "cell_type": "code",
     "collapsed": false,
     "input": [
      "DMapscolor2.shape"
     ],
     "language": "python",
     "metadata": {},
     "outputs": [],
     "prompt_number": 73
    },
    {
     "cell_type": "code",
     "collapsed": false,
     "input": [
      "nimap = NiftiImage(DMapscolor2)\n",
      "nimap.save(mapfilename)"
     ],
     "language": "python",
     "metadata": {},
     "outputs": [],
     "prompt_number": 74
    },
    {
     "cell_type": "code",
     "collapsed": false,
     "input": [
      "Dmeanproj=np.max(Dmean,2)"
     ],
     "language": "python",
     "metadata": {},
     "outputs": [],
     "prompt_number": 75
    },
    {
     "cell_type": "code",
     "collapsed": false,
     "input": [
      "Regionmaps[Regionmaps==0]=np.nan"
     ],
     "language": "python",
     "metadata": {},
     "outputs": [],
     "prompt_number": 76
    },
    {
     "cell_type": "code",
     "collapsed": false,
     "input": [
      "pylab.rcParams['figure.figsize'] = (7, 14)\n",
      "import scipy\n",
      "from scipy import ndimage\n",
      "#from skimage import color\n",
      "\n",
      "Dmeanprojrgb=np.dstack((Dmeanproj.T,Dmeanproj.T,Dmeanproj.T))\n",
      "\n",
      "for i in range(L):\n",
      "        plt.subplot(L,1,L-i)\n",
      "        #plt.imshow(0.5*Dmeanproj.T,cmap=plt.cm.gray)\n",
      "        #plt.imshow(0.05*Dmeanprojrgb)\n",
      "        plt.imshow(RegionmapsT[:,:,i])\n",
      "        #Rotated_Plot = ndimage.rotate(Regionmaps[:,:,i], -90)\n",
      "        #IM=plt.imshow(Rotated_Plot)\n",
      "        #Rotated_Plot2= plt.imshow(mp.max(Dmean,3),cmap=plt.cm.gray)\n",
      "        frame1 = plt.gca()\n",
      "        frame1.axes.get_xaxis().set_visible(False)\n",
      "        frame1.axes.get_yaxis().set_visible(False)\n",
      "        "
     ],
     "language": "python",
     "metadata": {},
     "outputs": [],
     "prompt_number": 77
    },
    {
     "cell_type": "code",
     "collapsed": false,
     "input": [
      "pylab.rcParams['figure.figsize'] = (7, 14)\n",
      "import scipy\n",
      "from scipy import ndimage\n",
      "\n",
      "for i in range(L):\n",
      "        plt.subplot(L,1,L-i)\n",
      "        Rotated_Plot = ndimage.rotate(Regionmaps[:,:,i], -90)\n",
      "        IM=plt.imshow(Rotated_Plot) \n",
      "        frame1 = plt.gca()\n",
      "        frame1.axes.get_xaxis().set_visible(False)\n",
      "        frame1.axes.get_yaxis().set_visible(False)"
     ],
     "language": "python",
     "metadata": {},
     "outputs": [],
     "prompt_number": 78
    },
    {
     "cell_type": "code",
     "collapsed": false,
     "input": [
      "j=0\n",
      "i=0\n",
      "k=Translated[Neworder[i]]\n",
      "m=0\n",
      "Regionname.append(Label_ICs[Neworder[i]])\n",
      "for i in range(len(Neworder)):\n",
      "    #C2=C1[i%6][:]\n",
      "    for l in range(3):\n",
      "        M=np.max(np.squeeze(np.reshape(Newmaps[:,:,:,i],S[0]*S[1]*S[2])))\n",
      "        Regionmaps[:,:,j,l]=Regionmaps[:,:,j,l]+0.7*np.max(DMapsordered[:,:,:,i],2)*C1[i%6][l]/M\n",
      "        Datasort[:,:,:,j,l]=Datasort[:,:,:,j,l]+Dmaps[:,:,:,Order[Neworder[i]]]*C1[i%6][l] \n",
      "    i=i+1\n",
      "    m=m+1\n",
      "    if i<len(Neworder):\n",
      "        k1=Translated[Neworder[i]]\n",
      "        \n",
      "    if k1 != k:\n",
      "        j=j+1\n",
      "        k=k1\n",
      "        m=0\n",
      "        Regionname.append(Label_ICs[Neworder[i]])"
     ],
     "language": "python",
     "metadata": {},
     "outputs": [],
     "prompt_number": 79
    },
    {
     "cell_type": "code",
     "collapsed": false,
     "input": [
      "pylab.rcParams['figure.figsize'] = (7, 14)\n",
      "import scipy\n",
      "from scipy import ndimage\n",
      "\n",
      "for i in range(L):\n",
      "        plt.subplot(L,1,L-i)\n",
      "        Rotated_Plot = ndimage.rotate(Regionmaps[:,:,i], -90)\n",
      "        IM=plt.imshow(Rotated_Plot) \n",
      "        frame1 = plt.gca()\n",
      "        frame1.axes.get_xaxis().set_visible(False)\n",
      "        frame1.axes.get_yaxis().set_visible(False)"
     ],
     "language": "python",
     "metadata": {},
     "outputs": [],
     "prompt_number": 80
    },
    {
     "cell_type": "code",
     "collapsed": false,
     "input": [
      "Regionmaps=np.zeros([S[0],S[1],L,3])\n",
      "Datasort=np.zeros([S[0],S[1],S[2],L,3])"
     ],
     "language": "python",
     "metadata": {},
     "outputs": [],
     "prompt_number": 81
    },
    {
     "cell_type": "code",
     "collapsed": false,
     "input": [
      "j=0\n",
      "i=0\n",
      "k=Translated[Neworder[i]]\n",
      "m=0\n",
      "Regionname.append(Label_ICs[Neworder[i]])\n",
      "for i in range(len(Neworder)):\n",
      "    #C2=C1[i%6][:]\n",
      "    for l in range(3):\n",
      "        M=np.max(np.squeeze(np.reshape(Newmaps[:,:,:,i],S[0]*S[1]*S[2])))\n",
      "        Regionmaps[:,:,j,l]=Regionmaps[:,:,j,l]+0.7*np.max(DMapsordered[:,:,:,i],2)*C1[i%6][l]/M\n",
      "        Datasort[:,:,:,j,l]=Datasort[:,:,:,j,l]+Dmaps[:,:,:,Order[Neworder[i]]]*C1[i%6][l] \n",
      "    i=i+1\n",
      "    m=m+1\n",
      "    if i<len(Neworder):\n",
      "        k1=Translated[Neworder[i]]\n",
      "        \n",
      "    if k1 != k:\n",
      "        j=j+1\n",
      "        k=k1\n",
      "        m=0\n",
      "        Regionname.append(Label_ICs[Neworder[i]])"
     ],
     "language": "python",
     "metadata": {},
     "outputs": [],
     "prompt_number": 82
    },
    {
     "cell_type": "code",
     "collapsed": false,
     "input": [
      "pylab.rcParams['figure.figsize'] = (7, 14)\n",
      "import scipy\n",
      "from scipy import ndimage\n",
      "\n",
      "for i in range(L):\n",
      "        plt.subplot(L,1,L-i)\n",
      "        Rotated_Plot = ndimage.rotate(Regionmaps[:,:,i], -90)\n",
      "        IM=plt.imshow(Rotated_Plot) \n",
      "        frame1 = plt.gca()\n",
      "        frame1.axes.get_xaxis().set_visible(False)\n",
      "        frame1.axes.get_yaxis().set_visible(False)"
     ],
     "language": "python",
     "metadata": {},
     "outputs": [],
     "prompt_number": 83
    },
    {
     "cell_type": "code",
     "collapsed": false,
     "input": [
      "import scipy.io as sio\n",
      "sio.savemat(foldername+'NewDT.mat',{'NewDT':NewDT})"
     ],
     "language": "python",
     "metadata": {},
     "outputs": [],
     "prompt_number": 84
    },
    {
     "cell_type": "code",
     "collapsed": false,
     "input": [
      "names=set([Label_ICs[Neworder[i]] for i in range(len(Neworder))])  \n",
      "for i in range(L):\n",
      "    regionfilename=foldername+Regionname[i]+'.nii'\n",
      "    D3=np.transpose(Datasort[:,:,:,i,:],(2,3,1,0))\n",
      "    nim = NiftiImage(D3)\n",
      "    nim.save(regionfilename)"
     ],
     "language": "python",
     "metadata": {},
     "outputs": [],
     "prompt_number": 85
    }
   ],
   "metadata": {}
  }
 ]
}